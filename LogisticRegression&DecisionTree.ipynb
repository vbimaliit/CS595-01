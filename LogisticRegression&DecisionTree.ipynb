{
 "cells": [
  {
   "cell_type": "markdown",
   "metadata": {},
   "source": [
    "# Congressional Voting Records Data Set"
   ]
  },
  {
   "cell_type": "markdown",
   "metadata": {},
   "source": [
    "This data set includes votes for each of the U.S. House of Representatives Congressmen on the 16 key votes identified by the CQA. The CQA lists nine different types of votes: voted for, paired for, and announced for (these three simplified to yea), voted against, paired against, and announced against (these three simplified to nay), voted present, voted present to avoid conflict of interest, and did not vote or otherwise make a position known (these three simplified to an unknown disposition).\n",
    "\n",
    "Attribute Information:\n",
    "Class Name: 2 (democrat, republican) \n",
    "\n",
    "handicapped-infants: 2 (y,n) \n",
    "\n",
    "water-project-cost-sharing: 2 (y,n) \n",
    "\n",
    "adoption-of-the-budget-resolution: 2 (y,n) \n",
    "\n",
    "physician-fee-freeze: 2 (y,n) \n",
    "\n",
    "el-salvador-aid: 2 (y,n) \n",
    "\n",
    "religious-groups-in-schools: 2 (y,n) \n",
    "\n",
    "anti-satellite-test-ban: 2 (y,n) \n",
    "\n",
    "aid-to-nicaraguan-contras: 2 (y,n) \n",
    "\n",
    "mx-missile: 2 (y,n) \n",
    "\n",
    "immigration: 2 (y,n) \n",
    "\n",
    "synfuels-corporation-cutback: 2 (y,n) \n",
    "\n",
    "education-spending: 2 (y,n) \n",
    "\n",
    "superfund-right-to-sue: 2 (y,n) \n",
    "\n",
    "crime: 2 (y,n) \n",
    "\n",
    "duty-free-exports: 2 (y,n) \n",
    "\n",
    "export-administration-act-south-africa: 2 (y,n)\n",
    "\n",
    "URL:https://archive.ics.uci.edu/ml/datasets/congressional+voting+records"
   ]
  },
  {
   "cell_type": "markdown",
   "metadata": {},
   "source": []
  },
  {
   "cell_type": "markdown",
   "metadata": {},
   "source": [
    "\n",
    "# Section 2: Loading the dataset and preprocessing of data"
   ]
  },
  {
   "cell_type": "code",
   "execution_count": 1,
   "metadata": {
    "collapsed": true
   },
   "outputs": [],
   "source": [
    "import pandas as pd\n",
    "import numpy as np\n",
    "dataframe1 = pd.read_csv(\"E:\\Tranparent machine learning\\CongressDataset.csv\")"
   ]
  },
  {
   "cell_type": "markdown",
   "metadata": {},
   "source": [
    "Replacing the missing value \"?\" with NaN and then converting the String values into Boolean( as Scikit Learn decision tree classifier works only with numeric or boolean values) and after that replacing all the NaN values with mode of that particular column( We can also drop the rows having NaN values but that may lead to potential data loss)."
   ]
  },
  {
   "cell_type": "code",
   "execution_count": 2,
   "metadata": {
    "collapsed": true
   },
   "outputs": [],
   "source": [
    "dataframe2 = dataframe1.replace('?',np.NaN)\n",
    "for column in dataframe2.columns:\n",
    "    dataframe2[column].fillna(dataframe2[column].mode()[0], inplace=True)"
   ]
  },
  {
   "cell_type": "markdown",
   "metadata": {},
   "source": [
    "Converting all the feautres into bianry Values"
   ]
  },
  {
   "cell_type": "code",
   "execution_count": 3,
   "metadata": {
    "collapsed": true
   },
   "outputs": [],
   "source": [
    "dataframe2['Class'] = dataframe2['Class'].map(lambda x : \"y\" if x == \"democrat\" else \"n\")\n",
    "dataframe2 = dataframe2.applymap(lambda x:1 if x == \"y\" else 0)"
   ]
  },
  {
   "cell_type": "markdown",
   "metadata": {},
   "source": [
    "Making a copy of dataset and then spiliting it into training and test data"
   ]
  },
  {
   "cell_type": "code",
   "execution_count": 4,
   "metadata": {
    "collapsed": true
   },
   "outputs": [],
   "source": [
    "dataframe3 = dataframe2.copy(deep = True)"
   ]
  },
  {
   "cell_type": "markdown",
   "metadata": {},
   "source": [
    "Removing the column which is to predicted from the dataset"
   ]
  },
  {
   "cell_type": "code",
   "execution_count": 5,
   "metadata": {
    "collapsed": true
   },
   "outputs": [],
   "source": [
    "del dataframe3['Class']"
   ]
  },
  {
   "cell_type": "markdown",
   "metadata": {},
   "source": [
    "Spilting dataset into training and test data"
   ]
  },
  {
   "cell_type": "code",
   "execution_count": 6,
   "metadata": {
    "collapsed": false
   },
   "outputs": [
    {
     "name": "stderr",
     "output_type": "stream",
     "text": [
      "C:\\Users\\sunvi\\Anaconda3\\lib\\site-packages\\sklearn\\cross_validation.py:41: DeprecationWarning: This module was deprecated in version 0.18 in favor of the model_selection module into which all the refactored classes and functions are moved. Also note that the interface of the new CV iterators are different from that of this module. This module will be removed in 0.20.\n",
      "  \"This module will be removed in 0.20.\", DeprecationWarning)\n"
     ]
    }
   ],
   "source": [
    "from sklearn.cross_validation import train_test_split\n",
    "X_train, X_test, y_train, y_test = train_test_split( dataframe3, dataframe2['Class'], test_size = 0.33,random_state = 1)"
   ]
  },
  {
   "cell_type": "markdown",
   "metadata": {},
   "source": [
    "# Logistic Regression using L2 penalty"
   ]
  },
  {
   "cell_type": "code",
   "execution_count": null,
   "metadata": {
    "collapsed": true
   },
   "outputs": [],
   "source": []
  },
  {
   "cell_type": "code",
   "execution_count": 7,
   "metadata": {
    "collapsed": false
   },
   "outputs": [
    {
     "data": {
      "text/plain": [
       "LogisticRegression(C=1.0, class_weight=None, dual=False, fit_intercept=True,\n",
       "          intercept_scaling=1, max_iter=100, multi_class='ovr', n_jobs=1,\n",
       "          penalty='l2', random_state=None, solver='liblinear', tol=0.0001,\n",
       "          verbose=0, warm_start=False)"
      ]
     },
     "execution_count": 7,
     "metadata": {},
     "output_type": "execute_result"
    }
   ],
   "source": [
    "from sklearn import linear_model\n",
    "logistic_l2 = linear_model.LogisticRegression(penalty='l2')\n",
    "logistic_l2.fit(X_train,y_train)"
   ]
  },
  {
   "cell_type": "code",
   "execution_count": 8,
   "metadata": {
    "collapsed": false
   },
   "outputs": [],
   "source": [
    "features_sorted_orig_l2 = np.argsort(np.abs(logistic_l2.coef_[0]))[::-1]\n"
   ]
  },
  {
   "cell_type": "code",
   "execution_count": 9,
   "metadata": {
    "collapsed": false
   },
   "outputs": [
    {
     "name": "stdout",
     "output_type": "stream",
     "text": [
      "physician-fee-freeze\t-3.343\n",
      "synfuels-corporation-cutback\t1.814\n",
      "adoption-of-the-budget-resolution\t1.391\n",
      "mx-missile\t0.952\n",
      "duty-free-exports\t0.840\n",
      "immigration\t-0.765\n",
      "education-spending\t-0.754\n",
      "water-project-cost-sharing\t0.713\n",
      "aid-to-nicaraguan-contras\t-0.471\n",
      "el-salvador-aid\t-0.438\n"
     ]
    }
   ],
   "source": [
    "feature_name = dataframe3.columns\n",
    "total = 0\n",
    "for i in features_sorted_orig_l2:\n",
    "    if total == 10:\n",
    "        break\n",
    "    else:\n",
    "        print(\"%s\\t%0.3f\" %(feature_name[i], logistic_l2.coef_[0][i]))\n",
    "        total = total + 1"
   ]
  },
  {
   "cell_type": "markdown",
   "metadata": {},
   "source": [
    "# # Logistic Regression using L1 penalty"
   ]
  },
  {
   "cell_type": "code",
   "execution_count": 10,
   "metadata": {
    "collapsed": false
   },
   "outputs": [
    {
     "data": {
      "text/plain": [
       "LogisticRegression(C=1.0, class_weight=None, dual=False, fit_intercept=True,\n",
       "          intercept_scaling=1, max_iter=100, multi_class='ovr', n_jobs=1,\n",
       "          penalty='l1', random_state=None, solver='liblinear', tol=0.0001,\n",
       "          verbose=0, warm_start=False)"
      ]
     },
     "execution_count": 10,
     "metadata": {},
     "output_type": "execute_result"
    }
   ],
   "source": [
    "logistic_l1 = linear_model.LogisticRegression(penalty='l1')\n",
    "logistic_l1.fit(X_train,y_train)"
   ]
  },
  {
   "cell_type": "code",
   "execution_count": 11,
   "metadata": {
    "collapsed": false
   },
   "outputs": [
    {
     "name": "stdout",
     "output_type": "stream",
     "text": [
      "physician-fee-freeze\t-4.971\n",
      "synfuels-corporation-cutback\t2.706\n",
      "adoption-of-the-budget-resolution\t1.467\n",
      "duty-free-exports\t0.788\n",
      "immigration\t-0.732\n",
      "mx-missile\t0.664\n",
      "education-spending\t-0.613\n",
      "water-project-cost-sharing\t0.516\n",
      "handicapped-infants\t0.048\n",
      "export-administration-act-south-africa\t0.000\n"
     ]
    }
   ],
   "source": [
    "features_sorted_orig_l1 = np.argsort(np.abs(logistic_l1.coef_[0]))[::-1]\n",
    "feature_name = dataframe3.columns\n",
    "total = 0\n",
    "for i in features_sorted_orig_l1:\n",
    "    if total == 10:\n",
    "        break\n",
    "    else:\n",
    "        print(\"%s\\t%0.3f\" %(feature_name[i], logistic_l1.coef_[0][i]))\n",
    "        total = total + 1"
   ]
  },
  {
   "cell_type": "markdown",
   "metadata": {},
   "source": [
    "# Decision Tree classifier"
   ]
  },
  {
   "cell_type": "code",
   "execution_count": 12,
   "metadata": {
    "collapsed": true
   },
   "outputs": [],
   "source": [
    "from sklearn import tree\n",
    "from sklearn.tree import DecisionTreeClassifier"
   ]
  },
  {
   "cell_type": "code",
   "execution_count": 13,
   "metadata": {
    "collapsed": false
   },
   "outputs": [
    {
     "data": {
      "image/svg+xml": [
       "<?xml version=\"1.0\" encoding=\"UTF-8\" standalone=\"no\"?>\r\n",
       "<!DOCTYPE svg PUBLIC \"-//W3C//DTD SVG 1.1//EN\"\r\n",
       " \"http://www.w3.org/Graphics/SVG/1.1/DTD/svg11.dtd\">\r\n",
       "<!-- Generated by graphviz version 2.38.0 (20140413.2041)\r\n",
       " -->\r\n",
       "<!-- Title: Tree Pages: 1 -->\r\n",
       "<svg width=\"470pt\" height=\"581pt\"\r\n",
       " viewBox=\"0.00 0.00 470.00 581.00\" xmlns=\"http://www.w3.org/2000/svg\" xmlns:xlink=\"http://www.w3.org/1999/xlink\">\r\n",
       "<g id=\"graph0\" class=\"graph\" transform=\"scale(1 1) rotate(0) translate(4 577)\">\r\n",
       "<title>Tree</title>\r\n",
       "<polygon fill=\"white\" stroke=\"none\" points=\"-4,4 -4,-577 466,-577 466,4 -4,4\"/>\r\n",
       "<!-- 0 -->\r\n",
       "<g id=\"node1\" class=\"node\"><title>0</title>\r\n",
       "<path fill=\"#399de5\" fill-opacity=\"0.309804\" stroke=\"black\" d=\"M230,-573C230,-573 73,-573 73,-573 67,-573 61,-567 61,-561 61,-561 61,-517 61,-517 61,-511 67,-505 73,-505 73,-505 230,-505 230,-505 236,-505 242,-511 242,-517 242,-517 242,-561 242,-561 242,-567 236,-573 230,-573\"/>\r\n",
       "<text text-anchor=\"start\" x=\"69\" y=\"-557.8\" font-family=\"Helvetica,sans-Serif\" font-size=\"14.00\">physician&#45;fee&#45;freeze ≤ 0.5</text>\r\n",
       "<text text-anchor=\"start\" x=\"114\" y=\"-542.8\" font-family=\"Helvetica,sans-Serif\" font-size=\"14.00\">gini = 0.483</text>\r\n",
       "<text text-anchor=\"start\" x=\"104\" y=\"-527.8\" font-family=\"Helvetica,sans-Serif\" font-size=\"14.00\">samples = 291</text>\r\n",
       "<text text-anchor=\"start\" x=\"94.5\" y=\"-512.8\" font-family=\"Helvetica,sans-Serif\" font-size=\"14.00\">value = [119, 172]</text>\r\n",
       "</g>\r\n",
       "<!-- 1 -->\r\n",
       "<g id=\"node2\" class=\"node\"><title>1</title>\r\n",
       "<path fill=\"#399de5\" fill-opacity=\"0.988235\" stroke=\"black\" d=\"M101,-461.5C101,-461.5 12,-461.5 12,-461.5 6,-461.5 0,-455.5 0,-449.5 0,-449.5 0,-420.5 0,-420.5 0,-414.5 6,-408.5 12,-408.5 12,-408.5 101,-408.5 101,-408.5 107,-408.5 113,-414.5 113,-420.5 113,-420.5 113,-449.5 113,-449.5 113,-455.5 107,-461.5 101,-461.5\"/>\r\n",
       "<text text-anchor=\"start\" x=\"19\" y=\"-446.3\" font-family=\"Helvetica,sans-Serif\" font-size=\"14.00\">gini = 0.024</text>\r\n",
       "<text text-anchor=\"start\" x=\"9\" y=\"-431.3\" font-family=\"Helvetica,sans-Serif\" font-size=\"14.00\">samples = 164</text>\r\n",
       "<text text-anchor=\"start\" x=\"8\" y=\"-416.3\" font-family=\"Helvetica,sans-Serif\" font-size=\"14.00\">value = [2, 162]</text>\r\n",
       "</g>\r\n",
       "<!-- 0&#45;&gt;1 -->\r\n",
       "<g id=\"edge1\" class=\"edge\"><title>0&#45;&gt;1</title>\r\n",
       "<path fill=\"none\" stroke=\"black\" d=\"M120.656,-504.884C109.901,-493.336 97.8412,-480.387 87.1053,-468.86\"/>\r\n",
       "<polygon fill=\"black\" stroke=\"black\" points=\"89.6453,-466.452 80.2686,-461.52 84.5229,-471.223 89.6453,-466.452\"/>\r\n",
       "<text text-anchor=\"middle\" x=\"79.3808\" y=\"-482.804\" font-family=\"Helvetica,sans-Serif\" font-size=\"14.00\">True</text>\r\n",
       "</g>\r\n",
       "<!-- 2 -->\r\n",
       "<g id=\"node3\" class=\"node\"><title>2</title>\r\n",
       "<path fill=\"#e58139\" fill-opacity=\"0.913725\" stroke=\"black\" d=\"M352,-469C352,-469 143,-469 143,-469 137,-469 131,-463 131,-457 131,-457 131,-413 131,-413 131,-407 137,-401 143,-401 143,-401 352,-401 352,-401 358,-401 364,-407 364,-413 364,-413 364,-457 364,-457 364,-463 358,-469 352,-469\"/>\r\n",
       "<text text-anchor=\"start\" x=\"139\" y=\"-453.8\" font-family=\"Helvetica,sans-Serif\" font-size=\"14.00\">synfuels&#45;corporation&#45;cutback ≤ 0.5</text>\r\n",
       "<text text-anchor=\"start\" x=\"210\" y=\"-438.8\" font-family=\"Helvetica,sans-Serif\" font-size=\"14.00\">gini = 0.145</text>\r\n",
       "<text text-anchor=\"start\" x=\"200\" y=\"-423.8\" font-family=\"Helvetica,sans-Serif\" font-size=\"14.00\">samples = 127</text>\r\n",
       "<text text-anchor=\"start\" x=\"194.5\" y=\"-408.8\" font-family=\"Helvetica,sans-Serif\" font-size=\"14.00\">value = [117, 10]</text>\r\n",
       "</g>\r\n",
       "<!-- 0&#45;&gt;2 -->\r\n",
       "<g id=\"edge2\" class=\"edge\"><title>0&#45;&gt;2</title>\r\n",
       "<path fill=\"none\" stroke=\"black\" d=\"M182.668,-504.884C191.136,-495.887 200.403,-486.041 209.215,-476.678\"/>\r\n",
       "<polygon fill=\"black\" stroke=\"black\" points=\"211.854,-478.98 216.159,-469.299 206.757,-474.183 211.854,-478.98\"/>\r\n",
       "<text text-anchor=\"middle\" x=\"216.917\" y=\"-490.588\" font-family=\"Helvetica,sans-Serif\" font-size=\"14.00\">False</text>\r\n",
       "</g>\r\n",
       "<!-- 3 -->\r\n",
       "<g id=\"node4\" class=\"node\"><title>3</title>\r\n",
       "<path fill=\"#e58139\" fill-opacity=\"0.988235\" stroke=\"black\" d=\"M225,-357.5C225,-357.5 136,-357.5 136,-357.5 130,-357.5 124,-351.5 124,-345.5 124,-345.5 124,-316.5 124,-316.5 124,-310.5 130,-304.5 136,-304.5 136,-304.5 225,-304.5 225,-304.5 231,-304.5 237,-310.5 237,-316.5 237,-316.5 237,-345.5 237,-345.5 237,-351.5 231,-357.5 225,-357.5\"/>\r\n",
       "<text text-anchor=\"start\" x=\"143\" y=\"-342.3\" font-family=\"Helvetica,sans-Serif\" font-size=\"14.00\">gini = 0.019</text>\r\n",
       "<text text-anchor=\"start\" x=\"133\" y=\"-327.3\" font-family=\"Helvetica,sans-Serif\" font-size=\"14.00\">samples = 103</text>\r\n",
       "<text text-anchor=\"start\" x=\"132\" y=\"-312.3\" font-family=\"Helvetica,sans-Serif\" font-size=\"14.00\">value = [102, 1]</text>\r\n",
       "</g>\r\n",
       "<!-- 2&#45;&gt;3 -->\r\n",
       "<g id=\"edge3\" class=\"edge\"><title>2&#45;&gt;3</title>\r\n",
       "<path fill=\"none\" stroke=\"black\" d=\"M225.747,-400.884C218.451,-389.776 210.303,-377.372 202.954,-366.184\"/>\r\n",
       "<polygon fill=\"black\" stroke=\"black\" points=\"205.679,-363.957 197.263,-357.52 199.828,-367.8 205.679,-363.957\"/>\r\n",
       "</g>\r\n",
       "<!-- 4 -->\r\n",
       "<g id=\"node5\" class=\"node\"><title>4</title>\r\n",
       "<path fill=\"#e58139\" fill-opacity=\"0.400000\" stroke=\"black\" d=\"M362,-365C362,-365 267,-365 267,-365 261,-365 255,-359 255,-353 255,-353 255,-309 255,-309 255,-303 261,-297 267,-297 267,-297 362,-297 362,-297 368,-297 374,-303 374,-309 374,-309 374,-353 374,-353 374,-359 368,-365 362,-365\"/>\r\n",
       "<text text-anchor=\"start\" x=\"263\" y=\"-349.8\" font-family=\"Helvetica,sans-Serif\" font-size=\"14.00\">mx&#45;missile ≤ 0.5</text>\r\n",
       "<text text-anchor=\"start\" x=\"277\" y=\"-334.8\" font-family=\"Helvetica,sans-Serif\" font-size=\"14.00\">gini = 0.469</text>\r\n",
       "<text text-anchor=\"start\" x=\"271\" y=\"-319.8\" font-family=\"Helvetica,sans-Serif\" font-size=\"14.00\">samples = 24</text>\r\n",
       "<text text-anchor=\"start\" x=\"270\" y=\"-304.8\" font-family=\"Helvetica,sans-Serif\" font-size=\"14.00\">value = [15, 9]</text>\r\n",
       "</g>\r\n",
       "<!-- 2&#45;&gt;4 -->\r\n",
       "<g id=\"edge4\" class=\"edge\"><title>2&#45;&gt;4</title>\r\n",
       "<path fill=\"none\" stroke=\"black\" d=\"M269.253,-400.884C274.928,-392.243 281.119,-382.819 287.048,-373.793\"/>\r\n",
       "<polygon fill=\"black\" stroke=\"black\" points=\"290.062,-375.579 292.627,-365.299 284.211,-371.736 290.062,-375.579\"/>\r\n",
       "</g>\r\n",
       "<!-- 5 -->\r\n",
       "<g id=\"node6\" class=\"node\"><title>5</title>\r\n",
       "<path fill=\"#e58139\" fill-opacity=\"0.643137\" stroke=\"black\" d=\"M335,-261C335,-261 96,-261 96,-261 90,-261 84,-255 84,-249 84,-249 84,-205 84,-205 84,-199 90,-193 96,-193 96,-193 335,-193 335,-193 341,-193 347,-199 347,-205 347,-205 347,-249 347,-249 347,-255 341,-261 335,-261\"/>\r\n",
       "<text text-anchor=\"start\" x=\"92\" y=\"-245.8\" font-family=\"Helvetica,sans-Serif\" font-size=\"14.00\">adoption&#45;of&#45;the&#45;budget&#45;resolution ≤ 0.5</text>\r\n",
       "<text text-anchor=\"start\" x=\"178\" y=\"-230.8\" font-family=\"Helvetica,sans-Serif\" font-size=\"14.00\">gini = 0.388</text>\r\n",
       "<text text-anchor=\"start\" x=\"172\" y=\"-215.8\" font-family=\"Helvetica,sans-Serif\" font-size=\"14.00\">samples = 19</text>\r\n",
       "<text text-anchor=\"start\" x=\"171\" y=\"-200.8\" font-family=\"Helvetica,sans-Serif\" font-size=\"14.00\">value = [14, 5]</text>\r\n",
       "</g>\r\n",
       "<!-- 4&#45;&gt;5 -->\r\n",
       "<g id=\"edge5\" class=\"edge\"><title>4&#45;&gt;5</title>\r\n",
       "<path fill=\"none\" stroke=\"black\" d=\"M282.358,-296.884C273.626,-287.887 264.069,-278.041 254.982,-268.678\"/>\r\n",
       "<polygon fill=\"black\" stroke=\"black\" points=\"257.296,-266.038 247.82,-261.299 252.273,-270.913 257.296,-266.038\"/>\r\n",
       "</g>\r\n",
       "<!-- 10 -->\r\n",
       "<g id=\"node11\" class=\"node\"><title>10</title>\r\n",
       "<path fill=\"#399de5\" fill-opacity=\"0.749020\" stroke=\"black\" d=\"M450,-253.5C450,-253.5 377,-253.5 377,-253.5 371,-253.5 365,-247.5 365,-241.5 365,-241.5 365,-212.5 365,-212.5 365,-206.5 371,-200.5 377,-200.5 377,-200.5 450,-200.5 450,-200.5 456,-200.5 462,-206.5 462,-212.5 462,-212.5 462,-241.5 462,-241.5 462,-247.5 456,-253.5 450,-253.5\"/>\r\n",
       "<text text-anchor=\"start\" x=\"380\" y=\"-238.3\" font-family=\"Helvetica,sans-Serif\" font-size=\"14.00\">gini = 0.32</text>\r\n",
       "<text text-anchor=\"start\" x=\"374\" y=\"-223.3\" font-family=\"Helvetica,sans-Serif\" font-size=\"14.00\">samples = 5</text>\r\n",
       "<text text-anchor=\"start\" x=\"373\" y=\"-208.3\" font-family=\"Helvetica,sans-Serif\" font-size=\"14.00\">value = [1, 4]</text>\r\n",
       "</g>\r\n",
       "<!-- 4&#45;&gt;10 -->\r\n",
       "<g id=\"edge10\" class=\"edge\"><title>4&#45;&gt;10</title>\r\n",
       "<path fill=\"none\" stroke=\"black\" d=\"M346.642,-296.884C357.851,-285.336 370.418,-272.387 381.606,-260.86\"/>\r\n",
       "<polygon fill=\"black\" stroke=\"black\" points=\"384.277,-263.133 388.731,-253.52 379.254,-258.258 384.277,-263.133\"/>\r\n",
       "</g>\r\n",
       "<!-- 6 -->\r\n",
       "<g id=\"node7\" class=\"node\"><title>6</title>\r\n",
       "<path fill=\"#e58139\" fill-opacity=\"0.831373\" stroke=\"black\" d=\"M167,-149.5C167,-149.5 86,-149.5 86,-149.5 80,-149.5 74,-143.5 74,-137.5 74,-137.5 74,-108.5 74,-108.5 74,-102.5 80,-96.5 86,-96.5 86,-96.5 167,-96.5 167,-96.5 173,-96.5 179,-102.5 179,-108.5 179,-108.5 179,-137.5 179,-137.5 179,-143.5 173,-149.5 167,-149.5\"/>\r\n",
       "<text text-anchor=\"start\" x=\"89\" y=\"-134.3\" font-family=\"Helvetica,sans-Serif\" font-size=\"14.00\">gini = 0.245</text>\r\n",
       "<text text-anchor=\"start\" x=\"83\" y=\"-119.3\" font-family=\"Helvetica,sans-Serif\" font-size=\"14.00\">samples = 14</text>\r\n",
       "<text text-anchor=\"start\" x=\"82\" y=\"-104.3\" font-family=\"Helvetica,sans-Serif\" font-size=\"14.00\">value = [12, 2]</text>\r\n",
       "</g>\r\n",
       "<!-- 5&#45;&gt;6 -->\r\n",
       "<g id=\"edge6\" class=\"edge\"><title>5&#45;&gt;6</title>\r\n",
       "<path fill=\"none\" stroke=\"black\" d=\"M186.604,-192.884C176.624,-181.446 165.445,-168.634 155.46,-157.19\"/>\r\n",
       "<polygon fill=\"black\" stroke=\"black\" points=\"157.979,-154.754 148.767,-149.52 152.705,-159.356 157.979,-154.754\"/>\r\n",
       "</g>\r\n",
       "<!-- 7 -->\r\n",
       "<g id=\"node8\" class=\"node\"><title>7</title>\r\n",
       "<path fill=\"#399de5\" fill-opacity=\"0.333333\" stroke=\"black\" d=\"M400,-157C400,-157 209,-157 209,-157 203,-157 197,-151 197,-145 197,-145 197,-101 197,-101 197,-95 203,-89 209,-89 209,-89 400,-89 400,-89 406,-89 412,-95 412,-101 412,-101 412,-145 412,-145 412,-151 406,-157 400,-157\"/>\r\n",
       "<text text-anchor=\"start\" x=\"205\" y=\"-141.8\" font-family=\"Helvetica,sans-Serif\" font-size=\"14.00\">water&#45;project&#45;cost&#45;sharing ≤ 0.5</text>\r\n",
       "<text text-anchor=\"start\" x=\"271\" y=\"-126.8\" font-family=\"Helvetica,sans-Serif\" font-size=\"14.00\">gini = 0.48</text>\r\n",
       "<text text-anchor=\"start\" x=\"265\" y=\"-111.8\" font-family=\"Helvetica,sans-Serif\" font-size=\"14.00\">samples = 5</text>\r\n",
       "<text text-anchor=\"start\" x=\"264\" y=\"-96.8\" font-family=\"Helvetica,sans-Serif\" font-size=\"14.00\">value = [2, 3]</text>\r\n",
       "</g>\r\n",
       "<!-- 5&#45;&gt;7 -->\r\n",
       "<g id=\"edge7\" class=\"edge\"><title>5&#45;&gt;7</title>\r\n",
       "<path fill=\"none\" stroke=\"black\" d=\"M244.396,-192.884C252.168,-183.976 260.667,-174.235 268.763,-164.957\"/>\r\n",
       "<polygon fill=\"black\" stroke=\"black\" points=\"271.507,-167.135 275.445,-157.299 266.233,-162.533 271.507,-167.135\"/>\r\n",
       "</g>\r\n",
       "<!-- 8 -->\r\n",
       "<g id=\"node9\" class=\"node\"><title>8</title>\r\n",
       "<path fill=\"#e58139\" stroke=\"black\" d=\"M283,-53C283,-53 210,-53 210,-53 204,-53 198,-47 198,-41 198,-41 198,-12 198,-12 198,-6 204,-0 210,-0 210,-0 283,-0 283,-0 289,-0 295,-6 295,-12 295,-12 295,-41 295,-41 295,-47 289,-53 283,-53\"/>\r\n",
       "<text text-anchor=\"start\" x=\"217.5\" y=\"-37.8\" font-family=\"Helvetica,sans-Serif\" font-size=\"14.00\">gini = 0.0</text>\r\n",
       "<text text-anchor=\"start\" x=\"207\" y=\"-22.8\" font-family=\"Helvetica,sans-Serif\" font-size=\"14.00\">samples = 2</text>\r\n",
       "<text text-anchor=\"start\" x=\"206\" y=\"-7.8\" font-family=\"Helvetica,sans-Serif\" font-size=\"14.00\">value = [2, 0]</text>\r\n",
       "</g>\r\n",
       "<!-- 7&#45;&gt;8 -->\r\n",
       "<g id=\"edge8\" class=\"edge\"><title>7&#45;&gt;8</title>\r\n",
       "<path fill=\"none\" stroke=\"black\" d=\"M284.214,-88.9485C278.824,-80.1664 272.992,-70.6629 267.561,-61.815\"/>\r\n",
       "<polygon fill=\"black\" stroke=\"black\" points=\"270.51,-59.9287 262.296,-53.2367 264.544,-63.5903 270.51,-59.9287\"/>\r\n",
       "</g>\r\n",
       "<!-- 9 -->\r\n",
       "<g id=\"node10\" class=\"node\"><title>9</title>\r\n",
       "<path fill=\"#399de5\" stroke=\"black\" d=\"M398,-53C398,-53 325,-53 325,-53 319,-53 313,-47 313,-41 313,-41 313,-12 313,-12 313,-6 319,-0 325,-0 325,-0 398,-0 398,-0 404,-0 410,-6 410,-12 410,-12 410,-41 410,-41 410,-47 404,-53 398,-53\"/>\r\n",
       "<text text-anchor=\"start\" x=\"332.5\" y=\"-37.8\" font-family=\"Helvetica,sans-Serif\" font-size=\"14.00\">gini = 0.0</text>\r\n",
       "<text text-anchor=\"start\" x=\"322\" y=\"-22.8\" font-family=\"Helvetica,sans-Serif\" font-size=\"14.00\">samples = 3</text>\r\n",
       "<text text-anchor=\"start\" x=\"321\" y=\"-7.8\" font-family=\"Helvetica,sans-Serif\" font-size=\"14.00\">value = [0, 3]</text>\r\n",
       "</g>\r\n",
       "<!-- 7&#45;&gt;9 -->\r\n",
       "<g id=\"edge9\" class=\"edge\"><title>7&#45;&gt;9</title>\r\n",
       "<path fill=\"none\" stroke=\"black\" d=\"M324.436,-88.9485C329.733,-80.1664 335.465,-70.6629 340.802,-61.815\"/>\r\n",
       "<polygon fill=\"black\" stroke=\"black\" points=\"343.808,-63.6074 345.976,-53.2367 337.814,-59.9919 343.808,-63.6074\"/>\r\n",
       "</g>\r\n",
       "</g>\r\n",
       "</svg>\r\n"
      ],
      "text/plain": [
       "<graphviz.files.Source at 0x2c622568710>"
      ]
     },
     "execution_count": 13,
     "metadata": {},
     "output_type": "execute_result"
    }
   ],
   "source": [
    "decision_tree = DecisionTreeClassifier(max_depth=6,min_impurity_decrease=0.005)\n",
    "decision_tree.fit(X_train, y_train)\n",
    "import graphviz\n",
    "dot_data = tree.export_graphviz(decision_tree, out_file=None, \n",
    "                         feature_names=list(dataframe3),  \n",
    "                      #   class_names=list(dataframe2['Class'],  \n",
    "                         filled=True, rounded=True,\n",
    "                         special_characters=True)  \n",
    "graph = graphviz.Source(dot_data)  \n",
    "graph"
   ]
  },
  {
   "cell_type": "markdown",
   "metadata": {},
   "source": [
    "While using L2 penalty for logistic regression   L1 penalty for logistic regression        Important feature DTC\n",
    "\n",
    "physician-fee-freeze\t-3.343                   physician-fee-freeze\t-4.975             physician-fee-freeze \n",
    "synfuels-corporation-cutback\t1.814            synfuels-corporation-cutback\t2.708     synfuels-corporation-cutbc           \n",
    "adoption-of-the-budget-resolution\t1.391        adoption-of-the-budget-resolution\t1.464  mx-missile\n",
    "mx-missile\t0.952                                duty-free-exports\t0.786                  adopting of budget resolution\n",
    "duty-free-exports\t0.840                        immigration -0.733                        anit-satellite-test-ban\n",
    "\n",
    "Here we can see that top3 features for both L1 and L2 remains the same but we can see that L2 is assigning lower weight to features as comapred to L1 because as we know that L2 penalizes the square of the weight, So it L2 assign lowers weight to the coefficient. L2 tries to minimize the weight of the bigger values because the bigger weight adds more to penalty.\n",
    "\n",
    "\n",
    "Comparing with the decison tree we see that top-2 feature remaines the same but the third spilting feature is different as comapred to Logistic regression both L1 and L2 .\n",
    "\n",
    "\n"
   ]
  },
  {
   "cell_type": "markdown",
   "metadata": {},
   "source": [
    "# Z-scoring data"
   ]
  },
  {
   "cell_type": "code",
   "execution_count": 14,
   "metadata": {
    "collapsed": false,
    "scrolled": true
   },
   "outputs": [],
   "source": [
    "from sklearn import preprocessing\n",
    "scaler = preprocessing.StandardScaler()\n",
    "z_score_X_train = scaler.fit_transform(X_train)\n",
    "z_score_X_test = scaler.transform(X_test)\n"
   ]
  },
  {
   "cell_type": "code",
   "execution_count": 15,
   "metadata": {
    "collapsed": false
   },
   "outputs": [],
   "source": [
    "a = {}\n",
    "\n",
    "a['X_train'] = z_score_X_train\n",
    "\n",
    "a['y_train'] = y_train\n",
    "\n",
    "a['X_test'] = z_score_X_test\n",
    "\n",
    "a['y_test'] = y_test\n",
    "\n",
    "a['target_names'] = [0,1]\n",
    "\n",
    "a['feature_names'] = dataframe3.columns\n",
    "\n",
    "import pickle\n",
    "\n",
    "pickle.dump(a, open(\"vbimal.pickle\", \"wb\")) # replace username with your username"
   ]
  },
  {
   "cell_type": "markdown",
   "metadata": {},
   "source": [
    "# Logistic Regression using L2 penalty after Z-scoring data"
   ]
  },
  {
   "cell_type": "code",
   "execution_count": null,
   "metadata": {
    "collapsed": true
   },
   "outputs": [],
   "source": []
  },
  {
   "cell_type": "code",
   "execution_count": 16,
   "metadata": {
    "collapsed": false
   },
   "outputs": [
    {
     "data": {
      "text/plain": [
       "LogisticRegression(C=1.0, class_weight=None, dual=False, fit_intercept=True,\n",
       "          intercept_scaling=1, max_iter=100, multi_class='ovr', n_jobs=1,\n",
       "          penalty='l2', random_state=None, solver='liblinear', tol=0.0001,\n",
       "          verbose=0, warm_start=False)"
      ]
     },
     "execution_count": 16,
     "metadata": {},
     "output_type": "execute_result"
    }
   ],
   "source": [
    "logistic_l2_z_score = linear_model.LogisticRegression(penalty='l2')\n",
    "logistic_l2_z_score.fit(z_score_X_train,y_train)"
   ]
  },
  {
   "cell_type": "code",
   "execution_count": 17,
   "metadata": {
    "collapsed": false
   },
   "outputs": [
    {
     "name": "stdout",
     "output_type": "stream",
     "text": [
      "physician-fee-freeze\t-2.447\n",
      "synfuels-corporation-cutback\t1.283\n",
      "adoption-of-the-budget-resolution\t0.893\n",
      "immigration\t-0.674\n",
      "aid-to-nicaraguan-contras\t-0.665\n",
      "duty-free-exports\t0.572\n",
      "education-spending\t-0.498\n",
      "mx-missile\t0.427\n",
      "water-project-cost-sharing\t0.393\n",
      "el-salvador-aid\t-0.392\n"
     ]
    }
   ],
   "source": [
    "features_sorted_orig_l2_z_score = np.argsort(np.abs(logistic_l2_z_score.coef_[0]))[::-1]\n",
    "feature_name = dataframe3.columns\n",
    "total = 0\n",
    "for i in features_sorted_orig_l2_z_score:\n",
    "    if total == 10:\n",
    "        break\n",
    "    else:\n",
    "        print(\"%s\\t%0.3f\" %(feature_name[i], logistic_l2_z_score.coef_[0][i]))\n",
    "        total = total + 1"
   ]
  },
  {
   "cell_type": "markdown",
   "metadata": {},
   "source": [
    "# Logistic Regression using L1 penalty after Z-scoring data"
   ]
  },
  {
   "cell_type": "code",
   "execution_count": 18,
   "metadata": {
    "collapsed": false
   },
   "outputs": [
    {
     "data": {
      "text/plain": [
       "LogisticRegression(C=1.0, class_weight=None, dual=False, fit_intercept=True,\n",
       "          intercept_scaling=1, max_iter=100, multi_class='ovr', n_jobs=1,\n",
       "          penalty='l1', random_state=None, solver='liblinear', tol=0.0001,\n",
       "          verbose=0, warm_start=False)"
      ]
     },
     "execution_count": 18,
     "metadata": {},
     "output_type": "execute_result"
    }
   ],
   "source": [
    "logistic_l1_z_score = linear_model.LogisticRegression(penalty='l1')\n",
    "logistic_l1_z_score.fit(z_score_X_train,y_train)"
   ]
  },
  {
   "cell_type": "code",
   "execution_count": 19,
   "metadata": {
    "collapsed": false
   },
   "outputs": [
    {
     "name": "stdout",
     "output_type": "stream",
     "text": [
      "physician-fee-freeze\t-2.888\n",
      "synfuels-corporation-cutback\t1.497\n",
      "adoption-of-the-budget-resolution\t0.791\n",
      "immigration\t-0.659\n",
      "duty-free-exports\t0.503\n",
      "education-spending\t-0.483\n",
      "aid-to-nicaraguan-contras\t-0.427\n",
      "water-project-cost-sharing\t0.272\n",
      "superfund-right-to-sue\t-0.251\n",
      "mx-missile\t0.217\n"
     ]
    }
   ],
   "source": [
    "features_sorted_orig_l1_z_score = np.argsort(np.abs(logistic_l1_z_score.coef_[0]))[::-1]\n",
    "feature_name = dataframe3.columns\n",
    "total = 0\n",
    "for i in features_sorted_orig_l1_z_score:\n",
    "    if total == 10:\n",
    "        break\n",
    "    else:\n",
    "        print(\"%s\\t%0.3f\" %(feature_name[i], logistic_l1_z_score.coef_[0][i]))\n",
    "        total = total + 1"
   ]
  },
  {
   "cell_type": "markdown",
   "metadata": {},
   "source": [
    "# Decision tree after Z-scoring data"
   ]
  },
  {
   "cell_type": "code",
   "execution_count": 20,
   "metadata": {
    "collapsed": false
   },
   "outputs": [
    {
     "data": {
      "image/svg+xml": [
       "<?xml version=\"1.0\" encoding=\"UTF-8\" standalone=\"no\"?>\r\n",
       "<!DOCTYPE svg PUBLIC \"-//W3C//DTD SVG 1.1//EN\"\r\n",
       " \"http://www.w3.org/Graphics/SVG/1.1/DTD/svg11.dtd\">\r\n",
       "<!-- Generated by graphviz version 2.38.0 (20140413.2041)\r\n",
       " -->\r\n",
       "<!-- Title: Tree Pages: 1 -->\r\n",
       "<svg width=\"490pt\" height=\"581pt\"\r\n",
       " viewBox=\"0.00 0.00 490.00 581.00\" xmlns=\"http://www.w3.org/2000/svg\" xmlns:xlink=\"http://www.w3.org/1999/xlink\">\r\n",
       "<g id=\"graph0\" class=\"graph\" transform=\"scale(1 1) rotate(0) translate(4 577)\">\r\n",
       "<title>Tree</title>\r\n",
       "<polygon fill=\"white\" stroke=\"none\" points=\"-4,4 -4,-577 486,-577 486,4 -4,4\"/>\r\n",
       "<!-- 0 -->\r\n",
       "<g id=\"node1\" class=\"node\"><title>0</title>\r\n",
       "<path fill=\"#399de5\" fill-opacity=\"0.309804\" stroke=\"black\" d=\"M243,-573C243,-573 70,-573 70,-573 64,-573 58,-567 58,-561 58,-561 58,-517 58,-517 58,-511 64,-505 70,-505 70,-505 243,-505 243,-505 249,-505 255,-511 255,-517 255,-517 255,-561 255,-561 255,-567 249,-573 243,-573\"/>\r\n",
       "<text text-anchor=\"start\" x=\"66\" y=\"-557.8\" font-family=\"Helvetica,sans-Serif\" font-size=\"14.00\">physician&#45;fee&#45;freeze ≤ 0.128</text>\r\n",
       "<text text-anchor=\"start\" x=\"119\" y=\"-542.8\" font-family=\"Helvetica,sans-Serif\" font-size=\"14.00\">gini = 0.483</text>\r\n",
       "<text text-anchor=\"start\" x=\"109\" y=\"-527.8\" font-family=\"Helvetica,sans-Serif\" font-size=\"14.00\">samples = 291</text>\r\n",
       "<text text-anchor=\"start\" x=\"99.5\" y=\"-512.8\" font-family=\"Helvetica,sans-Serif\" font-size=\"14.00\">value = [119, 172]</text>\r\n",
       "</g>\r\n",
       "<!-- 1 -->\r\n",
       "<g id=\"node2\" class=\"node\"><title>1</title>\r\n",
       "<path fill=\"#399de5\" fill-opacity=\"0.988235\" stroke=\"black\" d=\"M101,-461.5C101,-461.5 12,-461.5 12,-461.5 6,-461.5 0,-455.5 0,-449.5 0,-449.5 0,-420.5 0,-420.5 0,-414.5 6,-408.5 12,-408.5 12,-408.5 101,-408.5 101,-408.5 107,-408.5 113,-414.5 113,-420.5 113,-420.5 113,-449.5 113,-449.5 113,-455.5 107,-461.5 101,-461.5\"/>\r\n",
       "<text text-anchor=\"start\" x=\"19\" y=\"-446.3\" font-family=\"Helvetica,sans-Serif\" font-size=\"14.00\">gini = 0.024</text>\r\n",
       "<text text-anchor=\"start\" x=\"9\" y=\"-431.3\" font-family=\"Helvetica,sans-Serif\" font-size=\"14.00\">samples = 164</text>\r\n",
       "<text text-anchor=\"start\" x=\"8\" y=\"-416.3\" font-family=\"Helvetica,sans-Serif\" font-size=\"14.00\">value = [2, 162]</text>\r\n",
       "</g>\r\n",
       "<!-- 0&#45;&gt;1 -->\r\n",
       "<g id=\"edge1\" class=\"edge\"><title>0&#45;&gt;1</title>\r\n",
       "<path fill=\"none\" stroke=\"black\" d=\"M124.033,-504.884C112.712,-493.336 100.017,-480.387 88.7161,-468.86\"/>\r\n",
       "<polygon fill=\"black\" stroke=\"black\" points=\"91.0195,-466.21 81.5195,-461.52 86.021,-471.111 91.0195,-466.21\"/>\r\n",
       "<text text-anchor=\"middle\" x=\"81.272\" y=\"-482.819\" font-family=\"Helvetica,sans-Serif\" font-size=\"14.00\">True</text>\r\n",
       "</g>\r\n",
       "<!-- 2 -->\r\n",
       "<g id=\"node3\" class=\"node\"><title>2</title>\r\n",
       "<path fill=\"#e58139\" fill-opacity=\"0.913725\" stroke=\"black\" d=\"M369.5,-469C369.5,-469 143.5,-469 143.5,-469 137.5,-469 131.5,-463 131.5,-457 131.5,-457 131.5,-413 131.5,-413 131.5,-407 137.5,-401 143.5,-401 143.5,-401 369.5,-401 369.5,-401 375.5,-401 381.5,-407 381.5,-413 381.5,-413 381.5,-457 381.5,-457 381.5,-463 375.5,-469 369.5,-469\"/>\r\n",
       "<text text-anchor=\"start\" x=\"139.5\" y=\"-453.8\" font-family=\"Helvetica,sans-Serif\" font-size=\"14.00\">synfuels&#45;corporation&#45;cutback ≤ 0.378</text>\r\n",
       "<text text-anchor=\"start\" x=\"219\" y=\"-438.8\" font-family=\"Helvetica,sans-Serif\" font-size=\"14.00\">gini = 0.145</text>\r\n",
       "<text text-anchor=\"start\" x=\"209\" y=\"-423.8\" font-family=\"Helvetica,sans-Serif\" font-size=\"14.00\">samples = 127</text>\r\n",
       "<text text-anchor=\"start\" x=\"203.5\" y=\"-408.8\" font-family=\"Helvetica,sans-Serif\" font-size=\"14.00\">value = [117, 10]</text>\r\n",
       "</g>\r\n",
       "<!-- 0&#45;&gt;2 -->\r\n",
       "<g id=\"edge2\" class=\"edge\"><title>0&#45;&gt;2</title>\r\n",
       "<path fill=\"none\" stroke=\"black\" d=\"M188.967,-504.884C197.787,-495.887 207.441,-486.041 216.619,-476.678\"/>\r\n",
       "<polygon fill=\"black\" stroke=\"black\" points=\"219.352,-478.89 223.854,-469.299 214.354,-473.99 219.352,-478.89\"/>\r\n",
       "<text text-anchor=\"middle\" x=\"224.101\" y=\"-490.598\" font-family=\"Helvetica,sans-Serif\" font-size=\"14.00\">False</text>\r\n",
       "</g>\r\n",
       "<!-- 3 -->\r\n",
       "<g id=\"node4\" class=\"node\"><title>3</title>\r\n",
       "<path fill=\"#e58139\" fill-opacity=\"0.988235\" stroke=\"black\" d=\"M228,-357.5C228,-357.5 139,-357.5 139,-357.5 133,-357.5 127,-351.5 127,-345.5 127,-345.5 127,-316.5 127,-316.5 127,-310.5 133,-304.5 139,-304.5 139,-304.5 228,-304.5 228,-304.5 234,-304.5 240,-310.5 240,-316.5 240,-316.5 240,-345.5 240,-345.5 240,-351.5 234,-357.5 228,-357.5\"/>\r\n",
       "<text text-anchor=\"start\" x=\"146\" y=\"-342.3\" font-family=\"Helvetica,sans-Serif\" font-size=\"14.00\">gini = 0.019</text>\r\n",
       "<text text-anchor=\"start\" x=\"136\" y=\"-327.3\" font-family=\"Helvetica,sans-Serif\" font-size=\"14.00\">samples = 103</text>\r\n",
       "<text text-anchor=\"start\" x=\"135\" y=\"-312.3\" font-family=\"Helvetica,sans-Serif\" font-size=\"14.00\">value = [102, 1]</text>\r\n",
       "</g>\r\n",
       "<!-- 2&#45;&gt;3 -->\r\n",
       "<g id=\"edge3\" class=\"edge\"><title>2&#45;&gt;3</title>\r\n",
       "<path fill=\"none\" stroke=\"black\" d=\"M232.799,-400.884C224.771,-389.666 215.796,-377.126 207.727,-365.852\"/>\r\n",
       "<polygon fill=\"black\" stroke=\"black\" points=\"210.43,-363.615 201.764,-357.52 204.738,-367.689 210.43,-363.615\"/>\r\n",
       "</g>\r\n",
       "<!-- 4 -->\r\n",
       "<g id=\"node5\" class=\"node\"><title>4</title>\r\n",
       "<path fill=\"#e58139\" fill-opacity=\"0.400000\" stroke=\"black\" d=\"M386.5,-365C386.5,-365 270.5,-365 270.5,-365 264.5,-365 258.5,-359 258.5,-353 258.5,-353 258.5,-309 258.5,-309 258.5,-303 264.5,-297 270.5,-297 270.5,-297 386.5,-297 386.5,-297 392.5,-297 398.5,-303 398.5,-309 398.5,-309 398.5,-353 398.5,-353 398.5,-359 392.5,-365 386.5,-365\"/>\r\n",
       "<text text-anchor=\"start\" x=\"266.5\" y=\"-349.8\" font-family=\"Helvetica,sans-Serif\" font-size=\"14.00\">mx&#45;missile ≤ &#45;0.059</text>\r\n",
       "<text text-anchor=\"start\" x=\"291\" y=\"-334.8\" font-family=\"Helvetica,sans-Serif\" font-size=\"14.00\">gini = 0.469</text>\r\n",
       "<text text-anchor=\"start\" x=\"285\" y=\"-319.8\" font-family=\"Helvetica,sans-Serif\" font-size=\"14.00\">samples = 24</text>\r\n",
       "<text text-anchor=\"start\" x=\"284\" y=\"-304.8\" font-family=\"Helvetica,sans-Serif\" font-size=\"14.00\">value = [15, 9]</text>\r\n",
       "</g>\r\n",
       "<!-- 2&#45;&gt;4 -->\r\n",
       "<g id=\"edge4\" class=\"edge\"><title>2&#45;&gt;4</title>\r\n",
       "<path fill=\"none\" stroke=\"black\" d=\"M279.876,-400.884C286.038,-392.154 292.765,-382.625 299.196,-373.514\"/>\r\n",
       "<polygon fill=\"black\" stroke=\"black\" points=\"302.087,-375.487 304.995,-365.299 296.368,-371.451 302.087,-375.487\"/>\r\n",
       "</g>\r\n",
       "<!-- 5 -->\r\n",
       "<g id=\"node6\" class=\"node\"><title>5</title>\r\n",
       "<path fill=\"#e58139\" fill-opacity=\"0.643137\" stroke=\"black\" d=\"M354.5,-261C354.5,-261 94.5,-261 94.5,-261 88.5,-261 82.5,-255 82.5,-249 82.5,-249 82.5,-205 82.5,-205 82.5,-199 88.5,-193 94.5,-193 94.5,-193 354.5,-193 354.5,-193 360.5,-193 366.5,-199 366.5,-205 366.5,-205 366.5,-249 366.5,-249 366.5,-255 360.5,-261 354.5,-261\"/>\r\n",
       "<text text-anchor=\"start\" x=\"90.5\" y=\"-245.8\" font-family=\"Helvetica,sans-Serif\" font-size=\"14.00\">adoption&#45;of&#45;the&#45;budget&#45;resolution ≤ &#45;0.171</text>\r\n",
       "<text text-anchor=\"start\" x=\"187\" y=\"-230.8\" font-family=\"Helvetica,sans-Serif\" font-size=\"14.00\">gini = 0.388</text>\r\n",
       "<text text-anchor=\"start\" x=\"181\" y=\"-215.8\" font-family=\"Helvetica,sans-Serif\" font-size=\"14.00\">samples = 19</text>\r\n",
       "<text text-anchor=\"start\" x=\"180\" y=\"-200.8\" font-family=\"Helvetica,sans-Serif\" font-size=\"14.00\">value = [14, 5]</text>\r\n",
       "</g>\r\n",
       "<!-- 4&#45;&gt;5 -->\r\n",
       "<g id=\"edge5\" class=\"edge\"><title>4&#45;&gt;5</title>\r\n",
       "<path fill=\"none\" stroke=\"black\" d=\"M294.734,-296.884C285.471,-287.798 275.323,-277.845 265.693,-268.4\"/>\r\n",
       "<polygon fill=\"black\" stroke=\"black\" points=\"268.042,-265.803 258.452,-261.299 263.141,-270.8 268.042,-265.803\"/>\r\n",
       "</g>\r\n",
       "<!-- 10 -->\r\n",
       "<g id=\"node11\" class=\"node\"><title>10</title>\r\n",
       "<path fill=\"#399de5\" fill-opacity=\"0.749020\" stroke=\"black\" d=\"M470,-253.5C470,-253.5 397,-253.5 397,-253.5 391,-253.5 385,-247.5 385,-241.5 385,-241.5 385,-212.5 385,-212.5 385,-206.5 391,-200.5 397,-200.5 397,-200.5 470,-200.5 470,-200.5 476,-200.5 482,-206.5 482,-212.5 482,-212.5 482,-241.5 482,-241.5 482,-247.5 476,-253.5 470,-253.5\"/>\r\n",
       "<text text-anchor=\"start\" x=\"400\" y=\"-238.3\" font-family=\"Helvetica,sans-Serif\" font-size=\"14.00\">gini = 0.32</text>\r\n",
       "<text text-anchor=\"start\" x=\"394\" y=\"-223.3\" font-family=\"Helvetica,sans-Serif\" font-size=\"14.00\">samples = 5</text>\r\n",
       "<text text-anchor=\"start\" x=\"393\" y=\"-208.3\" font-family=\"Helvetica,sans-Serif\" font-size=\"14.00\">value = [1, 4]</text>\r\n",
       "</g>\r\n",
       "<!-- 4&#45;&gt;10 -->\r\n",
       "<g id=\"edge10\" class=\"edge\"><title>4&#45;&gt;10</title>\r\n",
       "<path fill=\"none\" stroke=\"black\" d=\"M362.59,-296.884C374.591,-285.226 388.061,-272.141 400.012,-260.532\"/>\r\n",
       "<polygon fill=\"black\" stroke=\"black\" points=\"402.495,-262.998 407.229,-253.52 397.618,-257.977 402.495,-262.998\"/>\r\n",
       "</g>\r\n",
       "<!-- 6 -->\r\n",
       "<g id=\"node7\" class=\"node\"><title>6</title>\r\n",
       "<path fill=\"#e58139\" fill-opacity=\"0.831373\" stroke=\"black\" d=\"M179,-149.5C179,-149.5 98,-149.5 98,-149.5 92,-149.5 86,-143.5 86,-137.5 86,-137.5 86,-108.5 86,-108.5 86,-102.5 92,-96.5 98,-96.5 98,-96.5 179,-96.5 179,-96.5 185,-96.5 191,-102.5 191,-108.5 191,-108.5 191,-137.5 191,-137.5 191,-143.5 185,-149.5 179,-149.5\"/>\r\n",
       "<text text-anchor=\"start\" x=\"101\" y=\"-134.3\" font-family=\"Helvetica,sans-Serif\" font-size=\"14.00\">gini = 0.245</text>\r\n",
       "<text text-anchor=\"start\" x=\"95\" y=\"-119.3\" font-family=\"Helvetica,sans-Serif\" font-size=\"14.00\">samples = 14</text>\r\n",
       "<text text-anchor=\"start\" x=\"94\" y=\"-104.3\" font-family=\"Helvetica,sans-Serif\" font-size=\"14.00\">value = [12, 2]</text>\r\n",
       "</g>\r\n",
       "<!-- 5&#45;&gt;6 -->\r\n",
       "<g id=\"edge6\" class=\"edge\"><title>5&#45;&gt;6</title>\r\n",
       "<path fill=\"none\" stroke=\"black\" d=\"M196.578,-192.884C186.935,-181.446 176.132,-168.634 166.484,-157.19\"/>\r\n",
       "<polygon fill=\"black\" stroke=\"black\" points=\"169.139,-154.909 160.017,-149.52 163.787,-159.421 169.139,-154.909\"/>\r\n",
       "</g>\r\n",
       "<!-- 7 -->\r\n",
       "<g id=\"node8\" class=\"node\"><title>7</title>\r\n",
       "<path fill=\"#399de5\" fill-opacity=\"0.333333\" stroke=\"black\" d=\"M400,-157C400,-157 221,-157 221,-157 215,-157 209,-151 209,-145 209,-145 209,-101 209,-101 209,-95 215,-89 221,-89 221,-89 400,-89 400,-89 406,-89 412,-95 412,-101 412,-101 412,-145 412,-145 412,-151 406,-157 400,-157\"/>\r\n",
       "<text text-anchor=\"start\" x=\"217\" y=\"-141.8\" font-family=\"Helvetica,sans-Serif\" font-size=\"14.00\">anti&#45;satellite&#45;test&#45;ban ≤ &#45;0.135</text>\r\n",
       "<text text-anchor=\"start\" x=\"277\" y=\"-126.8\" font-family=\"Helvetica,sans-Serif\" font-size=\"14.00\">gini = 0.48</text>\r\n",
       "<text text-anchor=\"start\" x=\"271\" y=\"-111.8\" font-family=\"Helvetica,sans-Serif\" font-size=\"14.00\">samples = 5</text>\r\n",
       "<text text-anchor=\"start\" x=\"270\" y=\"-96.8\" font-family=\"Helvetica,sans-Serif\" font-size=\"14.00\">value = [2, 3]</text>\r\n",
       "</g>\r\n",
       "<!-- 5&#45;&gt;7 -->\r\n",
       "<g id=\"edge7\" class=\"edge\"><title>5&#45;&gt;7</title>\r\n",
       "<path fill=\"none\" stroke=\"black\" d=\"M252.422,-192.884C259.932,-183.976 268.145,-174.235 275.968,-164.957\"/>\r\n",
       "<polygon fill=\"black\" stroke=\"black\" points=\"278.654,-167.201 282.424,-157.299 273.302,-162.689 278.654,-167.201\"/>\r\n",
       "</g>\r\n",
       "<!-- 8 -->\r\n",
       "<g id=\"node9\" class=\"node\"><title>8</title>\r\n",
       "<path fill=\"#399de5\" stroke=\"black\" d=\"M289,-53C289,-53 216,-53 216,-53 210,-53 204,-47 204,-41 204,-41 204,-12 204,-12 204,-6 210,-0 216,-0 216,-0 289,-0 289,-0 295,-0 301,-6 301,-12 301,-12 301,-41 301,-41 301,-47 295,-53 289,-53\"/>\r\n",
       "<text text-anchor=\"start\" x=\"223.5\" y=\"-37.8\" font-family=\"Helvetica,sans-Serif\" font-size=\"14.00\">gini = 0.0</text>\r\n",
       "<text text-anchor=\"start\" x=\"213\" y=\"-22.8\" font-family=\"Helvetica,sans-Serif\" font-size=\"14.00\">samples = 3</text>\r\n",
       "<text text-anchor=\"start\" x=\"212\" y=\"-7.8\" font-family=\"Helvetica,sans-Serif\" font-size=\"14.00\">value = [0, 3]</text>\r\n",
       "</g>\r\n",
       "<!-- 7&#45;&gt;8 -->\r\n",
       "<g id=\"edge8\" class=\"edge\"><title>7&#45;&gt;8</title>\r\n",
       "<path fill=\"none\" stroke=\"black\" d=\"M290.214,-88.9485C284.824,-80.1664 278.992,-70.6629 273.561,-61.815\"/>\r\n",
       "<polygon fill=\"black\" stroke=\"black\" points=\"276.51,-59.9287 268.296,-53.2367 270.544,-63.5903 276.51,-59.9287\"/>\r\n",
       "</g>\r\n",
       "<!-- 9 -->\r\n",
       "<g id=\"node10\" class=\"node\"><title>9</title>\r\n",
       "<path fill=\"#e58139\" stroke=\"black\" d=\"M404,-53C404,-53 331,-53 331,-53 325,-53 319,-47 319,-41 319,-41 319,-12 319,-12 319,-6 325,-0 331,-0 331,-0 404,-0 404,-0 410,-0 416,-6 416,-12 416,-12 416,-41 416,-41 416,-47 410,-53 404,-53\"/>\r\n",
       "<text text-anchor=\"start\" x=\"338.5\" y=\"-37.8\" font-family=\"Helvetica,sans-Serif\" font-size=\"14.00\">gini = 0.0</text>\r\n",
       "<text text-anchor=\"start\" x=\"328\" y=\"-22.8\" font-family=\"Helvetica,sans-Serif\" font-size=\"14.00\">samples = 2</text>\r\n",
       "<text text-anchor=\"start\" x=\"327\" y=\"-7.8\" font-family=\"Helvetica,sans-Serif\" font-size=\"14.00\">value = [2, 0]</text>\r\n",
       "</g>\r\n",
       "<!-- 7&#45;&gt;9 -->\r\n",
       "<g id=\"edge9\" class=\"edge\"><title>7&#45;&gt;9</title>\r\n",
       "<path fill=\"none\" stroke=\"black\" d=\"M330.436,-88.9485C335.733,-80.1664 341.465,-70.6629 346.802,-61.815\"/>\r\n",
       "<polygon fill=\"black\" stroke=\"black\" points=\"349.808,-63.6074 351.976,-53.2367 343.814,-59.9919 349.808,-63.6074\"/>\r\n",
       "</g>\r\n",
       "</g>\r\n",
       "</svg>\r\n"
      ],
      "text/plain": [
       "<graphviz.files.Source at 0x2c6225dc7b8>"
      ]
     },
     "execution_count": 20,
     "metadata": {},
     "output_type": "execute_result"
    }
   ],
   "source": [
    "decision_tree = DecisionTreeClassifier(max_depth=6,min_impurity_decrease=0.005)\n",
    "decision_tree.fit(z_score_X_train, y_train)\n",
    "import graphviz\n",
    "dot_data = tree.export_graphviz(decision_tree, out_file=None, \n",
    "                         feature_names=list(dataframe3),  \n",
    "                      #   class_names=list(dataframe2['Class'],  \n",
    "                         filled=True, rounded=True,\n",
    "                         special_characters=True)  \n",
    "graph = graphviz.Source(dot_data)  \n",
    "graph"
   ]
  },
  {
   "cell_type": "markdown",
   "metadata": {},
   "source": [
    "After doing the Z-scoring we can observe that the weight assigned by L1 and L2 descreaes as comapred to weight wihtout Z-scoring.\n",
    "The top three feature for L2 remains the same but there is a change in top feature after that.\n",
    "Before Z-scoring mx-missile which was the 8 the feature in L2 it moved up and become the 4th feature after Z-scoring.\n",
    "\n",
    "In L1 penalty also we can see that mx-missile which was 6th importnt feature before Z-scoring it moved to 10Th position after Z-scoring.\n",
    "\n",
    "However there is very small changes  in the decision tree,almost all the spilitng feature remains the same(the last feature is different but we can see that both the feature have same gini index) and also gini-index remains the same for all the features."
   ]
  },
  {
   "cell_type": "code",
   "execution_count": 21,
   "metadata": {
    "collapsed": false
   },
   "outputs": [],
   "source": [
    "prob_per_instance = logistic_l2_z_score.predict_proba(z_score_X_test)\n"
   ]
  },
  {
   "cell_type": "code",
   "execution_count": 22,
   "metadata": {
    "collapsed": false
   },
   "outputs": [],
   "source": [
    "def evidence_calculator(Object):\n",
    "    positive_evidence =[]\n",
    "    negative_evidence =[]\n",
    "    total_evidence = []\n",
    "    for i,value in enumerate(Object):\n",
    "        evidence = value*logistic_l2_z_score.coef_[0][i]\n",
    "#        print(logistic_l2_z_score.coef_[0][i])\n",
    "        if evidence > 0:\n",
    "            positive_evidence.append(evidence)\n",
    "        elif evidence < 0:\n",
    "            negative_evidence.append(evidence)\n",
    "        total_evidence.append(evidence)\n",
    "    return (positive_evidence,negative_evidence,total_evidence)\n",
    "            "
   ]
  },
  {
   "cell_type": "markdown",
   "metadata": {},
   "source": [
    "# Most positive object with respect to probabilities"
   ]
  },
  {
   "cell_type": "code",
   "execution_count": 23,
   "metadata": {
    "collapsed": false
   },
   "outputs": [
    {
     "name": "stdout",
     "output_type": "stream",
     "text": [
      "The most positive object:\n",
      " [-0.84366149  0.89858412  0.84366149 -0.87999446  0.96288749  0.75694978\n",
      " -1.14434427 -1.21949969 -1.06022997 -1.03142125  1.44766871 -0.85565347\n",
      " -1.08242403 -1.25507818  1.21949969  0.43330717]\n",
      "\n",
      "total Postive evidence: 8.40087132074\n",
      "\n",
      "\n",
      "total Negative evidence: -0.829565534791\n",
      "\n",
      "\n",
      "Probability distribution: [  1.48627568e-04   9.99851372e-01]\n",
      "top 3 positive feature\n",
      "physician-fee-freeze\n",
      "synfuels-corporation-cutback\n",
      "aid-to-nicaraguan-contras\n",
      "\n",
      "\n",
      "top 3 negative features are:\n",
      "mx-missile\n",
      "el-salvador-aid\n"
     ]
    }
   ],
   "source": [
    "print (\"The most positive object:\\n\",z_score_X_test[(np.argmax(prob_per_instance[:,1]))])\n",
    "pos_evidence, neg_evidence,total_evidence = evidence_calculator(z_score_X_test[np.argmax(prob_per_instance[:,1])])\n",
    "total_pos_evidence = 0;\n",
    "total_neg_evidence = 0;\n",
    "for i in pos_evidence:\n",
    "    total_pos_evidence = total_pos_evidence + i\n",
    "for j in neg_evidence:\n",
    "    total_neg_evidence = total_neg_evidence + j\n",
    "index = np.argmax(prob_per_instance[:,1])    \n",
    "\n",
    "print(\"\\ntotal Postive evidence:\", total_pos_evidence)\n",
    "print(\"\\n\\ntotal Negative evidence:\", total_neg_evidence)\n",
    "print(\"\\n\\nProbability distribution:\",prob_per_instance[index] )\n",
    "sorted_evidence_index = np.argsort(total_evidence)\n",
    "#print(sorted_evidence_index)\n",
    "print(\"top 3 positive feature\")\n",
    "total = 1\n",
    "for i in sorted_evidence_index[::-1]:\n",
    "    \n",
    "    if total_evidence[i] > 0 and total < 4:\n",
    "        print(feature_name[i])\n",
    "        total = total +1\n",
    "print(\"\\n\")\n",
    "print(\"top 3 negative features are:\")\n",
    "total = 1\n",
    "for i in sorted_evidence_index:\n",
    "    if total_evidence[i] < 0 and total < 4:\n",
    "        print(feature_name[i])\n",
    "        total = total +1\n"
   ]
  },
  {
   "cell_type": "markdown",
   "metadata": {},
   "source": [
    "# Most negative object with respect to probabilities"
   ]
  },
  {
   "cell_type": "code",
   "execution_count": 24,
   "metadata": {
    "collapsed": false
   },
   "outputs": [
    {
     "name": "stdout",
     "output_type": "stream",
     "text": [
      "The most negative object:\n",
      " [-0.84366149 -1.11286187 -1.18530953  1.13637079  0.96288749 -1.3210916\n",
      "  0.8738629   0.82000841 -1.06022997  0.96953597 -0.69076578  1.16869742\n",
      "  0.92385236  0.79676311 -0.82000841  0.43330717]\n",
      "\n",
      "total Postive evidence: 0.0183431946786\n",
      "\n",
      "\n",
      "total Negative evidence: -8.7691255467\n",
      "\n",
      "\n",
      "Probability distribution: [  9.99451717e-01   5.48283382e-04]\n",
      "top 3 positive feature\n",
      "export-administration-act-south-africa\n",
      "handicapped-infants\n",
      "\n",
      "\n",
      "top 3 negative features are:\n",
      "physician-fee-freeze\n",
      "adoption-of-the-budget-resolution\n",
      "synfuels-corporation-cutback\n"
     ]
    }
   ],
   "source": [
    "print (\"The most negative object:\\n\",z_score_X_test[(np.argmax(prob_per_instance[:,0]))])\n",
    "pos_evidence, neg_evidence,total_evidence = evidence_calculator(z_score_X_test[(np.argmax(prob_per_instance[:,0]))])\n",
    "total_pos_evidence = 0;\n",
    "total_neg_evidence = 0;\n",
    "for i in pos_evidence:\n",
    "    total_pos_evidence = total_pos_evidence + i\n",
    "for j in neg_evidence:\n",
    "    total_neg_evidence = total_neg_evidence + j\n",
    "index = np.argmax(prob_per_instance[:,0])    \n",
    "\n",
    "print(\"\\ntotal Postive evidence:\", total_pos_evidence)\n",
    "print(\"\\n\\ntotal Negative evidence:\", total_neg_evidence)\n",
    "print(\"\\n\\nProbability distribution:\",prob_per_instance[index] )\n",
    "sorted_evidence_index = np.argsort(total_evidence)\n",
    "#print(sorted_evidence_index)\n",
    "print(\"top 3 positive feature\")\n",
    "total = 1\n",
    "\n",
    "for i in sorted_evidence_index[::-1]:\n",
    "    \n",
    "    if total_evidence[i] > 0 and total < 4:\n",
    "        print(feature_name[i])\n",
    "        total = total +1\n",
    "print(\"\\n\")\n",
    "print(\"top 3 negative features are:\")\n",
    "total = 1\n",
    "for i in sorted_evidence_index:\n",
    "    if total_evidence[i] < 0 and total < 4:\n",
    "        print(feature_name[i])\n",
    "        total = total +1"
   ]
  },
  {
   "cell_type": "markdown",
   "metadata": {},
   "source": [
    "# The Object having the Highest Positive evidence"
   ]
  },
  {
   "cell_type": "code",
   "execution_count": 25,
   "metadata": {
    "collapsed": false
   },
   "outputs": [
    {
     "name": "stdout",
     "output_type": "stream",
     "text": [
      "\n",
      "\n",
      " The object having highest evidence [-0.84366149  0.89858412  0.84366149 -0.87999446  0.96288749  0.75694978\n",
      " -1.14434427 -1.21949969 -1.06022997 -1.03142125  1.44766871 -0.85565347\n",
      " -1.08242403 -1.25507818  1.21949969  0.43330717]\n",
      "\n",
      "\n",
      "The total positive evidence: 8.40087132074\n",
      "\n",
      "\n",
      "The total negaitve evidence: -0.829565534791\n",
      "\n",
      "\n",
      "The probability distribution [  1.48627568e-04   9.99851372e-01]\n",
      "top 3 positive feature\n",
      "physician-fee-freeze\n",
      "synfuels-corporation-cutback\n",
      "aid-to-nicaraguan-contras\n",
      "\n",
      "\n",
      "top 3 negative features are:\n",
      "mx-missile\n",
      "el-salvador-aid\n"
     ]
    }
   ],
   "source": [
    "positive_evidence_list = []\n",
    "negative_evidence_list = []\n",
    "overall_total_evidence = []\n",
    "for i in range(0,len(z_score_X_test)):\n",
    "    \n",
    "    total_pos_evidence = 0;\n",
    "    total_neg_evidence = 0;\n",
    "    \n",
    "    pos_evidence, neg_evidence,total_evidence = evidence_calculator(z_score_X_test[i])\n",
    "    for i in pos_evidence:\n",
    "        total_pos_evidence = total_pos_evidence + i\n",
    "    for j in neg_evidence:\n",
    "        total_neg_evidence = total_neg_evidence + j\n",
    "    positive_evidence_list.append(total_pos_evidence)\n",
    "    negative_evidence_list.append(total_neg_evidence)\n",
    "    overall_total_evidence.append(total_evidence)\n",
    "\n",
    "evidence = np.array(overall_total_evidence)\n",
    "positive_evidence = np.array(positive_evidence_list)\n",
    "negative_evidence = np.array(negative_evidence_list)\n",
    "print(\"\\n\\n The object having highest evidence\", z_score_X_test[np.argmax(positive_evidence)])\n",
    "print(\"\\n\\nThe total positive evidence:\",np.amax(positive_evidence) )\n",
    "print(\"\\n\\nThe total negaitve evidence:\", negative_evidence[np.argmax(positive_evidence)])\n",
    "print(\"\\n\\nThe probability distribution\",prob_per_instance[np.argmax(positive_evidence)])\n",
    "total_evidence = overall_total_evidence[np.argmax(positive_evidence)]\n",
    "sorted_evidence_index = np.argsort(total_evidence)\n",
    "#print(sorted_evidence_index)\n",
    "print(\"top 3 positive feature\")\n",
    "total = 1\n",
    "\n",
    "for i in sorted_evidence_index[::-1]:\n",
    "    \n",
    "    if total_evidence[i] > 0 and total < 4:\n",
    "        print(feature_name[i])\n",
    "        total = total +1\n",
    "print(\"\\n\")\n",
    "print(\"top 3 negative features are:\")\n",
    "total = 1\n",
    "for i in sorted_evidence_index:\n",
    "    if total_evidence[i] < 0 and total < 4:\n",
    "        print(feature_name[i])\n",
    "        total = total +1\n",
    "\n",
    "#pos_log_evidence, neg_log_evidence = log_evidence_calulator(X_test.iloc[np.argmax(positive_log_evidence)])"
   ]
  },
  {
   "cell_type": "markdown",
   "metadata": {},
   "source": [
    "# The object that has the largest (in magnitude) negative evidence."
   ]
  },
  {
   "cell_type": "code",
   "execution_count": 26,
   "metadata": {
    "collapsed": false
   },
   "outputs": [
    {
     "name": "stdout",
     "output_type": "stream",
     "text": [
      "n\n",
      "\\The object having highest negative  evidence [-0.84366149 -1.11286187 -1.18530953  1.13637079  0.96288749 -1.3210916\n",
      "  0.8738629   0.82000841 -1.06022997  0.96953597 -0.69076578  1.16869742\n",
      "  0.92385236  0.79676311 -0.82000841  0.43330717]\n",
      "\n",
      "\n",
      "The total positive evidence: 0.0183431946786\n",
      "\n",
      "\n",
      "The total negaitve evidence: -8.7691255467\n",
      "\n",
      "\n",
      "The probability distribution [  9.99451717e-01   5.48283382e-04]\n",
      "top 3 positive feature\n",
      "export-administration-act-south-africa\n",
      "handicapped-infants\n",
      "\n",
      "\n",
      "top 3 negative features are:\n",
      "physician-fee-freeze\n",
      "adoption-of-the-budget-resolution\n",
      "synfuels-corporation-cutback\n"
     ]
    }
   ],
   "source": [
    "positive_evidence_list = []\n",
    "negative_evidence_list = []\n",
    "overall_total_evidence = []\n",
    "for i in range(0,len(z_score_X_test)):\n",
    "    \n",
    "    total_pos_evidence = 0;\n",
    "    total_neg_evidence = 0;\n",
    "    pos_evidence, neg_evidence ,total_evidence = evidence_calculator(z_score_X_test[i])\n",
    "    for i in pos_evidence:\n",
    "        total_pos_evidence = total_pos_evidence + i\n",
    "    for j in neg_evidence:\n",
    "        total_neg_evidence = total_neg_evidence + j\n",
    "    positive_evidence_list.append(total_pos_evidence)\n",
    "    negative_evidence_list.append(total_neg_evidence)\n",
    "    overall_total_evidence.append(total_evidence)\n",
    "\n",
    "positive_evidence = np.array(positive_evidence_list)\n",
    "negative_evidence = np.array(negative_evidence_list)\n",
    "print(\"n\\n\\The object having highest negative  evidence\", z_score_X_test[np.argmax(np.absolute(negative_evidence))])\n",
    "print(\"\\n\\nThe total positive evidence:\",positive_evidence[np.argmax(np.absolute(negative_evidence))])\n",
    "print(\"\\n\\nThe total negaitve evidence:\", np.amin(negative_evidence))\n",
    "print(\"\\n\\nThe probability distribution\",prob_per_instance[np.argmax(np.absolute(negative_evidence))])\n",
    "total_evidence = overall_total_evidence[np.argmax(np.absolute(negative_evidence))]\n",
    "sorted_evidence_index = np.argsort(total_evidence)\n",
    "#print(sorted_evidence_index)\n",
    "print(\"top 3 positive feature\")\n",
    "total = 1\n",
    "\n",
    "for i in sorted_evidence_index[::-1]:\n",
    "    \n",
    "    if total_evidence[i] > 0 and total < 4:\n",
    "        print(feature_name[i])\n",
    "        total = total +1\n",
    "print(\"\\n\")\n",
    "print(\"top 3 negative features are:\")\n",
    "total = 1\n",
    "for i in sorted_evidence_index:\n",
    "    if total_evidence[i] < 0 and total < 4:\n",
    "        print(feature_name[i])\n",
    "        total = total +1"
   ]
  },
  {
   "cell_type": "markdown",
   "metadata": {},
   "source": [
    "# The most uncertain object (the probabilities are closest to 0.5)"
   ]
  },
  {
   "cell_type": "code",
   "execution_count": 27,
   "metadata": {
    "collapsed": false
   },
   "outputs": [
    {
     "name": "stdout",
     "output_type": "stream",
     "text": [
      "The most uncertain object \n",
      " [ 1.18530953  0.89858412 -1.18530953  1.13637079  0.96288749  0.75694978\n",
      " -1.14434427 -1.21949969 -1.06022997 -1.03142125  1.44766871 -0.85565347\n",
      "  0.92385236  0.79676311 -0.82000841  0.43330717]\n",
      "\n",
      "\n",
      "total Postive log evidence: 4.32864499729\n",
      "\n",
      "\n",
      "total Negative log evidence: -5.52835078092\n",
      "\n",
      "\n",
      "Probability distribution: [ 0.48927497  0.51072503]\n",
      "top 3 positive feature\n",
      "synfuels-corporation-cutback\n",
      "aid-to-nicaraguan-contras\n",
      "immigration\n",
      "\n",
      "\n",
      "top 3 negative features are:\n",
      "physician-fee-freeze\n",
      "adoption-of-the-budget-resolution\n",
      "duty-free-exports\n"
     ]
    }
   ],
   "source": [
    "most_uncertain_prob = prob_per_instance[:,0] - prob_per_instance[:,1]\n",
    "#np.min(np.absolute(most_uncertain_prob))\n",
    "print(\"The most uncertain object \\n\", z_score_X_test[np.argmin(np.absolute(most_uncertain_prob))])\n",
    "\n",
    "pos_evidence, neg_evidence,total_evidence = evidence_calculator(z_score_X_test[np.argmin(np.absolute(most_uncertain_prob))])\n",
    "total_pos_evidence = 0;\n",
    "total_neg_evidence = 0;\n",
    "for i in pos_evidence:\n",
    "    total_pos_evidence = total_pos_evidence + i\n",
    "for j in neg_evidence:\n",
    "    total_neg_evidence = total_neg_evidence + j\n",
    "index = np.argmin(np.absolute(most_uncertain_prob))\n",
    "\n",
    "print(\"\\n\\ntotal Postive log evidence:\", total_pos_evidence)\n",
    "print(\"\\n\\ntotal Negative log evidence:\", total_neg_evidence)\n",
    "print(\"\\n\\nProbability distribution:\",prob_per_instance[index] )\n",
    "sorted_evidence_index = np.argsort(total_evidence)\n",
    "#print(sorted_evidence_index)\n",
    "print(\"top 3 positive feature\")\n",
    "total = 1\n",
    "\n",
    "for i in sorted_evidence_index[::-1]:\n",
    "    \n",
    "    if total_evidence[i] > 0 and total < 4:\n",
    "        print(feature_name[i])\n",
    "        total = total +1\n",
    "print(\"\\n\")\n",
    "print(\"top 3 negative features are:\")\n",
    "total = 1\n",
    "for i in sorted_evidence_index:\n",
    "    if total_evidence[i] < 0 and total < 4:\n",
    "        print(feature_name[i])\n",
    "        total = total +1\n"
   ]
  },
  {
   "cell_type": "code",
   "execution_count": null,
   "metadata": {
    "collapsed": true
   },
   "outputs": [],
   "source": []
  },
  {
   "cell_type": "code",
   "execution_count": null,
   "metadata": {
    "collapsed": false
   },
   "outputs": [],
   "source": []
  },
  {
   "cell_type": "code",
   "execution_count": null,
   "metadata": {
    "collapsed": true
   },
   "outputs": [],
   "source": []
  }
 ],
 "metadata": {
  "kernelspec": {
   "display_name": "Python 3",
   "language": "python",
   "name": "python3"
  },
  "language_info": {
   "codemirror_mode": {
    "name": "ipython",
    "version": 3
   },
   "file_extension": ".py",
   "mimetype": "text/x-python",
   "name": "python",
   "nbconvert_exporter": "python",
   "pygments_lexer": "ipython3",
   "version": "3.6.2"
  }
 },
 "nbformat": 4,
 "nbformat_minor": 2
}
