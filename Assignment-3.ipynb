{
 "cells": [
  {
   "cell_type": "markdown",
   "metadata": {},
   "source": [
    "# Congressional Voting Records Data Set"
   ]
  },
  {
   "cell_type": "markdown",
   "metadata": {},
   "source": [
    " This data set includes votes for each of the U.S. House of Representatives Congressmen on the 16 key votes identified by the CQA. The CQA lists nine different types of votes: voted for, paired for, and announced for (these three simplified to yea), voted against, paired against, and announced against (these three simplified to nay), voted present, voted present to avoid conflict of interest, and did not vote or otherwise make a position known (these three simplified to an unknown disposition)."
   ]
  },
  {
   "cell_type": "markdown",
   "metadata": {},
   "source": [
    "Attribute Information:\n",
    "\n",
    "1. Class Name: 2 (democrat, republican) \n",
    "2. handicapped-infants: 2 (y,n) \n",
    "3. water-project-cost-sharing: 2 (y,n) \n",
    "4. adoption-of-the-budget-resolution: 2 (y,n) \n",
    "5. physician-fee-freeze: 2 (y,n) \n",
    "6. el-salvador-aid: 2 (y,n) \n",
    "7. religious-groups-in-schools: 2 (y,n) \n",
    "8. anti-satellite-test-ban: 2 (y,n) \n",
    "9. aid-to-nicaraguan-contras: 2 (y,n) \n",
    "10. mx-missile: 2 (y,n) \n",
    "11. immigration: 2 (y,n) \n",
    "12. synfuels-corporation-cutback: 2 (y,n) \n",
    "13. education-spending: 2 (y,n) \n",
    "14. superfund-right-to-sue: 2 (y,n) \n",
    "15. crime: 2 (y,n) \n",
    "16. duty-free-exports: 2 (y,n) \n",
    "17. export-administration-act-south-africa: 2 (y,n)"
   ]
  },
  {
   "cell_type": "markdown",
   "metadata": {},
   "source": [
    "URL:https://archive.ics.uci.edu/ml/datasets/congressional+voting+records"
   ]
  },
  {
   "cell_type": "markdown",
   "metadata": {},
   "source": [
    "# Section 2: Loading the dataset and preprocessing of data"
   ]
  },
  {
   "cell_type": "code",
   "execution_count": 1,
   "metadata": {
    "collapsed": true
   },
   "outputs": [],
   "source": [
    "import pandas as pd\n",
    "import numpy as np\n",
    "dataframe1 = pd.read_csv(\"E:\\Tranparent machine learning\\CongressDataset.csv\")\n"
   ]
  },
  {
   "cell_type": "markdown",
   "metadata": {},
   "source": [
    "Replacing the missing value \"?\" with NaN and then converting the String values into Boolean( as Scikit Learn decision tree classifier works only with numeric or boolean values) and after that replacing all the NaN values with mode of that particular column( We can also drop the rows having NaN values but that may lead to potential data loss)."
   ]
  },
  {
   "cell_type": "code",
   "execution_count": 2,
   "metadata": {
    "collapsed": false
   },
   "outputs": [],
   "source": [
    "dataframe2 = dataframe1.replace('?',np.NaN)\n",
    "for column in dataframe2.columns:\n",
    "    dataframe2[column].fillna(dataframe2[column].mode()[0], inplace=True)\n"
   ]
  },
  {
   "cell_type": "markdown",
   "metadata": {},
   "source": [
    "Converting all the feautres into boolean Values"
   ]
  },
  {
   "cell_type": "code",
   "execution_count": 3,
   "metadata": {
    "collapsed": true
   },
   "outputs": [],
   "source": [
    "dataframe2['Class'] = dataframe2['Class'].map(lambda x : \"y\" if x == \"democrat\" else \"n\")\n",
    "dataframe2 = dataframe2.applymap(lambda x:True if x == \"y\" else False)"
   ]
  },
  {
   "cell_type": "code",
   "execution_count": null,
   "metadata": {
    "collapsed": false
   },
   "outputs": [],
   "source": []
  },
  {
   "cell_type": "markdown",
   "metadata": {},
   "source": [
    "Making a copy of dataset and then spiliting it into training and test data"
   ]
  },
  {
   "cell_type": "code",
   "execution_count": 4,
   "metadata": {
    "collapsed": true
   },
   "outputs": [],
   "source": [
    "dataframe3 = dataframe2.copy(deep = True)\n"
   ]
  },
  {
   "cell_type": "markdown",
   "metadata": {},
   "source": [
    "Removing the column which is to predicted from the dataset"
   ]
  },
  {
   "cell_type": "code",
   "execution_count": 5,
   "metadata": {
    "collapsed": false
   },
   "outputs": [],
   "source": [
    "del dataframe3['Class']\n",
    "\n"
   ]
  },
  {
   "cell_type": "code",
   "execution_count": null,
   "metadata": {
    "collapsed": false
   },
   "outputs": [],
   "source": []
  },
  {
   "cell_type": "markdown",
   "metadata": {},
   "source": [
    "Spilting dataset into training and test data"
   ]
  },
  {
   "cell_type": "code",
   "execution_count": 6,
   "metadata": {
    "collapsed": false
   },
   "outputs": [
    {
     "name": "stderr",
     "output_type": "stream",
     "text": [
      "C:\\Users\\sunvi\\Anaconda3\\lib\\site-packages\\sklearn\\cross_validation.py:44: DeprecationWarning: This module was deprecated in version 0.18 in favor of the model_selection module into which all the refactored classes and functions are moved. Also note that the interface of the new CV iterators are different from that of this module. This module will be removed in 0.20.\n",
      "  \"This module will be removed in 0.20.\", DeprecationWarning)\n"
     ]
    }
   ],
   "source": [
    "from sklearn.cross_validation import train_test_split\n",
    "X_train, X_test, y_train, y_test = train_test_split( dataframe3, dataframe2['Class'], test_size = 0.33)"
   ]
  },
  {
   "cell_type": "markdown",
   "metadata": {},
   "source": [
    "Importing decision tree classifier from scikit learning and calculating the accuracy on train and test data and depending on the depth"
   ]
  },
  {
   "cell_type": "code",
   "execution_count": null,
   "metadata": {
    "collapsed": true
   },
   "outputs": [],
   "source": []
  },
  {
   "cell_type": "code",
   "execution_count": 7,
   "metadata": {
    "collapsed": true
   },
   "outputs": [],
   "source": [
    "from sklearn import tree\n",
    "dtc = tree.DecisionTreeClassifier()\n",
    "from sklearn.tree import DecisionTreeClassifier\n"
   ]
  },
  {
   "cell_type": "markdown",
   "metadata": {},
   "source": [
    "Decision Tree with depth = 1 on Training data"
   ]
  },
  {
   "cell_type": "code",
   "execution_count": 8,
   "metadata": {
    "collapsed": false
   },
   "outputs": [
    {
     "name": "stdout",
     "output_type": "stream",
     "text": [
      "Accuracy is  96.5635738832\n"
     ]
    }
   ],
   "source": [
    "model1 = DecisionTreeClassifier(max_depth=1)\n",
    "model1.fit(X_train, y_train)\n",
    "print (\"Accuracy is \", model1.score(X_train,y_train)*100)"
   ]
  },
  {
   "cell_type": "code",
   "execution_count": 9,
   "metadata": {
    "collapsed": false
   },
   "outputs": [
    {
     "data": {
      "image/svg+xml": [
       "<?xml version=\"1.0\" encoding=\"UTF-8\" standalone=\"no\"?>\r\n",
       "<!DOCTYPE svg PUBLIC \"-//W3C//DTD SVG 1.1//EN\"\r\n",
       " \"http://www.w3.org/Graphics/SVG/1.1/DTD/svg11.dtd\">\r\n",
       "<!-- Generated by graphviz version 2.38.0 (20140413.2041)\r\n",
       " -->\r\n",
       "<!-- Title: Tree Pages: 1 -->\r\n",
       "<svg width=\"244pt\" height=\"165pt\"\r\n",
       " viewBox=\"0.00 0.00 244.00 165.00\" xmlns=\"http://www.w3.org/2000/svg\" xmlns:xlink=\"http://www.w3.org/1999/xlink\">\r\n",
       "<g id=\"graph0\" class=\"graph\" transform=\"scale(1 1) rotate(0) translate(4 161)\">\r\n",
       "<title>Tree</title>\r\n",
       "<polygon fill=\"white\" stroke=\"none\" points=\"-4,4 -4,-161 240,-161 240,4 -4,4\"/>\r\n",
       "<!-- 0 -->\r\n",
       "<g id=\"node1\" class=\"node\"><title>0</title>\r\n",
       "<path fill=\"#399de5\" fill-opacity=\"0.498039\" stroke=\"black\" d=\"M198,-157C198,-157 41,-157 41,-157 35,-157 29,-151 29,-145 29,-145 29,-101 29,-101 29,-95 35,-89 41,-89 41,-89 198,-89 198,-89 204,-89 210,-95 210,-101 210,-101 210,-145 210,-145 210,-151 204,-157 198,-157\"/>\r\n",
       "<text text-anchor=\"start\" x=\"37\" y=\"-141.8\" font-family=\"Helvetica,sans-Serif\" font-size=\"14.00\">physician&#45;fee&#45;freeze ≤ 0.5</text>\r\n",
       "<text text-anchor=\"start\" x=\"78\" y=\"-126.8\" font-family=\"Helvetica,sans-Serif\" font-size=\"14.00\">gini = 0.4444</text>\r\n",
       "<text text-anchor=\"start\" x=\"72\" y=\"-111.8\" font-family=\"Helvetica,sans-Serif\" font-size=\"14.00\">samples = 291</text>\r\n",
       "<text text-anchor=\"start\" x=\"66.5\" y=\"-96.8\" font-family=\"Helvetica,sans-Serif\" font-size=\"14.00\">value = [97, 194]</text>\r\n",
       "</g>\r\n",
       "<!-- 1 -->\r\n",
       "<g id=\"node2\" class=\"node\"><title>1</title>\r\n",
       "<path fill=\"#399de5\" fill-opacity=\"0.980392\" stroke=\"black\" d=\"M101,-53C101,-53 12,-53 12,-53 6,-53 0,-47 0,-41 0,-41 0,-12 0,-12 0,-6 6,-0 12,-0 12,-0 101,-0 101,-0 107,-0 113,-6 113,-12 113,-12 113,-41 113,-41 113,-47 107,-53 101,-53\"/>\r\n",
       "<text text-anchor=\"start\" x=\"15\" y=\"-37.8\" font-family=\"Helvetica,sans-Serif\" font-size=\"14.00\">gini = 0.0408</text>\r\n",
       "<text text-anchor=\"start\" x=\"9\" y=\"-22.8\" font-family=\"Helvetica,sans-Serif\" font-size=\"14.00\">samples = 192</text>\r\n",
       "<text text-anchor=\"start\" x=\"8\" y=\"-7.8\" font-family=\"Helvetica,sans-Serif\" font-size=\"14.00\">value = [4, 188]</text>\r\n",
       "</g>\r\n",
       "<!-- 0&#45;&gt;1 -->\r\n",
       "<g id=\"edge1\" class=\"edge\"><title>0&#45;&gt;1</title>\r\n",
       "<path fill=\"none\" stroke=\"black\" d=\"M97.4657,-88.9485C91.6109,-80.1664 85.2753,-70.6629 79.3767,-61.815\"/>\r\n",
       "<polygon fill=\"black\" stroke=\"black\" points=\"82.117,-59.6158 73.6578,-53.2367 76.2927,-63.4987 82.117,-59.6158\"/>\r\n",
       "<text text-anchor=\"middle\" x=\"68.7549\" y=\"-74.0512\" font-family=\"Helvetica,sans-Serif\" font-size=\"14.00\">True</text>\r\n",
       "</g>\r\n",
       "<!-- 2 -->\r\n",
       "<g id=\"node3\" class=\"node\"><title>2</title>\r\n",
       "<path fill=\"#e58139\" fill-opacity=\"0.937255\" stroke=\"black\" d=\"M224,-53C224,-53 143,-53 143,-53 137,-53 131,-47 131,-41 131,-41 131,-12 131,-12 131,-6 137,-0 143,-0 143,-0 224,-0 224,-0 230,-0 236,-6 236,-12 236,-12 236,-41 236,-41 236,-47 230,-53 224,-53\"/>\r\n",
       "<text text-anchor=\"start\" x=\"142\" y=\"-37.8\" font-family=\"Helvetica,sans-Serif\" font-size=\"14.00\">gini = 0.1139</text>\r\n",
       "<text text-anchor=\"start\" x=\"140\" y=\"-22.8\" font-family=\"Helvetica,sans-Serif\" font-size=\"14.00\">samples = 99</text>\r\n",
       "<text text-anchor=\"start\" x=\"139\" y=\"-7.8\" font-family=\"Helvetica,sans-Serif\" font-size=\"14.00\">value = [93, 6]</text>\r\n",
       "</g>\r\n",
       "<!-- 0&#45;&gt;2 -->\r\n",
       "<g id=\"edge2\" class=\"edge\"><title>0&#45;&gt;2</title>\r\n",
       "<path fill=\"none\" stroke=\"black\" d=\"M141.884,-88.9485C147.894,-80.0749 154.402,-70.4648 160.447,-61.5388\"/>\r\n",
       "<polygon fill=\"black\" stroke=\"black\" points=\"163.36,-63.4792 166.07,-53.2367 157.564,-59.5539 163.36,-63.4792\"/>\r\n",
       "<text text-anchor=\"middle\" x=\"170.794\" y=\"-74.0863\" font-family=\"Helvetica,sans-Serif\" font-size=\"14.00\">False</text>\r\n",
       "</g>\r\n",
       "</g>\r\n",
       "</svg>\r\n"
      ],
      "text/plain": [
       "<graphviz.files.Source at 0x269e2273240>"
      ]
     },
     "execution_count": 9,
     "metadata": {},
     "output_type": "execute_result"
    }
   ],
   "source": [
    "import graphviz\n",
    "dot_data = tree.export_graphviz(model1, out_file=None, \n",
    "                         feature_names=list(dataframe3),  \n",
    "                      #   class_names=list(dataframe2['Class'],  \n",
    "                         filled=True, rounded=True,\n",
    "                         special_characters=True)  \n",
    "graph = graphviz.Source(dot_data)  \n",
    "graph"
   ]
  },
  {
   "cell_type": "markdown",
   "metadata": {},
   "source": [
    "Decision tree with depth= 1 on test data"
   ]
  },
  {
   "cell_type": "code",
   "execution_count": 10,
   "metadata": {
    "collapsed": false
   },
   "outputs": [
    {
     "name": "stdout",
     "output_type": "stream",
     "text": [
      "Accuracy is  93.75\n"
     ]
    }
   ],
   "source": [
    "print (\"Accuracy is \", model1.score(X_test,y_test)*100)"
   ]
  },
  {
   "cell_type": "code",
   "execution_count": 11,
   "metadata": {
    "collapsed": false
   },
   "outputs": [
    {
     "data": {
      "image/svg+xml": [
       "<?xml version=\"1.0\" encoding=\"UTF-8\" standalone=\"no\"?>\r\n",
       "<!DOCTYPE svg PUBLIC \"-//W3C//DTD SVG 1.1//EN\"\r\n",
       " \"http://www.w3.org/Graphics/SVG/1.1/DTD/svg11.dtd\">\r\n",
       "<!-- Generated by graphviz version 2.38.0 (20140413.2041)\r\n",
       " -->\r\n",
       "<!-- Title: Tree Pages: 1 -->\r\n",
       "<svg width=\"244pt\" height=\"165pt\"\r\n",
       " viewBox=\"0.00 0.00 244.00 165.00\" xmlns=\"http://www.w3.org/2000/svg\" xmlns:xlink=\"http://www.w3.org/1999/xlink\">\r\n",
       "<g id=\"graph0\" class=\"graph\" transform=\"scale(1 1) rotate(0) translate(4 161)\">\r\n",
       "<title>Tree</title>\r\n",
       "<polygon fill=\"white\" stroke=\"none\" points=\"-4,4 -4,-161 240,-161 240,4 -4,4\"/>\r\n",
       "<!-- 0 -->\r\n",
       "<g id=\"node1\" class=\"node\"><title>0</title>\r\n",
       "<path fill=\"#399de5\" fill-opacity=\"0.498039\" stroke=\"black\" d=\"M198,-157C198,-157 41,-157 41,-157 35,-157 29,-151 29,-145 29,-145 29,-101 29,-101 29,-95 35,-89 41,-89 41,-89 198,-89 198,-89 204,-89 210,-95 210,-101 210,-101 210,-145 210,-145 210,-151 204,-157 198,-157\"/>\r\n",
       "<text text-anchor=\"start\" x=\"37\" y=\"-141.8\" font-family=\"Helvetica,sans-Serif\" font-size=\"14.00\">physician&#45;fee&#45;freeze ≤ 0.5</text>\r\n",
       "<text text-anchor=\"start\" x=\"78\" y=\"-126.8\" font-family=\"Helvetica,sans-Serif\" font-size=\"14.00\">gini = 0.4444</text>\r\n",
       "<text text-anchor=\"start\" x=\"72\" y=\"-111.8\" font-family=\"Helvetica,sans-Serif\" font-size=\"14.00\">samples = 291</text>\r\n",
       "<text text-anchor=\"start\" x=\"66.5\" y=\"-96.8\" font-family=\"Helvetica,sans-Serif\" font-size=\"14.00\">value = [97, 194]</text>\r\n",
       "</g>\r\n",
       "<!-- 1 -->\r\n",
       "<g id=\"node2\" class=\"node\"><title>1</title>\r\n",
       "<path fill=\"#399de5\" fill-opacity=\"0.980392\" stroke=\"black\" d=\"M101,-53C101,-53 12,-53 12,-53 6,-53 0,-47 0,-41 0,-41 0,-12 0,-12 0,-6 6,-0 12,-0 12,-0 101,-0 101,-0 107,-0 113,-6 113,-12 113,-12 113,-41 113,-41 113,-47 107,-53 101,-53\"/>\r\n",
       "<text text-anchor=\"start\" x=\"15\" y=\"-37.8\" font-family=\"Helvetica,sans-Serif\" font-size=\"14.00\">gini = 0.0408</text>\r\n",
       "<text text-anchor=\"start\" x=\"9\" y=\"-22.8\" font-family=\"Helvetica,sans-Serif\" font-size=\"14.00\">samples = 192</text>\r\n",
       "<text text-anchor=\"start\" x=\"8\" y=\"-7.8\" font-family=\"Helvetica,sans-Serif\" font-size=\"14.00\">value = [4, 188]</text>\r\n",
       "</g>\r\n",
       "<!-- 0&#45;&gt;1 -->\r\n",
       "<g id=\"edge1\" class=\"edge\"><title>0&#45;&gt;1</title>\r\n",
       "<path fill=\"none\" stroke=\"black\" d=\"M97.4657,-88.9485C91.6109,-80.1664 85.2753,-70.6629 79.3767,-61.815\"/>\r\n",
       "<polygon fill=\"black\" stroke=\"black\" points=\"82.117,-59.6158 73.6578,-53.2367 76.2927,-63.4987 82.117,-59.6158\"/>\r\n",
       "<text text-anchor=\"middle\" x=\"68.7549\" y=\"-74.0512\" font-family=\"Helvetica,sans-Serif\" font-size=\"14.00\">True</text>\r\n",
       "</g>\r\n",
       "<!-- 2 -->\r\n",
       "<g id=\"node3\" class=\"node\"><title>2</title>\r\n",
       "<path fill=\"#e58139\" fill-opacity=\"0.937255\" stroke=\"black\" d=\"M224,-53C224,-53 143,-53 143,-53 137,-53 131,-47 131,-41 131,-41 131,-12 131,-12 131,-6 137,-0 143,-0 143,-0 224,-0 224,-0 230,-0 236,-6 236,-12 236,-12 236,-41 236,-41 236,-47 230,-53 224,-53\"/>\r\n",
       "<text text-anchor=\"start\" x=\"142\" y=\"-37.8\" font-family=\"Helvetica,sans-Serif\" font-size=\"14.00\">gini = 0.1139</text>\r\n",
       "<text text-anchor=\"start\" x=\"140\" y=\"-22.8\" font-family=\"Helvetica,sans-Serif\" font-size=\"14.00\">samples = 99</text>\r\n",
       "<text text-anchor=\"start\" x=\"139\" y=\"-7.8\" font-family=\"Helvetica,sans-Serif\" font-size=\"14.00\">value = [93, 6]</text>\r\n",
       "</g>\r\n",
       "<!-- 0&#45;&gt;2 -->\r\n",
       "<g id=\"edge2\" class=\"edge\"><title>0&#45;&gt;2</title>\r\n",
       "<path fill=\"none\" stroke=\"black\" d=\"M141.884,-88.9485C147.894,-80.0749 154.402,-70.4648 160.447,-61.5388\"/>\r\n",
       "<polygon fill=\"black\" stroke=\"black\" points=\"163.36,-63.4792 166.07,-53.2367 157.564,-59.5539 163.36,-63.4792\"/>\r\n",
       "<text text-anchor=\"middle\" x=\"170.794\" y=\"-74.0863\" font-family=\"Helvetica,sans-Serif\" font-size=\"14.00\">False</text>\r\n",
       "</g>\r\n",
       "</g>\r\n",
       "</svg>\r\n"
      ],
      "text/plain": [
       "<graphviz.files.Source at 0x269e2273160>"
      ]
     },
     "execution_count": 11,
     "metadata": {},
     "output_type": "execute_result"
    }
   ],
   "source": [
    "dot_data = tree.export_graphviz(model1, out_file=None, \n",
    "                         feature_names=list(dataframe3),  \n",
    "                      #   class_names=list(dataframe2['Class'],  \n",
    "                         filled=True, rounded=True,\n",
    "                         special_characters=True)  \n",
    "graph = graphviz.Source(dot_data)  \n",
    "graph"
   ]
  },
  {
   "cell_type": "markdown",
   "metadata": {},
   "source": [
    "Decision tree with depth= 2 on training data"
   ]
  },
  {
   "cell_type": "code",
   "execution_count": 12,
   "metadata": {
    "collapsed": false
   },
   "outputs": [
    {
     "name": "stdout",
     "output_type": "stream",
     "text": [
      "Accuracy is  96.5635738832\n"
     ]
    }
   ],
   "source": [
    "model1 = DecisionTreeClassifier(max_depth=2)\n",
    "model1.fit(X_train, y_train)\n",
    "print (\"Accuracy is \", model1.score(X_train,y_train)*100)"
   ]
  },
  {
   "cell_type": "code",
   "execution_count": 13,
   "metadata": {
    "collapsed": false
   },
   "outputs": [
    {
     "data": {
      "image/svg+xml": [
       "<?xml version=\"1.0\" encoding=\"UTF-8\" standalone=\"no\"?>\r\n",
       "<!DOCTYPE svg PUBLIC \"-//W3C//DTD SVG 1.1//EN\"\r\n",
       " \"http://www.w3.org/Graphics/SVG/1.1/DTD/svg11.dtd\">\r\n",
       "<!-- Generated by graphviz version 2.38.0 (20140413.2041)\r\n",
       " -->\r\n",
       "<!-- Title: Tree Pages: 1 -->\r\n",
       "<svg width=\"547pt\" height=\"269pt\"\r\n",
       " viewBox=\"0.00 0.00 547.00 269.00\" xmlns=\"http://www.w3.org/2000/svg\" xmlns:xlink=\"http://www.w3.org/1999/xlink\">\r\n",
       "<g id=\"graph0\" class=\"graph\" transform=\"scale(1 1) rotate(0) translate(4 265)\">\r\n",
       "<title>Tree</title>\r\n",
       "<polygon fill=\"white\" stroke=\"none\" points=\"-4,4 -4,-265 543,-265 543,4 -4,4\"/>\r\n",
       "<!-- 0 -->\r\n",
       "<g id=\"node1\" class=\"node\"><title>0</title>\r\n",
       "<path fill=\"#399de5\" fill-opacity=\"0.498039\" stroke=\"black\" d=\"M343,-261C343,-261 186,-261 186,-261 180,-261 174,-255 174,-249 174,-249 174,-205 174,-205 174,-199 180,-193 186,-193 186,-193 343,-193 343,-193 349,-193 355,-199 355,-205 355,-205 355,-249 355,-249 355,-255 349,-261 343,-261\"/>\r\n",
       "<text text-anchor=\"start\" x=\"182\" y=\"-245.8\" font-family=\"Helvetica,sans-Serif\" font-size=\"14.00\">physician&#45;fee&#45;freeze ≤ 0.5</text>\r\n",
       "<text text-anchor=\"start\" x=\"223\" y=\"-230.8\" font-family=\"Helvetica,sans-Serif\" font-size=\"14.00\">gini = 0.4444</text>\r\n",
       "<text text-anchor=\"start\" x=\"217\" y=\"-215.8\" font-family=\"Helvetica,sans-Serif\" font-size=\"14.00\">samples = 291</text>\r\n",
       "<text text-anchor=\"start\" x=\"211.5\" y=\"-200.8\" font-family=\"Helvetica,sans-Serif\" font-size=\"14.00\">value = [97, 194]</text>\r\n",
       "</g>\r\n",
       "<!-- 1 -->\r\n",
       "<g id=\"node2\" class=\"node\"><title>1</title>\r\n",
       "<path fill=\"#399de5\" fill-opacity=\"0.980392\" stroke=\"black\" d=\"M251,-157C251,-157 12,-157 12,-157 6,-157 0,-151 0,-145 0,-145 0,-101 0,-101 0,-95 6,-89 12,-89 12,-89 251,-89 251,-89 257,-89 263,-95 263,-101 263,-101 263,-145 263,-145 263,-151 257,-157 251,-157\"/>\r\n",
       "<text text-anchor=\"start\" x=\"8\" y=\"-141.8\" font-family=\"Helvetica,sans-Serif\" font-size=\"14.00\">adoption&#45;of&#45;the&#45;budget&#45;resolution ≤ 0.5</text>\r\n",
       "<text text-anchor=\"start\" x=\"90\" y=\"-126.8\" font-family=\"Helvetica,sans-Serif\" font-size=\"14.00\">gini = 0.0408</text>\r\n",
       "<text text-anchor=\"start\" x=\"84\" y=\"-111.8\" font-family=\"Helvetica,sans-Serif\" font-size=\"14.00\">samples = 192</text>\r\n",
       "<text text-anchor=\"start\" x=\"83\" y=\"-96.8\" font-family=\"Helvetica,sans-Serif\" font-size=\"14.00\">value = [4, 188]</text>\r\n",
       "</g>\r\n",
       "<!-- 0&#45;&gt;1 -->\r\n",
       "<g id=\"edge1\" class=\"edge\"><title>0&#45;&gt;1</title>\r\n",
       "<path fill=\"none\" stroke=\"black\" d=\"M221.319,-192.884C209.123,-183.531 195.73,-173.259 183.094,-163.568\"/>\r\n",
       "<polygon fill=\"black\" stroke=\"black\" points=\"184.985,-160.608 174.92,-157.299 180.725,-166.162 184.985,-160.608\"/>\r\n",
       "<text text-anchor=\"middle\" x=\"178.189\" y=\"-178.385\" font-family=\"Helvetica,sans-Serif\" font-size=\"14.00\">True</text>\r\n",
       "</g>\r\n",
       "<!-- 4 -->\r\n",
       "<g id=\"node5\" class=\"node\"><title>4</title>\r\n",
       "<path fill=\"#e58139\" fill-opacity=\"0.937255\" stroke=\"black\" d=\"M502,-157C502,-157 293,-157 293,-157 287,-157 281,-151 281,-145 281,-145 281,-101 281,-101 281,-95 287,-89 293,-89 293,-89 502,-89 502,-89 508,-89 514,-95 514,-101 514,-101 514,-145 514,-145 514,-151 508,-157 502,-157\"/>\r\n",
       "<text text-anchor=\"start\" x=\"289\" y=\"-141.8\" font-family=\"Helvetica,sans-Serif\" font-size=\"14.00\">synfuels&#45;corporation&#45;cutback ≤ 0.5</text>\r\n",
       "<text text-anchor=\"start\" x=\"356\" y=\"-126.8\" font-family=\"Helvetica,sans-Serif\" font-size=\"14.00\">gini = 0.1139</text>\r\n",
       "<text text-anchor=\"start\" x=\"354\" y=\"-111.8\" font-family=\"Helvetica,sans-Serif\" font-size=\"14.00\">samples = 99</text>\r\n",
       "<text text-anchor=\"start\" x=\"353\" y=\"-96.8\" font-family=\"Helvetica,sans-Serif\" font-size=\"14.00\">value = [93, 6]</text>\r\n",
       "</g>\r\n",
       "<!-- 0&#45;&gt;4 -->\r\n",
       "<g id=\"edge4\" class=\"edge\"><title>0&#45;&gt;4</title>\r\n",
       "<path fill=\"none\" stroke=\"black\" d=\"M307.681,-192.884C319.877,-183.531 333.27,-173.259 345.906,-163.568\"/>\r\n",
       "<polygon fill=\"black\" stroke=\"black\" points=\"348.275,-166.162 354.08,-157.299 344.015,-160.608 348.275,-166.162\"/>\r\n",
       "<text text-anchor=\"middle\" x=\"350.811\" y=\"-178.385\" font-family=\"Helvetica,sans-Serif\" font-size=\"14.00\">False</text>\r\n",
       "</g>\r\n",
       "<!-- 2 -->\r\n",
       "<g id=\"node3\" class=\"node\"><title>2</title>\r\n",
       "<path fill=\"#399de5\" fill-opacity=\"0.894118\" stroke=\"black\" d=\"M117,-53C117,-53 36,-53 36,-53 30,-53 24,-47 24,-41 24,-41 24,-12 24,-12 24,-6 30,-0 36,-0 36,-0 117,-0 117,-0 123,-0 129,-6 129,-12 129,-12 129,-41 129,-41 129,-47 123,-53 117,-53\"/>\r\n",
       "<text text-anchor=\"start\" x=\"35\" y=\"-37.8\" font-family=\"Helvetica,sans-Serif\" font-size=\"14.00\">gini = 0.1723</text>\r\n",
       "<text text-anchor=\"start\" x=\"33\" y=\"-22.8\" font-family=\"Helvetica,sans-Serif\" font-size=\"14.00\">samples = 21</text>\r\n",
       "<text text-anchor=\"start\" x=\"32\" y=\"-7.8\" font-family=\"Helvetica,sans-Serif\" font-size=\"14.00\">value = [2, 19]</text>\r\n",
       "</g>\r\n",
       "<!-- 1&#45;&gt;2 -->\r\n",
       "<g id=\"edge2\" class=\"edge\"><title>1&#45;&gt;2</title>\r\n",
       "<path fill=\"none\" stroke=\"black\" d=\"M112.264,-88.9485C107.206,-80.2579 101.736,-70.8608 96.6328,-62.0917\"/>\r\n",
       "<polygon fill=\"black\" stroke=\"black\" points=\"99.5342,-60.1189 91.479,-53.2367 93.4843,-63.6401 99.5342,-60.1189\"/>\r\n",
       "</g>\r\n",
       "<!-- 3 -->\r\n",
       "<g id=\"node4\" class=\"node\"><title>3</title>\r\n",
       "<path fill=\"#399de5\" fill-opacity=\"0.988235\" stroke=\"black\" d=\"M248,-53C248,-53 159,-53 159,-53 153,-53 147,-47 147,-41 147,-41 147,-12 147,-12 147,-6 153,-0 159,-0 159,-0 248,-0 248,-0 254,-0 260,-6 260,-12 260,-12 260,-41 260,-41 260,-47 254,-53 248,-53\"/>\r\n",
       "<text text-anchor=\"start\" x=\"162\" y=\"-37.8\" font-family=\"Helvetica,sans-Serif\" font-size=\"14.00\">gini = 0.0231</text>\r\n",
       "<text text-anchor=\"start\" x=\"156\" y=\"-22.8\" font-family=\"Helvetica,sans-Serif\" font-size=\"14.00\">samples = 171</text>\r\n",
       "<text text-anchor=\"start\" x=\"155\" y=\"-7.8\" font-family=\"Helvetica,sans-Serif\" font-size=\"14.00\">value = [2, 169]</text>\r\n",
       "</g>\r\n",
       "<!-- 1&#45;&gt;3 -->\r\n",
       "<g id=\"edge3\" class=\"edge\"><title>1&#45;&gt;3</title>\r\n",
       "<path fill=\"none\" stroke=\"black\" d=\"M156.682,-88.9485C163.513,-79.9834 170.916,-70.2666 177.776,-61.2629\"/>\r\n",
       "<polygon fill=\"black\" stroke=\"black\" points=\"180.615,-63.3122 183.891,-53.2367 175.047,-59.0699 180.615,-63.3122\"/>\r\n",
       "</g>\r\n",
       "<!-- 5 -->\r\n",
       "<g id=\"node6\" class=\"node\"><title>5</title>\r\n",
       "<path fill=\"#e58139\" fill-opacity=\"0.988235\" stroke=\"black\" d=\"M404,-53C404,-53 323,-53 323,-53 317,-53 311,-47 311,-41 311,-41 311,-12 311,-12 311,-6 317,-0 323,-0 323,-0 404,-0 404,-0 410,-0 416,-6 416,-12 416,-12 416,-41 416,-41 416,-47 410,-53 404,-53\"/>\r\n",
       "<text text-anchor=\"start\" x=\"326\" y=\"-37.8\" font-family=\"Helvetica,sans-Serif\" font-size=\"14.00\">gini = 0.025</text>\r\n",
       "<text text-anchor=\"start\" x=\"320\" y=\"-22.8\" font-family=\"Helvetica,sans-Serif\" font-size=\"14.00\">samples = 79</text>\r\n",
       "<text text-anchor=\"start\" x=\"319\" y=\"-7.8\" font-family=\"Helvetica,sans-Serif\" font-size=\"14.00\">value = [78, 1]</text>\r\n",
       "</g>\r\n",
       "<!-- 4&#45;&gt;5 -->\r\n",
       "<g id=\"edge5\" class=\"edge\"><title>4&#45;&gt;5</title>\r\n",
       "<path fill=\"none\" stroke=\"black\" d=\"M385.608,-88.9485C382.547,-80.4408 379.243,-71.2562 376.145,-62.6464\"/>\r\n",
       "<polygon fill=\"black\" stroke=\"black\" points=\"379.439,-61.4613 372.76,-53.2367 372.852,-63.8311 379.439,-61.4613\"/>\r\n",
       "</g>\r\n",
       "<!-- 6 -->\r\n",
       "<g id=\"node7\" class=\"node\"><title>6</title>\r\n",
       "<path fill=\"#e58139\" fill-opacity=\"0.666667\" stroke=\"black\" d=\"M527,-53C527,-53 446,-53 446,-53 440,-53 434,-47 434,-41 434,-41 434,-12 434,-12 434,-6 440,-0 446,-0 446,-0 527,-0 527,-0 533,-0 539,-6 539,-12 539,-12 539,-41 539,-41 539,-47 533,-53 527,-53\"/>\r\n",
       "<text text-anchor=\"start\" x=\"449\" y=\"-37.8\" font-family=\"Helvetica,sans-Serif\" font-size=\"14.00\">gini = 0.375</text>\r\n",
       "<text text-anchor=\"start\" x=\"443\" y=\"-22.8\" font-family=\"Helvetica,sans-Serif\" font-size=\"14.00\">samples = 20</text>\r\n",
       "<text text-anchor=\"start\" x=\"442\" y=\"-7.8\" font-family=\"Helvetica,sans-Serif\" font-size=\"14.00\">value = [15, 5]</text>\r\n",
       "</g>\r\n",
       "<!-- 4&#45;&gt;6 -->\r\n",
       "<g id=\"edge6\" class=\"edge\"><title>4&#45;&gt;6</title>\r\n",
       "<path fill=\"none\" stroke=\"black\" d=\"M428.628,-88.9485C437.243,-79.8005 446.596,-69.8697 455.22,-60.7126\"/>\r\n",
       "<polygon fill=\"black\" stroke=\"black\" points=\"457.953,-62.9161 462.261,-53.2367 452.857,-58.1168 457.953,-62.9161\"/>\r\n",
       "</g>\r\n",
       "</g>\r\n",
       "</svg>\r\n"
      ],
      "text/plain": [
       "<graphviz.files.Source at 0x269e22847f0>"
      ]
     },
     "execution_count": 13,
     "metadata": {},
     "output_type": "execute_result"
    }
   ],
   "source": [
    "dot_data = tree.export_graphviz(model1, out_file=None, \n",
    "                         feature_names=list(dataframe3),  \n",
    "                      #   class_names=list(dataframe2['Class'],  \n",
    "                         filled=True, rounded=True,\n",
    "                         special_characters=True)  \n",
    "graph = graphviz.Source(dot_data)  \n",
    "graph"
   ]
  },
  {
   "cell_type": "markdown",
   "metadata": {},
   "source": [
    "Decision tree with depth = 2 on test data"
   ]
  },
  {
   "cell_type": "code",
   "execution_count": 14,
   "metadata": {
    "collapsed": false
   },
   "outputs": [
    {
     "name": "stdout",
     "output_type": "stream",
     "text": [
      "Accuracy is  93.75\n"
     ]
    }
   ],
   "source": [
    "print (\"Accuracy is \", model1.score(X_test,y_test)*100)"
   ]
  },
  {
   "cell_type": "code",
   "execution_count": 15,
   "metadata": {
    "collapsed": false
   },
   "outputs": [
    {
     "data": {
      "image/svg+xml": [
       "<?xml version=\"1.0\" encoding=\"UTF-8\" standalone=\"no\"?>\r\n",
       "<!DOCTYPE svg PUBLIC \"-//W3C//DTD SVG 1.1//EN\"\r\n",
       " \"http://www.w3.org/Graphics/SVG/1.1/DTD/svg11.dtd\">\r\n",
       "<!-- Generated by graphviz version 2.38.0 (20140413.2041)\r\n",
       " -->\r\n",
       "<!-- Title: Tree Pages: 1 -->\r\n",
       "<svg width=\"547pt\" height=\"269pt\"\r\n",
       " viewBox=\"0.00 0.00 547.00 269.00\" xmlns=\"http://www.w3.org/2000/svg\" xmlns:xlink=\"http://www.w3.org/1999/xlink\">\r\n",
       "<g id=\"graph0\" class=\"graph\" transform=\"scale(1 1) rotate(0) translate(4 265)\">\r\n",
       "<title>Tree</title>\r\n",
       "<polygon fill=\"white\" stroke=\"none\" points=\"-4,4 -4,-265 543,-265 543,4 -4,4\"/>\r\n",
       "<!-- 0 -->\r\n",
       "<g id=\"node1\" class=\"node\"><title>0</title>\r\n",
       "<path fill=\"#399de5\" fill-opacity=\"0.498039\" stroke=\"black\" d=\"M343,-261C343,-261 186,-261 186,-261 180,-261 174,-255 174,-249 174,-249 174,-205 174,-205 174,-199 180,-193 186,-193 186,-193 343,-193 343,-193 349,-193 355,-199 355,-205 355,-205 355,-249 355,-249 355,-255 349,-261 343,-261\"/>\r\n",
       "<text text-anchor=\"start\" x=\"182\" y=\"-245.8\" font-family=\"Helvetica,sans-Serif\" font-size=\"14.00\">physician&#45;fee&#45;freeze ≤ 0.5</text>\r\n",
       "<text text-anchor=\"start\" x=\"223\" y=\"-230.8\" font-family=\"Helvetica,sans-Serif\" font-size=\"14.00\">gini = 0.4444</text>\r\n",
       "<text text-anchor=\"start\" x=\"217\" y=\"-215.8\" font-family=\"Helvetica,sans-Serif\" font-size=\"14.00\">samples = 291</text>\r\n",
       "<text text-anchor=\"start\" x=\"211.5\" y=\"-200.8\" font-family=\"Helvetica,sans-Serif\" font-size=\"14.00\">value = [97, 194]</text>\r\n",
       "</g>\r\n",
       "<!-- 1 -->\r\n",
       "<g id=\"node2\" class=\"node\"><title>1</title>\r\n",
       "<path fill=\"#399de5\" fill-opacity=\"0.980392\" stroke=\"black\" d=\"M251,-157C251,-157 12,-157 12,-157 6,-157 0,-151 0,-145 0,-145 0,-101 0,-101 0,-95 6,-89 12,-89 12,-89 251,-89 251,-89 257,-89 263,-95 263,-101 263,-101 263,-145 263,-145 263,-151 257,-157 251,-157\"/>\r\n",
       "<text text-anchor=\"start\" x=\"8\" y=\"-141.8\" font-family=\"Helvetica,sans-Serif\" font-size=\"14.00\">adoption&#45;of&#45;the&#45;budget&#45;resolution ≤ 0.5</text>\r\n",
       "<text text-anchor=\"start\" x=\"90\" y=\"-126.8\" font-family=\"Helvetica,sans-Serif\" font-size=\"14.00\">gini = 0.0408</text>\r\n",
       "<text text-anchor=\"start\" x=\"84\" y=\"-111.8\" font-family=\"Helvetica,sans-Serif\" font-size=\"14.00\">samples = 192</text>\r\n",
       "<text text-anchor=\"start\" x=\"83\" y=\"-96.8\" font-family=\"Helvetica,sans-Serif\" font-size=\"14.00\">value = [4, 188]</text>\r\n",
       "</g>\r\n",
       "<!-- 0&#45;&gt;1 -->\r\n",
       "<g id=\"edge1\" class=\"edge\"><title>0&#45;&gt;1</title>\r\n",
       "<path fill=\"none\" stroke=\"black\" d=\"M221.319,-192.884C209.123,-183.531 195.73,-173.259 183.094,-163.568\"/>\r\n",
       "<polygon fill=\"black\" stroke=\"black\" points=\"184.985,-160.608 174.92,-157.299 180.725,-166.162 184.985,-160.608\"/>\r\n",
       "<text text-anchor=\"middle\" x=\"178.189\" y=\"-178.385\" font-family=\"Helvetica,sans-Serif\" font-size=\"14.00\">True</text>\r\n",
       "</g>\r\n",
       "<!-- 4 -->\r\n",
       "<g id=\"node5\" class=\"node\"><title>4</title>\r\n",
       "<path fill=\"#e58139\" fill-opacity=\"0.937255\" stroke=\"black\" d=\"M502,-157C502,-157 293,-157 293,-157 287,-157 281,-151 281,-145 281,-145 281,-101 281,-101 281,-95 287,-89 293,-89 293,-89 502,-89 502,-89 508,-89 514,-95 514,-101 514,-101 514,-145 514,-145 514,-151 508,-157 502,-157\"/>\r\n",
       "<text text-anchor=\"start\" x=\"289\" y=\"-141.8\" font-family=\"Helvetica,sans-Serif\" font-size=\"14.00\">synfuels&#45;corporation&#45;cutback ≤ 0.5</text>\r\n",
       "<text text-anchor=\"start\" x=\"356\" y=\"-126.8\" font-family=\"Helvetica,sans-Serif\" font-size=\"14.00\">gini = 0.1139</text>\r\n",
       "<text text-anchor=\"start\" x=\"354\" y=\"-111.8\" font-family=\"Helvetica,sans-Serif\" font-size=\"14.00\">samples = 99</text>\r\n",
       "<text text-anchor=\"start\" x=\"353\" y=\"-96.8\" font-family=\"Helvetica,sans-Serif\" font-size=\"14.00\">value = [93, 6]</text>\r\n",
       "</g>\r\n",
       "<!-- 0&#45;&gt;4 -->\r\n",
       "<g id=\"edge4\" class=\"edge\"><title>0&#45;&gt;4</title>\r\n",
       "<path fill=\"none\" stroke=\"black\" d=\"M307.681,-192.884C319.877,-183.531 333.27,-173.259 345.906,-163.568\"/>\r\n",
       "<polygon fill=\"black\" stroke=\"black\" points=\"348.275,-166.162 354.08,-157.299 344.015,-160.608 348.275,-166.162\"/>\r\n",
       "<text text-anchor=\"middle\" x=\"350.811\" y=\"-178.385\" font-family=\"Helvetica,sans-Serif\" font-size=\"14.00\">False</text>\r\n",
       "</g>\r\n",
       "<!-- 2 -->\r\n",
       "<g id=\"node3\" class=\"node\"><title>2</title>\r\n",
       "<path fill=\"#399de5\" fill-opacity=\"0.894118\" stroke=\"black\" d=\"M117,-53C117,-53 36,-53 36,-53 30,-53 24,-47 24,-41 24,-41 24,-12 24,-12 24,-6 30,-0 36,-0 36,-0 117,-0 117,-0 123,-0 129,-6 129,-12 129,-12 129,-41 129,-41 129,-47 123,-53 117,-53\"/>\r\n",
       "<text text-anchor=\"start\" x=\"35\" y=\"-37.8\" font-family=\"Helvetica,sans-Serif\" font-size=\"14.00\">gini = 0.1723</text>\r\n",
       "<text text-anchor=\"start\" x=\"33\" y=\"-22.8\" font-family=\"Helvetica,sans-Serif\" font-size=\"14.00\">samples = 21</text>\r\n",
       "<text text-anchor=\"start\" x=\"32\" y=\"-7.8\" font-family=\"Helvetica,sans-Serif\" font-size=\"14.00\">value = [2, 19]</text>\r\n",
       "</g>\r\n",
       "<!-- 1&#45;&gt;2 -->\r\n",
       "<g id=\"edge2\" class=\"edge\"><title>1&#45;&gt;2</title>\r\n",
       "<path fill=\"none\" stroke=\"black\" d=\"M112.264,-88.9485C107.206,-80.2579 101.736,-70.8608 96.6328,-62.0917\"/>\r\n",
       "<polygon fill=\"black\" stroke=\"black\" points=\"99.5342,-60.1189 91.479,-53.2367 93.4843,-63.6401 99.5342,-60.1189\"/>\r\n",
       "</g>\r\n",
       "<!-- 3 -->\r\n",
       "<g id=\"node4\" class=\"node\"><title>3</title>\r\n",
       "<path fill=\"#399de5\" fill-opacity=\"0.988235\" stroke=\"black\" d=\"M248,-53C248,-53 159,-53 159,-53 153,-53 147,-47 147,-41 147,-41 147,-12 147,-12 147,-6 153,-0 159,-0 159,-0 248,-0 248,-0 254,-0 260,-6 260,-12 260,-12 260,-41 260,-41 260,-47 254,-53 248,-53\"/>\r\n",
       "<text text-anchor=\"start\" x=\"162\" y=\"-37.8\" font-family=\"Helvetica,sans-Serif\" font-size=\"14.00\">gini = 0.0231</text>\r\n",
       "<text text-anchor=\"start\" x=\"156\" y=\"-22.8\" font-family=\"Helvetica,sans-Serif\" font-size=\"14.00\">samples = 171</text>\r\n",
       "<text text-anchor=\"start\" x=\"155\" y=\"-7.8\" font-family=\"Helvetica,sans-Serif\" font-size=\"14.00\">value = [2, 169]</text>\r\n",
       "</g>\r\n",
       "<!-- 1&#45;&gt;3 -->\r\n",
       "<g id=\"edge3\" class=\"edge\"><title>1&#45;&gt;3</title>\r\n",
       "<path fill=\"none\" stroke=\"black\" d=\"M156.682,-88.9485C163.513,-79.9834 170.916,-70.2666 177.776,-61.2629\"/>\r\n",
       "<polygon fill=\"black\" stroke=\"black\" points=\"180.615,-63.3122 183.891,-53.2367 175.047,-59.0699 180.615,-63.3122\"/>\r\n",
       "</g>\r\n",
       "<!-- 5 -->\r\n",
       "<g id=\"node6\" class=\"node\"><title>5</title>\r\n",
       "<path fill=\"#e58139\" fill-opacity=\"0.988235\" stroke=\"black\" d=\"M404,-53C404,-53 323,-53 323,-53 317,-53 311,-47 311,-41 311,-41 311,-12 311,-12 311,-6 317,-0 323,-0 323,-0 404,-0 404,-0 410,-0 416,-6 416,-12 416,-12 416,-41 416,-41 416,-47 410,-53 404,-53\"/>\r\n",
       "<text text-anchor=\"start\" x=\"326\" y=\"-37.8\" font-family=\"Helvetica,sans-Serif\" font-size=\"14.00\">gini = 0.025</text>\r\n",
       "<text text-anchor=\"start\" x=\"320\" y=\"-22.8\" font-family=\"Helvetica,sans-Serif\" font-size=\"14.00\">samples = 79</text>\r\n",
       "<text text-anchor=\"start\" x=\"319\" y=\"-7.8\" font-family=\"Helvetica,sans-Serif\" font-size=\"14.00\">value = [78, 1]</text>\r\n",
       "</g>\r\n",
       "<!-- 4&#45;&gt;5 -->\r\n",
       "<g id=\"edge5\" class=\"edge\"><title>4&#45;&gt;5</title>\r\n",
       "<path fill=\"none\" stroke=\"black\" d=\"M385.608,-88.9485C382.547,-80.4408 379.243,-71.2562 376.145,-62.6464\"/>\r\n",
       "<polygon fill=\"black\" stroke=\"black\" points=\"379.439,-61.4613 372.76,-53.2367 372.852,-63.8311 379.439,-61.4613\"/>\r\n",
       "</g>\r\n",
       "<!-- 6 -->\r\n",
       "<g id=\"node7\" class=\"node\"><title>6</title>\r\n",
       "<path fill=\"#e58139\" fill-opacity=\"0.666667\" stroke=\"black\" d=\"M527,-53C527,-53 446,-53 446,-53 440,-53 434,-47 434,-41 434,-41 434,-12 434,-12 434,-6 440,-0 446,-0 446,-0 527,-0 527,-0 533,-0 539,-6 539,-12 539,-12 539,-41 539,-41 539,-47 533,-53 527,-53\"/>\r\n",
       "<text text-anchor=\"start\" x=\"449\" y=\"-37.8\" font-family=\"Helvetica,sans-Serif\" font-size=\"14.00\">gini = 0.375</text>\r\n",
       "<text text-anchor=\"start\" x=\"443\" y=\"-22.8\" font-family=\"Helvetica,sans-Serif\" font-size=\"14.00\">samples = 20</text>\r\n",
       "<text text-anchor=\"start\" x=\"442\" y=\"-7.8\" font-family=\"Helvetica,sans-Serif\" font-size=\"14.00\">value = [15, 5]</text>\r\n",
       "</g>\r\n",
       "<!-- 4&#45;&gt;6 -->\r\n",
       "<g id=\"edge6\" class=\"edge\"><title>4&#45;&gt;6</title>\r\n",
       "<path fill=\"none\" stroke=\"black\" d=\"M428.628,-88.9485C437.243,-79.8005 446.596,-69.8697 455.22,-60.7126\"/>\r\n",
       "<polygon fill=\"black\" stroke=\"black\" points=\"457.953,-62.9161 462.261,-53.2367 452.857,-58.1168 457.953,-62.9161\"/>\r\n",
       "</g>\r\n",
       "</g>\r\n",
       "</svg>\r\n"
      ],
      "text/plain": [
       "<graphviz.files.Source at 0x269e2284b38>"
      ]
     },
     "execution_count": 15,
     "metadata": {},
     "output_type": "execute_result"
    }
   ],
   "source": [
    "dot_data = tree.export_graphviz(model1, out_file=None, \n",
    "                         feature_names=list(dataframe3),  \n",
    "                      #   class_names=list(dataframe2['Class'],  \n",
    "                         filled=True, rounded=True,\n",
    "                         special_characters=True)  \n",
    "graph = graphviz.Source(dot_data)  \n",
    "graph"
   ]
  },
  {
   "cell_type": "markdown",
   "metadata": {},
   "source": [
    "Decision tree of depth = 3 on training data"
   ]
  },
  {
   "cell_type": "code",
   "execution_count": 16,
   "metadata": {
    "collapsed": false
   },
   "outputs": [
    {
     "name": "stdout",
     "output_type": "stream",
     "text": [
      "Accuracy is  96.9072164948\n"
     ]
    }
   ],
   "source": [
    "model1 = DecisionTreeClassifier(max_depth=3)\n",
    "model1.fit(X_train, y_train)\n",
    "print (\"Accuracy is \", model1.score(X_train,y_train)*100)"
   ]
  },
  {
   "cell_type": "code",
   "execution_count": 17,
   "metadata": {
    "collapsed": false
   },
   "outputs": [
    {
     "data": {
      "image/svg+xml": [
       "<?xml version=\"1.0\" encoding=\"UTF-8\" standalone=\"no\"?>\r\n",
       "<!DOCTYPE svg PUBLIC \"-//W3C//DTD SVG 1.1//EN\"\r\n",
       " \"http://www.w3.org/Graphics/SVG/1.1/DTD/svg11.dtd\">\r\n",
       "<!-- Generated by graphviz version 2.38.0 (20140413.2041)\r\n",
       " -->\r\n",
       "<!-- Title: Tree Pages: 1 -->\r\n",
       "<svg width=\"990pt\" height=\"373pt\"\r\n",
       " viewBox=\"0.00 0.00 990.00 373.00\" xmlns=\"http://www.w3.org/2000/svg\" xmlns:xlink=\"http://www.w3.org/1999/xlink\">\r\n",
       "<g id=\"graph0\" class=\"graph\" transform=\"scale(1 1) rotate(0) translate(4 369)\">\r\n",
       "<title>Tree</title>\r\n",
       "<polygon fill=\"white\" stroke=\"none\" points=\"-4,4 -4,-369 986,-369 986,4 -4,4\"/>\r\n",
       "<!-- 0 -->\r\n",
       "<g id=\"node1\" class=\"node\"><title>0</title>\r\n",
       "<path fill=\"#399de5\" fill-opacity=\"0.498039\" stroke=\"black\" d=\"M605,-365C605,-365 448,-365 448,-365 442,-365 436,-359 436,-353 436,-353 436,-309 436,-309 436,-303 442,-297 448,-297 448,-297 605,-297 605,-297 611,-297 617,-303 617,-309 617,-309 617,-353 617,-353 617,-359 611,-365 605,-365\"/>\r\n",
       "<text text-anchor=\"start\" x=\"444\" y=\"-349.8\" font-family=\"Helvetica,sans-Serif\" font-size=\"14.00\">physician&#45;fee&#45;freeze ≤ 0.5</text>\r\n",
       "<text text-anchor=\"start\" x=\"485\" y=\"-334.8\" font-family=\"Helvetica,sans-Serif\" font-size=\"14.00\">gini = 0.4444</text>\r\n",
       "<text text-anchor=\"start\" x=\"479\" y=\"-319.8\" font-family=\"Helvetica,sans-Serif\" font-size=\"14.00\">samples = 291</text>\r\n",
       "<text text-anchor=\"start\" x=\"473.5\" y=\"-304.8\" font-family=\"Helvetica,sans-Serif\" font-size=\"14.00\">value = [97, 194]</text>\r\n",
       "</g>\r\n",
       "<!-- 1 -->\r\n",
       "<g id=\"node2\" class=\"node\"><title>1</title>\r\n",
       "<path fill=\"#399de5\" fill-opacity=\"0.980392\" stroke=\"black\" d=\"M513,-261C513,-261 274,-261 274,-261 268,-261 262,-255 262,-249 262,-249 262,-205 262,-205 262,-199 268,-193 274,-193 274,-193 513,-193 513,-193 519,-193 525,-199 525,-205 525,-205 525,-249 525,-249 525,-255 519,-261 513,-261\"/>\r\n",
       "<text text-anchor=\"start\" x=\"270\" y=\"-245.8\" font-family=\"Helvetica,sans-Serif\" font-size=\"14.00\">adoption&#45;of&#45;the&#45;budget&#45;resolution ≤ 0.5</text>\r\n",
       "<text text-anchor=\"start\" x=\"352\" y=\"-230.8\" font-family=\"Helvetica,sans-Serif\" font-size=\"14.00\">gini = 0.0408</text>\r\n",
       "<text text-anchor=\"start\" x=\"346\" y=\"-215.8\" font-family=\"Helvetica,sans-Serif\" font-size=\"14.00\">samples = 192</text>\r\n",
       "<text text-anchor=\"start\" x=\"345\" y=\"-200.8\" font-family=\"Helvetica,sans-Serif\" font-size=\"14.00\">value = [4, 188]</text>\r\n",
       "</g>\r\n",
       "<!-- 0&#45;&gt;1 -->\r\n",
       "<g id=\"edge1\" class=\"edge\"><title>0&#45;&gt;1</title>\r\n",
       "<path fill=\"none\" stroke=\"black\" d=\"M483.319,-296.884C471.123,-287.531 457.73,-277.259 445.094,-267.568\"/>\r\n",
       "<polygon fill=\"black\" stroke=\"black\" points=\"446.985,-264.608 436.92,-261.299 442.725,-270.162 446.985,-264.608\"/>\r\n",
       "<text text-anchor=\"middle\" x=\"440.189\" y=\"-282.385\" font-family=\"Helvetica,sans-Serif\" font-size=\"14.00\">True</text>\r\n",
       "</g>\r\n",
       "<!-- 8 -->\r\n",
       "<g id=\"node9\" class=\"node\"><title>8</title>\r\n",
       "<path fill=\"#e58139\" fill-opacity=\"0.937255\" stroke=\"black\" d=\"M764,-261C764,-261 555,-261 555,-261 549,-261 543,-255 543,-249 543,-249 543,-205 543,-205 543,-199 549,-193 555,-193 555,-193 764,-193 764,-193 770,-193 776,-199 776,-205 776,-205 776,-249 776,-249 776,-255 770,-261 764,-261\"/>\r\n",
       "<text text-anchor=\"start\" x=\"551\" y=\"-245.8\" font-family=\"Helvetica,sans-Serif\" font-size=\"14.00\">synfuels&#45;corporation&#45;cutback ≤ 0.5</text>\r\n",
       "<text text-anchor=\"start\" x=\"618\" y=\"-230.8\" font-family=\"Helvetica,sans-Serif\" font-size=\"14.00\">gini = 0.1139</text>\r\n",
       "<text text-anchor=\"start\" x=\"616\" y=\"-215.8\" font-family=\"Helvetica,sans-Serif\" font-size=\"14.00\">samples = 99</text>\r\n",
       "<text text-anchor=\"start\" x=\"615\" y=\"-200.8\" font-family=\"Helvetica,sans-Serif\" font-size=\"14.00\">value = [93, 6]</text>\r\n",
       "</g>\r\n",
       "<!-- 0&#45;&gt;8 -->\r\n",
       "<g id=\"edge8\" class=\"edge\"><title>0&#45;&gt;8</title>\r\n",
       "<path fill=\"none\" stroke=\"black\" d=\"M569.681,-296.884C581.877,-287.531 595.27,-277.259 607.906,-267.568\"/>\r\n",
       "<polygon fill=\"black\" stroke=\"black\" points=\"610.275,-270.162 616.08,-261.299 606.015,-264.608 610.275,-270.162\"/>\r\n",
       "<text text-anchor=\"middle\" x=\"612.811\" y=\"-282.385\" font-family=\"Helvetica,sans-Serif\" font-size=\"14.00\">False</text>\r\n",
       "</g>\r\n",
       "<!-- 2 -->\r\n",
       "<g id=\"node3\" class=\"node\"><title>2</title>\r\n",
       "<path fill=\"#399de5\" fill-opacity=\"0.894118\" stroke=\"black\" d=\"M270,-157C270,-157 61,-157 61,-157 55,-157 49,-151 49,-145 49,-145 49,-101 49,-101 49,-95 55,-89 61,-89 61,-89 270,-89 270,-89 276,-89 282,-95 282,-101 282,-101 282,-145 282,-145 282,-151 276,-157 270,-157\"/>\r\n",
       "<text text-anchor=\"start\" x=\"57\" y=\"-141.8\" font-family=\"Helvetica,sans-Serif\" font-size=\"14.00\">synfuels&#45;corporation&#45;cutback ≤ 0.5</text>\r\n",
       "<text text-anchor=\"start\" x=\"124\" y=\"-126.8\" font-family=\"Helvetica,sans-Serif\" font-size=\"14.00\">gini = 0.1723</text>\r\n",
       "<text text-anchor=\"start\" x=\"122\" y=\"-111.8\" font-family=\"Helvetica,sans-Serif\" font-size=\"14.00\">samples = 21</text>\r\n",
       "<text text-anchor=\"start\" x=\"121\" y=\"-96.8\" font-family=\"Helvetica,sans-Serif\" font-size=\"14.00\">value = [2, 19]</text>\r\n",
       "</g>\r\n",
       "<!-- 1&#45;&gt;2 -->\r\n",
       "<g id=\"edge2\" class=\"edge\"><title>1&#45;&gt;2</title>\r\n",
       "<path fill=\"none\" stroke=\"black\" d=\"M319.475,-192.884C296.961,-182.812 272.066,-171.674 248.974,-161.344\"/>\r\n",
       "<polygon fill=\"black\" stroke=\"black\" points=\"250.101,-158.014 239.544,-157.125 247.242,-164.403 250.101,-158.014\"/>\r\n",
       "</g>\r\n",
       "<!-- 5 -->\r\n",
       "<g id=\"node6\" class=\"node\"><title>5</title>\r\n",
       "<path fill=\"#399de5\" fill-opacity=\"0.988235\" stroke=\"black\" d=\"M479,-157C479,-157 312,-157 312,-157 306,-157 300,-151 300,-145 300,-145 300,-101 300,-101 300,-95 306,-89 312,-89 312,-89 479,-89 479,-89 485,-89 491,-95 491,-101 491,-101 491,-145 491,-145 491,-151 485,-157 479,-157\"/>\r\n",
       "<text text-anchor=\"start\" x=\"308\" y=\"-141.8\" font-family=\"Helvetica,sans-Serif\" font-size=\"14.00\">superfund&#45;right&#45;to&#45;sue ≤ 0.5</text>\r\n",
       "<text text-anchor=\"start\" x=\"354\" y=\"-126.8\" font-family=\"Helvetica,sans-Serif\" font-size=\"14.00\">gini = 0.0231</text>\r\n",
       "<text text-anchor=\"start\" x=\"348\" y=\"-111.8\" font-family=\"Helvetica,sans-Serif\" font-size=\"14.00\">samples = 171</text>\r\n",
       "<text text-anchor=\"start\" x=\"347\" y=\"-96.8\" font-family=\"Helvetica,sans-Serif\" font-size=\"14.00\">value = [2, 169]</text>\r\n",
       "</g>\r\n",
       "<!-- 1&#45;&gt;5 -->\r\n",
       "<g id=\"edge5\" class=\"edge\"><title>1&#45;&gt;5</title>\r\n",
       "<path fill=\"none\" stroke=\"black\" d=\"M394.149,-192.884C394.308,-184.778 394.481,-175.982 394.648,-167.472\"/>\r\n",
       "<polygon fill=\"black\" stroke=\"black\" points=\"398.15,-167.366 394.847,-157.299 391.152,-167.229 398.15,-167.366\"/>\r\n",
       "</g>\r\n",
       "<!-- 3 -->\r\n",
       "<g id=\"node4\" class=\"node\"><title>3</title>\r\n",
       "<path fill=\"#399de5\" fill-opacity=\"0.666667\" stroke=\"black\" d=\"M85,-53C85,-53 12,-53 12,-53 6,-53 0,-47 0,-41 0,-41 0,-12 0,-12 0,-6 6,-0 12,-0 12,-0 85,-0 85,-0 91,-0 97,-6 97,-12 97,-12 97,-41 97,-41 97,-47 91,-53 85,-53\"/>\r\n",
       "<text text-anchor=\"start\" x=\"11\" y=\"-37.8\" font-family=\"Helvetica,sans-Serif\" font-size=\"14.00\">gini = 0.375</text>\r\n",
       "<text text-anchor=\"start\" x=\"9\" y=\"-22.8\" font-family=\"Helvetica,sans-Serif\" font-size=\"14.00\">samples = 8</text>\r\n",
       "<text text-anchor=\"start\" x=\"8\" y=\"-7.8\" font-family=\"Helvetica,sans-Serif\" font-size=\"14.00\">value = [2, 6]</text>\r\n",
       "</g>\r\n",
       "<!-- 2&#45;&gt;3 -->\r\n",
       "<g id=\"edge3\" class=\"edge\"><title>2&#45;&gt;3</title>\r\n",
       "<path fill=\"none\" stroke=\"black\" d=\"M124.579,-88.9485C112.8,-79.4346 99.9725,-69.074 88.2646,-59.6175\"/>\r\n",
       "<polygon fill=\"black\" stroke=\"black\" points=\"90.3431,-56.7973 80.3645,-53.2367 85.9447,-62.2429 90.3431,-56.7973\"/>\r\n",
       "</g>\r\n",
       "<!-- 4 -->\r\n",
       "<g id=\"node5\" class=\"node\"><title>4</title>\r\n",
       "<path fill=\"#399de5\" stroke=\"black\" d=\"M208,-53C208,-53 127,-53 127,-53 121,-53 115,-47 115,-41 115,-41 115,-12 115,-12 115,-6 121,-0 127,-0 127,-0 208,-0 208,-0 214,-0 220,-6 220,-12 220,-12 220,-41 220,-41 220,-47 214,-53 208,-53\"/>\r\n",
       "<text text-anchor=\"start\" x=\"138.5\" y=\"-37.8\" font-family=\"Helvetica,sans-Serif\" font-size=\"14.00\">gini = 0.0</text>\r\n",
       "<text text-anchor=\"start\" x=\"124\" y=\"-22.8\" font-family=\"Helvetica,sans-Serif\" font-size=\"14.00\">samples = 13</text>\r\n",
       "<text text-anchor=\"start\" x=\"123\" y=\"-7.8\" font-family=\"Helvetica,sans-Serif\" font-size=\"14.00\">value = [0, 13]</text>\r\n",
       "</g>\r\n",
       "<!-- 2&#45;&gt;4 -->\r\n",
       "<g id=\"edge4\" class=\"edge\"><title>2&#45;&gt;4</title>\r\n",
       "<path fill=\"none\" stroke=\"black\" d=\"M166.2,-88.9485C166.374,-80.7153 166.561,-71.848 166.738,-63.4814\"/>\r\n",
       "<polygon fill=\"black\" stroke=\"black\" points=\"170.243,-63.3086 166.955,-53.2367 163.244,-63.1604 170.243,-63.3086\"/>\r\n",
       "</g>\r\n",
       "<!-- 6 -->\r\n",
       "<g id=\"node7\" class=\"node\"><title>6</title>\r\n",
       "<path fill=\"#399de5\" stroke=\"black\" d=\"M356,-53C356,-53 267,-53 267,-53 261,-53 255,-47 255,-41 255,-41 255,-12 255,-12 255,-6 261,-0 267,-0 267,-0 356,-0 356,-0 362,-0 368,-6 368,-12 368,-12 368,-41 368,-41 368,-47 362,-53 356,-53\"/>\r\n",
       "<text text-anchor=\"start\" x=\"282.5\" y=\"-37.8\" font-family=\"Helvetica,sans-Serif\" font-size=\"14.00\">gini = 0.0</text>\r\n",
       "<text text-anchor=\"start\" x=\"264\" y=\"-22.8\" font-family=\"Helvetica,sans-Serif\" font-size=\"14.00\">samples = 120</text>\r\n",
       "<text text-anchor=\"start\" x=\"263\" y=\"-7.8\" font-family=\"Helvetica,sans-Serif\" font-size=\"14.00\">value = [0, 120]</text>\r\n",
       "</g>\r\n",
       "<!-- 5&#45;&gt;6 -->\r\n",
       "<g id=\"edge6\" class=\"edge\"><title>5&#45;&gt;6</title>\r\n",
       "<path fill=\"none\" stroke=\"black\" d=\"M366.121,-88.9485C357.989,-79.8005 349.162,-69.8697 341.022,-60.7126\"/>\r\n",
       "<polygon fill=\"black\" stroke=\"black\" points=\"343.637,-58.3855 334.377,-53.2367 338.405,-63.0361 343.637,-58.3855\"/>\r\n",
       "</g>\r\n",
       "<!-- 7 -->\r\n",
       "<g id=\"node8\" class=\"node\"><title>7</title>\r\n",
       "<path fill=\"#399de5\" fill-opacity=\"0.960784\" stroke=\"black\" d=\"M479,-53C479,-53 398,-53 398,-53 392,-53 386,-47 386,-41 386,-41 386,-12 386,-12 386,-6 392,-0 398,-0 398,-0 479,-0 479,-0 485,-0 491,-6 491,-12 491,-12 491,-41 491,-41 491,-47 485,-53 479,-53\"/>\r\n",
       "<text text-anchor=\"start\" x=\"397\" y=\"-37.8\" font-family=\"Helvetica,sans-Serif\" font-size=\"14.00\">gini = 0.0754</text>\r\n",
       "<text text-anchor=\"start\" x=\"395\" y=\"-22.8\" font-family=\"Helvetica,sans-Serif\" font-size=\"14.00\">samples = 51</text>\r\n",
       "<text text-anchor=\"start\" x=\"394\" y=\"-7.8\" font-family=\"Helvetica,sans-Serif\" font-size=\"14.00\">value = [2, 49]</text>\r\n",
       "</g>\r\n",
       "<!-- 5&#45;&gt;7 -->\r\n",
       "<g id=\"edge7\" class=\"edge\"><title>5&#45;&gt;7</title>\r\n",
       "<path fill=\"none\" stroke=\"black\" d=\"M410.539,-88.9485C414.452,-80.3494 418.68,-71.0586 422.634,-62.3689\"/>\r\n",
       "<polygon fill=\"black\" stroke=\"black\" points=\"425.833,-63.7883 426.789,-53.2367 419.462,-60.8891 425.833,-63.7883\"/>\r\n",
       "</g>\r\n",
       "<!-- 9 -->\r\n",
       "<g id=\"node10\" class=\"node\"><title>9</title>\r\n",
       "<path fill=\"#e58139\" fill-opacity=\"0.988235\" stroke=\"black\" d=\"M693.5,-157C693.5,-157 557.5,-157 557.5,-157 551.5,-157 545.5,-151 545.5,-145 545.5,-145 545.5,-101 545.5,-101 545.5,-95 551.5,-89 557.5,-89 557.5,-89 693.5,-89 693.5,-89 699.5,-89 705.5,-95 705.5,-101 705.5,-101 705.5,-145 705.5,-145 705.5,-151 699.5,-157 693.5,-157\"/>\r\n",
       "<text text-anchor=\"start\" x=\"553.5\" y=\"-141.8\" font-family=\"Helvetica,sans-Serif\" font-size=\"14.00\">duty&#45;free&#45;exports ≤ 0.5</text>\r\n",
       "<text text-anchor=\"start\" x=\"588\" y=\"-126.8\" font-family=\"Helvetica,sans-Serif\" font-size=\"14.00\">gini = 0.025</text>\r\n",
       "<text text-anchor=\"start\" x=\"582\" y=\"-111.8\" font-family=\"Helvetica,sans-Serif\" font-size=\"14.00\">samples = 79</text>\r\n",
       "<text text-anchor=\"start\" x=\"581\" y=\"-96.8\" font-family=\"Helvetica,sans-Serif\" font-size=\"14.00\">value = [78, 1]</text>\r\n",
       "</g>\r\n",
       "<!-- 8&#45;&gt;9 -->\r\n",
       "<g id=\"edge9\" class=\"edge\"><title>8&#45;&gt;9</title>\r\n",
       "<path fill=\"none\" stroke=\"black\" d=\"M648.461,-192.884C645.7,-184.6 642.698,-175.595 639.804,-166.911\"/>\r\n",
       "<polygon fill=\"black\" stroke=\"black\" points=\"643.083,-165.679 636.6,-157.299 636.442,-167.893 643.083,-165.679\"/>\r\n",
       "</g>\r\n",
       "<!-- 12 -->\r\n",
       "<g id=\"node13\" class=\"node\"><title>12</title>\r\n",
       "<path fill=\"#e58139\" fill-opacity=\"0.666667\" stroke=\"black\" d=\"M887.5,-157C887.5,-157 735.5,-157 735.5,-157 729.5,-157 723.5,-151 723.5,-145 723.5,-145 723.5,-101 723.5,-101 723.5,-95 729.5,-89 735.5,-89 735.5,-89 887.5,-89 887.5,-89 893.5,-89 899.5,-95 899.5,-101 899.5,-101 899.5,-145 899.5,-145 899.5,-151 893.5,-157 887.5,-157\"/>\r\n",
       "<text text-anchor=\"start\" x=\"731.5\" y=\"-141.8\" font-family=\"Helvetica,sans-Serif\" font-size=\"14.00\">education&#45;spending ≤ 0.5</text>\r\n",
       "<text text-anchor=\"start\" x=\"774\" y=\"-126.8\" font-family=\"Helvetica,sans-Serif\" font-size=\"14.00\">gini = 0.375</text>\r\n",
       "<text text-anchor=\"start\" x=\"768\" y=\"-111.8\" font-family=\"Helvetica,sans-Serif\" font-size=\"14.00\">samples = 20</text>\r\n",
       "<text text-anchor=\"start\" x=\"767\" y=\"-96.8\" font-family=\"Helvetica,sans-Serif\" font-size=\"14.00\">value = [15, 5]</text>\r\n",
       "</g>\r\n",
       "<!-- 8&#45;&gt;12 -->\r\n",
       "<g id=\"edge12\" class=\"edge\"><title>8&#45;&gt;12</title>\r\n",
       "<path fill=\"none\" stroke=\"black\" d=\"M708.85,-192.884C723.125,-183.304 738.837,-172.761 753.584,-162.864\"/>\r\n",
       "<polygon fill=\"black\" stroke=\"black\" points=\"755.784,-165.603 762.138,-157.125 751.884,-159.791 755.784,-165.603\"/>\r\n",
       "</g>\r\n",
       "<!-- 10 -->\r\n",
       "<g id=\"node11\" class=\"node\"><title>10</title>\r\n",
       "<path fill=\"#e58139\" stroke=\"black\" d=\"M611,-53C611,-53 530,-53 530,-53 524,-53 518,-47 518,-41 518,-41 518,-12 518,-12 518,-6 524,-0 530,-0 530,-0 611,-0 611,-0 617,-0 623,-6 623,-12 623,-12 623,-41 623,-41 623,-47 617,-53 611,-53\"/>\r\n",
       "<text text-anchor=\"start\" x=\"541.5\" y=\"-37.8\" font-family=\"Helvetica,sans-Serif\" font-size=\"14.00\">gini = 0.0</text>\r\n",
       "<text text-anchor=\"start\" x=\"527\" y=\"-22.8\" font-family=\"Helvetica,sans-Serif\" font-size=\"14.00\">samples = 70</text>\r\n",
       "<text text-anchor=\"start\" x=\"526\" y=\"-7.8\" font-family=\"Helvetica,sans-Serif\" font-size=\"14.00\">value = [70, 0]</text>\r\n",
       "</g>\r\n",
       "<!-- 9&#45;&gt;10 -->\r\n",
       "<g id=\"edge10\" class=\"edge\"><title>9&#45;&gt;10</title>\r\n",
       "<path fill=\"none\" stroke=\"black\" d=\"M606.264,-88.9485C601.206,-80.2579 595.736,-70.8608 590.633,-62.0917\"/>\r\n",
       "<polygon fill=\"black\" stroke=\"black\" points=\"593.534,-60.1189 585.479,-53.2367 587.484,-63.6401 593.534,-60.1189\"/>\r\n",
       "</g>\r\n",
       "<!-- 11 -->\r\n",
       "<g id=\"node12\" class=\"node\"><title>11</title>\r\n",
       "<path fill=\"#e58139\" fill-opacity=\"0.874510\" stroke=\"black\" d=\"M728,-53C728,-53 653,-53 653,-53 647,-53 641,-47 641,-41 641,-41 641,-12 641,-12 641,-6 647,-0 653,-0 653,-0 728,-0 728,-0 734,-0 740,-6 740,-12 740,-12 740,-41 740,-41 740,-47 734,-53 728,-53\"/>\r\n",
       "<text text-anchor=\"start\" x=\"649\" y=\"-37.8\" font-family=\"Helvetica,sans-Serif\" font-size=\"14.00\">gini = 0.1975</text>\r\n",
       "<text text-anchor=\"start\" x=\"651\" y=\"-22.8\" font-family=\"Helvetica,sans-Serif\" font-size=\"14.00\">samples = 9</text>\r\n",
       "<text text-anchor=\"start\" x=\"650\" y=\"-7.8\" font-family=\"Helvetica,sans-Serif\" font-size=\"14.00\">value = [8, 1]</text>\r\n",
       "</g>\r\n",
       "<!-- 9&#45;&gt;11 -->\r\n",
       "<g id=\"edge11\" class=\"edge\"><title>9&#45;&gt;11</title>\r\n",
       "<path fill=\"none\" stroke=\"black\" d=\"M648.234,-88.9485C654.337,-80.0749 660.947,-70.4648 667.087,-61.5388\"/>\r\n",
       "<polygon fill=\"black\" stroke=\"black\" points=\"670.014,-63.4594 672.798,-53.2367 664.247,-59.4924 670.014,-63.4594\"/>\r\n",
       "</g>\r\n",
       "<!-- 13 -->\r\n",
       "<g id=\"node14\" class=\"node\"><title>13</title>\r\n",
       "<path fill=\"#399de5\" fill-opacity=\"0.333333\" stroke=\"black\" d=\"M847,-53C847,-53 774,-53 774,-53 768,-53 762,-47 762,-41 762,-41 762,-12 762,-12 762,-6 768,-0 774,-0 774,-0 847,-0 847,-0 853,-0 859,-6 859,-12 859,-12 859,-41 859,-41 859,-47 853,-53 847,-53\"/>\r\n",
       "<text text-anchor=\"start\" x=\"777\" y=\"-37.8\" font-family=\"Helvetica,sans-Serif\" font-size=\"14.00\">gini = 0.48</text>\r\n",
       "<text text-anchor=\"start\" x=\"771\" y=\"-22.8\" font-family=\"Helvetica,sans-Serif\" font-size=\"14.00\">samples = 5</text>\r\n",
       "<text text-anchor=\"start\" x=\"770\" y=\"-7.8\" font-family=\"Helvetica,sans-Serif\" font-size=\"14.00\">value = [2, 3]</text>\r\n",
       "</g>\r\n",
       "<!-- 12&#45;&gt;13 -->\r\n",
       "<g id=\"edge13\" class=\"edge\"><title>12&#45;&gt;13</title>\r\n",
       "<path fill=\"none\" stroke=\"black\" d=\"M811.15,-88.9485C811.063,-80.7153 810.969,-71.848 810.881,-63.4814\"/>\r\n",
       "<polygon fill=\"black\" stroke=\"black\" points=\"814.378,-63.1991 810.772,-53.2367 807.378,-63.2732 814.378,-63.1991\"/>\r\n",
       "</g>\r\n",
       "<!-- 14 -->\r\n",
       "<g id=\"node15\" class=\"node\"><title>14</title>\r\n",
       "<path fill=\"#e58139\" fill-opacity=\"0.847059\" stroke=\"black\" d=\"M970,-53C970,-53 889,-53 889,-53 883,-53 877,-47 877,-41 877,-41 877,-12 877,-12 877,-6 883,-0 889,-0 889,-0 970,-0 970,-0 976,-0 982,-6 982,-12 982,-12 982,-41 982,-41 982,-47 976,-53 970,-53\"/>\r\n",
       "<text text-anchor=\"start\" x=\"888\" y=\"-37.8\" font-family=\"Helvetica,sans-Serif\" font-size=\"14.00\">gini = 0.2311</text>\r\n",
       "<text text-anchor=\"start\" x=\"886\" y=\"-22.8\" font-family=\"Helvetica,sans-Serif\" font-size=\"14.00\">samples = 15</text>\r\n",
       "<text text-anchor=\"start\" x=\"885\" y=\"-7.8\" font-family=\"Helvetica,sans-Serif\" font-size=\"14.00\">value = [13, 2]</text>\r\n",
       "</g>\r\n",
       "<!-- 12&#45;&gt;14 -->\r\n",
       "<g id=\"edge14\" class=\"edge\"><title>12&#45;&gt;14</title>\r\n",
       "<path fill=\"none\" stroke=\"black\" d=\"M852.771,-88.9485C864.65,-79.4346 877.588,-69.074 889.396,-59.6175\"/>\r\n",
       "<polygon fill=\"black\" stroke=\"black\" points=\"891.746,-62.2196 897.363,-53.2367 887.37,-56.7558 891.746,-62.2196\"/>\r\n",
       "</g>\r\n",
       "</g>\r\n",
       "</svg>\r\n"
      ],
      "text/plain": [
       "<graphviz.files.Source at 0x269e2284da0>"
      ]
     },
     "execution_count": 17,
     "metadata": {},
     "output_type": "execute_result"
    }
   ],
   "source": [
    "dot_data = tree.export_graphviz(model1, out_file=None, \n",
    "                         feature_names=list(dataframe3),  \n",
    "                      #   class_names=list(dataframe2['Class'],  \n",
    "                         filled=True, rounded=True,\n",
    "                         special_characters=True)  \n",
    "graph = graphviz.Source(dot_data)  \n",
    "graph"
   ]
  },
  {
   "cell_type": "markdown",
   "metadata": {
    "collapsed": true
   },
   "source": [
    "Decision tree with depth= 3 on test data"
   ]
  },
  {
   "cell_type": "code",
   "execution_count": 18,
   "metadata": {
    "collapsed": false
   },
   "outputs": [
    {
     "name": "stdout",
     "output_type": "stream",
     "text": [
      "Accuracy is  93.75\n"
     ]
    }
   ],
   "source": [
    "print (\"Accuracy is \", model1.score(X_test,y_test)*100)"
   ]
  },
  {
   "cell_type": "code",
   "execution_count": 19,
   "metadata": {
    "collapsed": false
   },
   "outputs": [
    {
     "data": {
      "image/svg+xml": [
       "<?xml version=\"1.0\" encoding=\"UTF-8\" standalone=\"no\"?>\r\n",
       "<!DOCTYPE svg PUBLIC \"-//W3C//DTD SVG 1.1//EN\"\r\n",
       " \"http://www.w3.org/Graphics/SVG/1.1/DTD/svg11.dtd\">\r\n",
       "<!-- Generated by graphviz version 2.38.0 (20140413.2041)\r\n",
       " -->\r\n",
       "<!-- Title: Tree Pages: 1 -->\r\n",
       "<svg width=\"990pt\" height=\"373pt\"\r\n",
       " viewBox=\"0.00 0.00 990.00 373.00\" xmlns=\"http://www.w3.org/2000/svg\" xmlns:xlink=\"http://www.w3.org/1999/xlink\">\r\n",
       "<g id=\"graph0\" class=\"graph\" transform=\"scale(1 1) rotate(0) translate(4 369)\">\r\n",
       "<title>Tree</title>\r\n",
       "<polygon fill=\"white\" stroke=\"none\" points=\"-4,4 -4,-369 986,-369 986,4 -4,4\"/>\r\n",
       "<!-- 0 -->\r\n",
       "<g id=\"node1\" class=\"node\"><title>0</title>\r\n",
       "<path fill=\"#399de5\" fill-opacity=\"0.498039\" stroke=\"black\" d=\"M605,-365C605,-365 448,-365 448,-365 442,-365 436,-359 436,-353 436,-353 436,-309 436,-309 436,-303 442,-297 448,-297 448,-297 605,-297 605,-297 611,-297 617,-303 617,-309 617,-309 617,-353 617,-353 617,-359 611,-365 605,-365\"/>\r\n",
       "<text text-anchor=\"start\" x=\"444\" y=\"-349.8\" font-family=\"Helvetica,sans-Serif\" font-size=\"14.00\">physician&#45;fee&#45;freeze ≤ 0.5</text>\r\n",
       "<text text-anchor=\"start\" x=\"485\" y=\"-334.8\" font-family=\"Helvetica,sans-Serif\" font-size=\"14.00\">gini = 0.4444</text>\r\n",
       "<text text-anchor=\"start\" x=\"479\" y=\"-319.8\" font-family=\"Helvetica,sans-Serif\" font-size=\"14.00\">samples = 291</text>\r\n",
       "<text text-anchor=\"start\" x=\"473.5\" y=\"-304.8\" font-family=\"Helvetica,sans-Serif\" font-size=\"14.00\">value = [97, 194]</text>\r\n",
       "</g>\r\n",
       "<!-- 1 -->\r\n",
       "<g id=\"node2\" class=\"node\"><title>1</title>\r\n",
       "<path fill=\"#399de5\" fill-opacity=\"0.980392\" stroke=\"black\" d=\"M513,-261C513,-261 274,-261 274,-261 268,-261 262,-255 262,-249 262,-249 262,-205 262,-205 262,-199 268,-193 274,-193 274,-193 513,-193 513,-193 519,-193 525,-199 525,-205 525,-205 525,-249 525,-249 525,-255 519,-261 513,-261\"/>\r\n",
       "<text text-anchor=\"start\" x=\"270\" y=\"-245.8\" font-family=\"Helvetica,sans-Serif\" font-size=\"14.00\">adoption&#45;of&#45;the&#45;budget&#45;resolution ≤ 0.5</text>\r\n",
       "<text text-anchor=\"start\" x=\"352\" y=\"-230.8\" font-family=\"Helvetica,sans-Serif\" font-size=\"14.00\">gini = 0.0408</text>\r\n",
       "<text text-anchor=\"start\" x=\"346\" y=\"-215.8\" font-family=\"Helvetica,sans-Serif\" font-size=\"14.00\">samples = 192</text>\r\n",
       "<text text-anchor=\"start\" x=\"345\" y=\"-200.8\" font-family=\"Helvetica,sans-Serif\" font-size=\"14.00\">value = [4, 188]</text>\r\n",
       "</g>\r\n",
       "<!-- 0&#45;&gt;1 -->\r\n",
       "<g id=\"edge1\" class=\"edge\"><title>0&#45;&gt;1</title>\r\n",
       "<path fill=\"none\" stroke=\"black\" d=\"M483.319,-296.884C471.123,-287.531 457.73,-277.259 445.094,-267.568\"/>\r\n",
       "<polygon fill=\"black\" stroke=\"black\" points=\"446.985,-264.608 436.92,-261.299 442.725,-270.162 446.985,-264.608\"/>\r\n",
       "<text text-anchor=\"middle\" x=\"440.189\" y=\"-282.385\" font-family=\"Helvetica,sans-Serif\" font-size=\"14.00\">True</text>\r\n",
       "</g>\r\n",
       "<!-- 8 -->\r\n",
       "<g id=\"node9\" class=\"node\"><title>8</title>\r\n",
       "<path fill=\"#e58139\" fill-opacity=\"0.937255\" stroke=\"black\" d=\"M764,-261C764,-261 555,-261 555,-261 549,-261 543,-255 543,-249 543,-249 543,-205 543,-205 543,-199 549,-193 555,-193 555,-193 764,-193 764,-193 770,-193 776,-199 776,-205 776,-205 776,-249 776,-249 776,-255 770,-261 764,-261\"/>\r\n",
       "<text text-anchor=\"start\" x=\"551\" y=\"-245.8\" font-family=\"Helvetica,sans-Serif\" font-size=\"14.00\">synfuels&#45;corporation&#45;cutback ≤ 0.5</text>\r\n",
       "<text text-anchor=\"start\" x=\"618\" y=\"-230.8\" font-family=\"Helvetica,sans-Serif\" font-size=\"14.00\">gini = 0.1139</text>\r\n",
       "<text text-anchor=\"start\" x=\"616\" y=\"-215.8\" font-family=\"Helvetica,sans-Serif\" font-size=\"14.00\">samples = 99</text>\r\n",
       "<text text-anchor=\"start\" x=\"615\" y=\"-200.8\" font-family=\"Helvetica,sans-Serif\" font-size=\"14.00\">value = [93, 6]</text>\r\n",
       "</g>\r\n",
       "<!-- 0&#45;&gt;8 -->\r\n",
       "<g id=\"edge8\" class=\"edge\"><title>0&#45;&gt;8</title>\r\n",
       "<path fill=\"none\" stroke=\"black\" d=\"M569.681,-296.884C581.877,-287.531 595.27,-277.259 607.906,-267.568\"/>\r\n",
       "<polygon fill=\"black\" stroke=\"black\" points=\"610.275,-270.162 616.08,-261.299 606.015,-264.608 610.275,-270.162\"/>\r\n",
       "<text text-anchor=\"middle\" x=\"612.811\" y=\"-282.385\" font-family=\"Helvetica,sans-Serif\" font-size=\"14.00\">False</text>\r\n",
       "</g>\r\n",
       "<!-- 2 -->\r\n",
       "<g id=\"node3\" class=\"node\"><title>2</title>\r\n",
       "<path fill=\"#399de5\" fill-opacity=\"0.894118\" stroke=\"black\" d=\"M270,-157C270,-157 61,-157 61,-157 55,-157 49,-151 49,-145 49,-145 49,-101 49,-101 49,-95 55,-89 61,-89 61,-89 270,-89 270,-89 276,-89 282,-95 282,-101 282,-101 282,-145 282,-145 282,-151 276,-157 270,-157\"/>\r\n",
       "<text text-anchor=\"start\" x=\"57\" y=\"-141.8\" font-family=\"Helvetica,sans-Serif\" font-size=\"14.00\">synfuels&#45;corporation&#45;cutback ≤ 0.5</text>\r\n",
       "<text text-anchor=\"start\" x=\"124\" y=\"-126.8\" font-family=\"Helvetica,sans-Serif\" font-size=\"14.00\">gini = 0.1723</text>\r\n",
       "<text text-anchor=\"start\" x=\"122\" y=\"-111.8\" font-family=\"Helvetica,sans-Serif\" font-size=\"14.00\">samples = 21</text>\r\n",
       "<text text-anchor=\"start\" x=\"121\" y=\"-96.8\" font-family=\"Helvetica,sans-Serif\" font-size=\"14.00\">value = [2, 19]</text>\r\n",
       "</g>\r\n",
       "<!-- 1&#45;&gt;2 -->\r\n",
       "<g id=\"edge2\" class=\"edge\"><title>1&#45;&gt;2</title>\r\n",
       "<path fill=\"none\" stroke=\"black\" d=\"M319.475,-192.884C296.961,-182.812 272.066,-171.674 248.974,-161.344\"/>\r\n",
       "<polygon fill=\"black\" stroke=\"black\" points=\"250.101,-158.014 239.544,-157.125 247.242,-164.403 250.101,-158.014\"/>\r\n",
       "</g>\r\n",
       "<!-- 5 -->\r\n",
       "<g id=\"node6\" class=\"node\"><title>5</title>\r\n",
       "<path fill=\"#399de5\" fill-opacity=\"0.988235\" stroke=\"black\" d=\"M479,-157C479,-157 312,-157 312,-157 306,-157 300,-151 300,-145 300,-145 300,-101 300,-101 300,-95 306,-89 312,-89 312,-89 479,-89 479,-89 485,-89 491,-95 491,-101 491,-101 491,-145 491,-145 491,-151 485,-157 479,-157\"/>\r\n",
       "<text text-anchor=\"start\" x=\"308\" y=\"-141.8\" font-family=\"Helvetica,sans-Serif\" font-size=\"14.00\">superfund&#45;right&#45;to&#45;sue ≤ 0.5</text>\r\n",
       "<text text-anchor=\"start\" x=\"354\" y=\"-126.8\" font-family=\"Helvetica,sans-Serif\" font-size=\"14.00\">gini = 0.0231</text>\r\n",
       "<text text-anchor=\"start\" x=\"348\" y=\"-111.8\" font-family=\"Helvetica,sans-Serif\" font-size=\"14.00\">samples = 171</text>\r\n",
       "<text text-anchor=\"start\" x=\"347\" y=\"-96.8\" font-family=\"Helvetica,sans-Serif\" font-size=\"14.00\">value = [2, 169]</text>\r\n",
       "</g>\r\n",
       "<!-- 1&#45;&gt;5 -->\r\n",
       "<g id=\"edge5\" class=\"edge\"><title>1&#45;&gt;5</title>\r\n",
       "<path fill=\"none\" stroke=\"black\" d=\"M394.149,-192.884C394.308,-184.778 394.481,-175.982 394.648,-167.472\"/>\r\n",
       "<polygon fill=\"black\" stroke=\"black\" points=\"398.15,-167.366 394.847,-157.299 391.152,-167.229 398.15,-167.366\"/>\r\n",
       "</g>\r\n",
       "<!-- 3 -->\r\n",
       "<g id=\"node4\" class=\"node\"><title>3</title>\r\n",
       "<path fill=\"#399de5\" fill-opacity=\"0.666667\" stroke=\"black\" d=\"M85,-53C85,-53 12,-53 12,-53 6,-53 0,-47 0,-41 0,-41 0,-12 0,-12 0,-6 6,-0 12,-0 12,-0 85,-0 85,-0 91,-0 97,-6 97,-12 97,-12 97,-41 97,-41 97,-47 91,-53 85,-53\"/>\r\n",
       "<text text-anchor=\"start\" x=\"11\" y=\"-37.8\" font-family=\"Helvetica,sans-Serif\" font-size=\"14.00\">gini = 0.375</text>\r\n",
       "<text text-anchor=\"start\" x=\"9\" y=\"-22.8\" font-family=\"Helvetica,sans-Serif\" font-size=\"14.00\">samples = 8</text>\r\n",
       "<text text-anchor=\"start\" x=\"8\" y=\"-7.8\" font-family=\"Helvetica,sans-Serif\" font-size=\"14.00\">value = [2, 6]</text>\r\n",
       "</g>\r\n",
       "<!-- 2&#45;&gt;3 -->\r\n",
       "<g id=\"edge3\" class=\"edge\"><title>2&#45;&gt;3</title>\r\n",
       "<path fill=\"none\" stroke=\"black\" d=\"M124.579,-88.9485C112.8,-79.4346 99.9725,-69.074 88.2646,-59.6175\"/>\r\n",
       "<polygon fill=\"black\" stroke=\"black\" points=\"90.3431,-56.7973 80.3645,-53.2367 85.9447,-62.2429 90.3431,-56.7973\"/>\r\n",
       "</g>\r\n",
       "<!-- 4 -->\r\n",
       "<g id=\"node5\" class=\"node\"><title>4</title>\r\n",
       "<path fill=\"#399de5\" stroke=\"black\" d=\"M208,-53C208,-53 127,-53 127,-53 121,-53 115,-47 115,-41 115,-41 115,-12 115,-12 115,-6 121,-0 127,-0 127,-0 208,-0 208,-0 214,-0 220,-6 220,-12 220,-12 220,-41 220,-41 220,-47 214,-53 208,-53\"/>\r\n",
       "<text text-anchor=\"start\" x=\"138.5\" y=\"-37.8\" font-family=\"Helvetica,sans-Serif\" font-size=\"14.00\">gini = 0.0</text>\r\n",
       "<text text-anchor=\"start\" x=\"124\" y=\"-22.8\" font-family=\"Helvetica,sans-Serif\" font-size=\"14.00\">samples = 13</text>\r\n",
       "<text text-anchor=\"start\" x=\"123\" y=\"-7.8\" font-family=\"Helvetica,sans-Serif\" font-size=\"14.00\">value = [0, 13]</text>\r\n",
       "</g>\r\n",
       "<!-- 2&#45;&gt;4 -->\r\n",
       "<g id=\"edge4\" class=\"edge\"><title>2&#45;&gt;4</title>\r\n",
       "<path fill=\"none\" stroke=\"black\" d=\"M166.2,-88.9485C166.374,-80.7153 166.561,-71.848 166.738,-63.4814\"/>\r\n",
       "<polygon fill=\"black\" stroke=\"black\" points=\"170.243,-63.3086 166.955,-53.2367 163.244,-63.1604 170.243,-63.3086\"/>\r\n",
       "</g>\r\n",
       "<!-- 6 -->\r\n",
       "<g id=\"node7\" class=\"node\"><title>6</title>\r\n",
       "<path fill=\"#399de5\" stroke=\"black\" d=\"M356,-53C356,-53 267,-53 267,-53 261,-53 255,-47 255,-41 255,-41 255,-12 255,-12 255,-6 261,-0 267,-0 267,-0 356,-0 356,-0 362,-0 368,-6 368,-12 368,-12 368,-41 368,-41 368,-47 362,-53 356,-53\"/>\r\n",
       "<text text-anchor=\"start\" x=\"282.5\" y=\"-37.8\" font-family=\"Helvetica,sans-Serif\" font-size=\"14.00\">gini = 0.0</text>\r\n",
       "<text text-anchor=\"start\" x=\"264\" y=\"-22.8\" font-family=\"Helvetica,sans-Serif\" font-size=\"14.00\">samples = 120</text>\r\n",
       "<text text-anchor=\"start\" x=\"263\" y=\"-7.8\" font-family=\"Helvetica,sans-Serif\" font-size=\"14.00\">value = [0, 120]</text>\r\n",
       "</g>\r\n",
       "<!-- 5&#45;&gt;6 -->\r\n",
       "<g id=\"edge6\" class=\"edge\"><title>5&#45;&gt;6</title>\r\n",
       "<path fill=\"none\" stroke=\"black\" d=\"M366.121,-88.9485C357.989,-79.8005 349.162,-69.8697 341.022,-60.7126\"/>\r\n",
       "<polygon fill=\"black\" stroke=\"black\" points=\"343.637,-58.3855 334.377,-53.2367 338.405,-63.0361 343.637,-58.3855\"/>\r\n",
       "</g>\r\n",
       "<!-- 7 -->\r\n",
       "<g id=\"node8\" class=\"node\"><title>7</title>\r\n",
       "<path fill=\"#399de5\" fill-opacity=\"0.960784\" stroke=\"black\" d=\"M479,-53C479,-53 398,-53 398,-53 392,-53 386,-47 386,-41 386,-41 386,-12 386,-12 386,-6 392,-0 398,-0 398,-0 479,-0 479,-0 485,-0 491,-6 491,-12 491,-12 491,-41 491,-41 491,-47 485,-53 479,-53\"/>\r\n",
       "<text text-anchor=\"start\" x=\"397\" y=\"-37.8\" font-family=\"Helvetica,sans-Serif\" font-size=\"14.00\">gini = 0.0754</text>\r\n",
       "<text text-anchor=\"start\" x=\"395\" y=\"-22.8\" font-family=\"Helvetica,sans-Serif\" font-size=\"14.00\">samples = 51</text>\r\n",
       "<text text-anchor=\"start\" x=\"394\" y=\"-7.8\" font-family=\"Helvetica,sans-Serif\" font-size=\"14.00\">value = [2, 49]</text>\r\n",
       "</g>\r\n",
       "<!-- 5&#45;&gt;7 -->\r\n",
       "<g id=\"edge7\" class=\"edge\"><title>5&#45;&gt;7</title>\r\n",
       "<path fill=\"none\" stroke=\"black\" d=\"M410.539,-88.9485C414.452,-80.3494 418.68,-71.0586 422.634,-62.3689\"/>\r\n",
       "<polygon fill=\"black\" stroke=\"black\" points=\"425.833,-63.7883 426.789,-53.2367 419.462,-60.8891 425.833,-63.7883\"/>\r\n",
       "</g>\r\n",
       "<!-- 9 -->\r\n",
       "<g id=\"node10\" class=\"node\"><title>9</title>\r\n",
       "<path fill=\"#e58139\" fill-opacity=\"0.988235\" stroke=\"black\" d=\"M693.5,-157C693.5,-157 557.5,-157 557.5,-157 551.5,-157 545.5,-151 545.5,-145 545.5,-145 545.5,-101 545.5,-101 545.5,-95 551.5,-89 557.5,-89 557.5,-89 693.5,-89 693.5,-89 699.5,-89 705.5,-95 705.5,-101 705.5,-101 705.5,-145 705.5,-145 705.5,-151 699.5,-157 693.5,-157\"/>\r\n",
       "<text text-anchor=\"start\" x=\"553.5\" y=\"-141.8\" font-family=\"Helvetica,sans-Serif\" font-size=\"14.00\">duty&#45;free&#45;exports ≤ 0.5</text>\r\n",
       "<text text-anchor=\"start\" x=\"588\" y=\"-126.8\" font-family=\"Helvetica,sans-Serif\" font-size=\"14.00\">gini = 0.025</text>\r\n",
       "<text text-anchor=\"start\" x=\"582\" y=\"-111.8\" font-family=\"Helvetica,sans-Serif\" font-size=\"14.00\">samples = 79</text>\r\n",
       "<text text-anchor=\"start\" x=\"581\" y=\"-96.8\" font-family=\"Helvetica,sans-Serif\" font-size=\"14.00\">value = [78, 1]</text>\r\n",
       "</g>\r\n",
       "<!-- 8&#45;&gt;9 -->\r\n",
       "<g id=\"edge9\" class=\"edge\"><title>8&#45;&gt;9</title>\r\n",
       "<path fill=\"none\" stroke=\"black\" d=\"M648.461,-192.884C645.7,-184.6 642.698,-175.595 639.804,-166.911\"/>\r\n",
       "<polygon fill=\"black\" stroke=\"black\" points=\"643.083,-165.679 636.6,-157.299 636.442,-167.893 643.083,-165.679\"/>\r\n",
       "</g>\r\n",
       "<!-- 12 -->\r\n",
       "<g id=\"node13\" class=\"node\"><title>12</title>\r\n",
       "<path fill=\"#e58139\" fill-opacity=\"0.666667\" stroke=\"black\" d=\"M887.5,-157C887.5,-157 735.5,-157 735.5,-157 729.5,-157 723.5,-151 723.5,-145 723.5,-145 723.5,-101 723.5,-101 723.5,-95 729.5,-89 735.5,-89 735.5,-89 887.5,-89 887.5,-89 893.5,-89 899.5,-95 899.5,-101 899.5,-101 899.5,-145 899.5,-145 899.5,-151 893.5,-157 887.5,-157\"/>\r\n",
       "<text text-anchor=\"start\" x=\"731.5\" y=\"-141.8\" font-family=\"Helvetica,sans-Serif\" font-size=\"14.00\">education&#45;spending ≤ 0.5</text>\r\n",
       "<text text-anchor=\"start\" x=\"774\" y=\"-126.8\" font-family=\"Helvetica,sans-Serif\" font-size=\"14.00\">gini = 0.375</text>\r\n",
       "<text text-anchor=\"start\" x=\"768\" y=\"-111.8\" font-family=\"Helvetica,sans-Serif\" font-size=\"14.00\">samples = 20</text>\r\n",
       "<text text-anchor=\"start\" x=\"767\" y=\"-96.8\" font-family=\"Helvetica,sans-Serif\" font-size=\"14.00\">value = [15, 5]</text>\r\n",
       "</g>\r\n",
       "<!-- 8&#45;&gt;12 -->\r\n",
       "<g id=\"edge12\" class=\"edge\"><title>8&#45;&gt;12</title>\r\n",
       "<path fill=\"none\" stroke=\"black\" d=\"M708.85,-192.884C723.125,-183.304 738.837,-172.761 753.584,-162.864\"/>\r\n",
       "<polygon fill=\"black\" stroke=\"black\" points=\"755.784,-165.603 762.138,-157.125 751.884,-159.791 755.784,-165.603\"/>\r\n",
       "</g>\r\n",
       "<!-- 10 -->\r\n",
       "<g id=\"node11\" class=\"node\"><title>10</title>\r\n",
       "<path fill=\"#e58139\" stroke=\"black\" d=\"M611,-53C611,-53 530,-53 530,-53 524,-53 518,-47 518,-41 518,-41 518,-12 518,-12 518,-6 524,-0 530,-0 530,-0 611,-0 611,-0 617,-0 623,-6 623,-12 623,-12 623,-41 623,-41 623,-47 617,-53 611,-53\"/>\r\n",
       "<text text-anchor=\"start\" x=\"541.5\" y=\"-37.8\" font-family=\"Helvetica,sans-Serif\" font-size=\"14.00\">gini = 0.0</text>\r\n",
       "<text text-anchor=\"start\" x=\"527\" y=\"-22.8\" font-family=\"Helvetica,sans-Serif\" font-size=\"14.00\">samples = 70</text>\r\n",
       "<text text-anchor=\"start\" x=\"526\" y=\"-7.8\" font-family=\"Helvetica,sans-Serif\" font-size=\"14.00\">value = [70, 0]</text>\r\n",
       "</g>\r\n",
       "<!-- 9&#45;&gt;10 -->\r\n",
       "<g id=\"edge10\" class=\"edge\"><title>9&#45;&gt;10</title>\r\n",
       "<path fill=\"none\" stroke=\"black\" d=\"M606.264,-88.9485C601.206,-80.2579 595.736,-70.8608 590.633,-62.0917\"/>\r\n",
       "<polygon fill=\"black\" stroke=\"black\" points=\"593.534,-60.1189 585.479,-53.2367 587.484,-63.6401 593.534,-60.1189\"/>\r\n",
       "</g>\r\n",
       "<!-- 11 -->\r\n",
       "<g id=\"node12\" class=\"node\"><title>11</title>\r\n",
       "<path fill=\"#e58139\" fill-opacity=\"0.874510\" stroke=\"black\" d=\"M728,-53C728,-53 653,-53 653,-53 647,-53 641,-47 641,-41 641,-41 641,-12 641,-12 641,-6 647,-0 653,-0 653,-0 728,-0 728,-0 734,-0 740,-6 740,-12 740,-12 740,-41 740,-41 740,-47 734,-53 728,-53\"/>\r\n",
       "<text text-anchor=\"start\" x=\"649\" y=\"-37.8\" font-family=\"Helvetica,sans-Serif\" font-size=\"14.00\">gini = 0.1975</text>\r\n",
       "<text text-anchor=\"start\" x=\"651\" y=\"-22.8\" font-family=\"Helvetica,sans-Serif\" font-size=\"14.00\">samples = 9</text>\r\n",
       "<text text-anchor=\"start\" x=\"650\" y=\"-7.8\" font-family=\"Helvetica,sans-Serif\" font-size=\"14.00\">value = [8, 1]</text>\r\n",
       "</g>\r\n",
       "<!-- 9&#45;&gt;11 -->\r\n",
       "<g id=\"edge11\" class=\"edge\"><title>9&#45;&gt;11</title>\r\n",
       "<path fill=\"none\" stroke=\"black\" d=\"M648.234,-88.9485C654.337,-80.0749 660.947,-70.4648 667.087,-61.5388\"/>\r\n",
       "<polygon fill=\"black\" stroke=\"black\" points=\"670.014,-63.4594 672.798,-53.2367 664.247,-59.4924 670.014,-63.4594\"/>\r\n",
       "</g>\r\n",
       "<!-- 13 -->\r\n",
       "<g id=\"node14\" class=\"node\"><title>13</title>\r\n",
       "<path fill=\"#399de5\" fill-opacity=\"0.333333\" stroke=\"black\" d=\"M847,-53C847,-53 774,-53 774,-53 768,-53 762,-47 762,-41 762,-41 762,-12 762,-12 762,-6 768,-0 774,-0 774,-0 847,-0 847,-0 853,-0 859,-6 859,-12 859,-12 859,-41 859,-41 859,-47 853,-53 847,-53\"/>\r\n",
       "<text text-anchor=\"start\" x=\"777\" y=\"-37.8\" font-family=\"Helvetica,sans-Serif\" font-size=\"14.00\">gini = 0.48</text>\r\n",
       "<text text-anchor=\"start\" x=\"771\" y=\"-22.8\" font-family=\"Helvetica,sans-Serif\" font-size=\"14.00\">samples = 5</text>\r\n",
       "<text text-anchor=\"start\" x=\"770\" y=\"-7.8\" font-family=\"Helvetica,sans-Serif\" font-size=\"14.00\">value = [2, 3]</text>\r\n",
       "</g>\r\n",
       "<!-- 12&#45;&gt;13 -->\r\n",
       "<g id=\"edge13\" class=\"edge\"><title>12&#45;&gt;13</title>\r\n",
       "<path fill=\"none\" stroke=\"black\" d=\"M811.15,-88.9485C811.063,-80.7153 810.969,-71.848 810.881,-63.4814\"/>\r\n",
       "<polygon fill=\"black\" stroke=\"black\" points=\"814.378,-63.1991 810.772,-53.2367 807.378,-63.2732 814.378,-63.1991\"/>\r\n",
       "</g>\r\n",
       "<!-- 14 -->\r\n",
       "<g id=\"node15\" class=\"node\"><title>14</title>\r\n",
       "<path fill=\"#e58139\" fill-opacity=\"0.847059\" stroke=\"black\" d=\"M970,-53C970,-53 889,-53 889,-53 883,-53 877,-47 877,-41 877,-41 877,-12 877,-12 877,-6 883,-0 889,-0 889,-0 970,-0 970,-0 976,-0 982,-6 982,-12 982,-12 982,-41 982,-41 982,-47 976,-53 970,-53\"/>\r\n",
       "<text text-anchor=\"start\" x=\"888\" y=\"-37.8\" font-family=\"Helvetica,sans-Serif\" font-size=\"14.00\">gini = 0.2311</text>\r\n",
       "<text text-anchor=\"start\" x=\"886\" y=\"-22.8\" font-family=\"Helvetica,sans-Serif\" font-size=\"14.00\">samples = 15</text>\r\n",
       "<text text-anchor=\"start\" x=\"885\" y=\"-7.8\" font-family=\"Helvetica,sans-Serif\" font-size=\"14.00\">value = [13, 2]</text>\r\n",
       "</g>\r\n",
       "<!-- 12&#45;&gt;14 -->\r\n",
       "<g id=\"edge14\" class=\"edge\"><title>12&#45;&gt;14</title>\r\n",
       "<path fill=\"none\" stroke=\"black\" d=\"M852.771,-88.9485C864.65,-79.4346 877.588,-69.074 889.396,-59.6175\"/>\r\n",
       "<polygon fill=\"black\" stroke=\"black\" points=\"891.746,-62.2196 897.363,-53.2367 887.37,-56.7558 891.746,-62.2196\"/>\r\n",
       "</g>\r\n",
       "</g>\r\n",
       "</svg>\r\n"
      ],
      "text/plain": [
       "<graphviz.files.Source at 0x269e2284518>"
      ]
     },
     "execution_count": 19,
     "metadata": {},
     "output_type": "execute_result"
    }
   ],
   "source": [
    "dot_data = tree.export_graphviz(model1, out_file=None, \n",
    "                         feature_names=list(dataframe3),  \n",
    "                      #   class_names=list(dataframe2['Class'],  \n",
    "                         filled=True, rounded=True,\n",
    "                         special_characters=True)  \n",
    "graph = graphviz.Source(dot_data)  \n",
    "graph"
   ]
  },
  {
   "cell_type": "markdown",
   "metadata": {},
   "source": [
    "Decision tree with depth =4 training data"
   ]
  },
  {
   "cell_type": "code",
   "execution_count": 20,
   "metadata": {
    "collapsed": false
   },
   "outputs": [
    {
     "name": "stdout",
     "output_type": "stream",
     "text": [
      "Accuracy is  97.5945017182\n"
     ]
    }
   ],
   "source": [
    "model1 = DecisionTreeClassifier(max_depth=4)\n",
    "model1.fit(X_train, y_train)\n",
    "print (\"Accuracy is \", model1.score(X_train,y_train)*100)"
   ]
  },
  {
   "cell_type": "markdown",
   "metadata": {},
   "source": [
    "Decision tree with depth =4 test data"
   ]
  },
  {
   "cell_type": "code",
   "execution_count": 21,
   "metadata": {
    "collapsed": false
   },
   "outputs": [
    {
     "name": "stdout",
     "output_type": "stream",
     "text": [
      "Accuracy is  89.5833333333\n"
     ]
    }
   ],
   "source": [
    "print (\"Accuracy is \", model1.score(X_test,y_test)*100)"
   ]
  },
  {
   "cell_type": "markdown",
   "metadata": {},
   "source": [
    "Decision tree with depth =5 training data"
   ]
  },
  {
   "cell_type": "code",
   "execution_count": 22,
   "metadata": {
    "collapsed": false
   },
   "outputs": [
    {
     "name": "stdout",
     "output_type": "stream",
     "text": [
      "Accuracy is  98.2817869416\n"
     ]
    }
   ],
   "source": [
    "model1 = DecisionTreeClassifier(max_depth=5)\n",
    "model1.fit(X_train, y_train)\n",
    "print (\"Accuracy is \", model1.score(X_train,y_train)*100)"
   ]
  },
  {
   "cell_type": "markdown",
   "metadata": {},
   "source": [
    "Decision tree with depth = 5 test data"
   ]
  },
  {
   "cell_type": "code",
   "execution_count": 23,
   "metadata": {
    "collapsed": false
   },
   "outputs": [
    {
     "name": "stdout",
     "output_type": "stream",
     "text": [
      "Accuracy is  90.9722222222\n"
     ]
    }
   ],
   "source": [
    "print (\"Accuracy is \", model1.score(X_test,y_test)*100)"
   ]
  },
  {
   "cell_type": "markdown",
   "metadata": {},
   "source": [
    "Decision tree with depth =6 training data"
   ]
  },
  {
   "cell_type": "code",
   "execution_count": 24,
   "metadata": {
    "collapsed": false
   },
   "outputs": [
    {
     "name": "stdout",
     "output_type": "stream",
     "text": [
      "Accuracy is  98.9690721649\n"
     ]
    }
   ],
   "source": [
    "model1 = DecisionTreeClassifier(max_depth=6)\n",
    "model1.fit(X_train, y_train)\n",
    "print (\"Accuracy is \", model1.score(X_train,y_train)*100)"
   ]
  },
  {
   "cell_type": "markdown",
   "metadata": {},
   "source": [
    "Decision tree with depth =6 test data"
   ]
  },
  {
   "cell_type": "code",
   "execution_count": 25,
   "metadata": {
    "collapsed": false
   },
   "outputs": [
    {
     "name": "stdout",
     "output_type": "stream",
     "text": [
      "Accuracy is  90.2777777778\n"
     ]
    }
   ],
   "source": [
    "\n",
    "print (\"Accuracy is \", model1.score(X_test,y_test)*100)"
   ]
  },
  {
   "cell_type": "markdown",
   "metadata": {},
   "source": [
    "# Section 3: Summary and Observations"
   ]
  },
  {
   "cell_type": "markdown",
   "metadata": {},
   "source": [
    "\t Training data Mean Accuracy\t    Test  data Mean Accuracy\n",
    "    1\t96.56357388\t                    93.75\n",
    "    2\t96.56357388\t                    93.75\n",
    "    3\t96.90721649\t                    93.75\n",
    "    4\t97.59450172\t                    89.5833333\n",
    "    5\t98.28178694\t                    90.97222222\n",
    "    6\t98.96907216\t                    90.27777778\n",
    "   \n",
    "As we can see that the accuracy of the training data is greater than accuracy of the test data, which is completely justified because the model has already seen that data during the fitting of the decision tree classifier model,where as it has never seen the test data before.So the mean accuracy for the training data is greater than mean accuracy of Test data.\n",
    "\n",
    "It is also clear from the above data that, accuracy on the training data is increasing with the increase in depth of the tree.This is happening because with increase in the depth, the tree will try to fit each and every data accurately , by forming classification node for each kind of data. This sometimes leads to overfitting because increasing the depth means increaasing the complexity of the model and when be increase the complexity of the model we are actually increasing the variance and decreasing the biasness. If the variance is higher, the tree will not be able to learn properly and when tested on the unseen data it will give worng classification.\n",
    "\n",
    "In the above scenario, it can be observed that mean accuracy  of the test data first remain constant and then it decreases slightly. This can be explained by, as explained in the previous paragraph and according to Occam's razor , increasing the depth of the tree, or in general term increasing the complexity of the model , leads to overfitting.That's the reason the accuracy remained constant or may sometime increase with increase in depth but with further increment it will start decreasing.\n",
    "\n",
    "Yes,the tree completely makes sense because the features on which it is classifying the \"democrats\" and \" republicans\" were the main reasons of difference between the two parties during 1987 voting.The democarts were having there own sets of policies which were different from the policies adopted republicans.\n",
    "\n",
    "\n",
    "\n",
    "\n"
   ]
  },
  {
   "cell_type": "markdown",
   "metadata": {},
   "source": [
    "![title](img/C:\\Users\\sunvi\\Desktop\\chart.png)"
   ]
  },
  {
   "cell_type": "code",
   "execution_count": null,
   "metadata": {
    "collapsed": true
   },
   "outputs": [],
   "source": []
  }
 ],
 "metadata": {
  "kernelspec": {
   "display_name": "Python 3",
   "language": "python",
   "name": "python3"
  },
  "language_info": {
   "codemirror_mode": {
    "name": "ipython",
    "version": 3
   },
   "file_extension": ".py",
   "mimetype": "text/x-python",
   "name": "python",
   "nbconvert_exporter": "python",
   "pygments_lexer": "ipython3",
   "version": "3.6.0"
  }
 },
 "nbformat": 4,
 "nbformat_minor": 2
}
