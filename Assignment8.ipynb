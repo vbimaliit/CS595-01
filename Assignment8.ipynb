{
 "cells": [
  {
   "cell_type": "markdown",
   "metadata": {},
   "source": [
    "# Congressional Voting Records Data Set\n"
   ]
  },
  {
   "cell_type": "markdown",
   "metadata": {},
   "source": [
    "This data set includes votes for each of the U.S. House of Representatives Congressmen on the 16 key votes identified by the CQA. The CQA lists nine different types of votes: voted for, paired for, and announced for (these three simplified to yea), voted against, paired against, and announced against (these three simplified to nay), voted present, voted present to avoid conflict of interest, and did not vote or otherwise make a position known (these three simplified to an unknown disposition).\n",
    "\n",
    "Attribute Information:\n",
    "Class Name: 2 (democrat, republican) \n",
    "\n",
    "handicapped-infants: 2 (y,n) \n",
    "\n",
    "water-project-cost-sharing: 2 (y,n) \n",
    "\n",
    "adoption-of-the-budget-resolution: 2 (y,n) \n",
    "\n",
    "physician-fee-freeze: 2 (y,n) \n",
    "\n",
    "el-salvador-aid: 2 (y,n) \n",
    "\n",
    "religious-groups-in-schools: 2 (y,n) \n",
    "\n",
    "anti-satellite-test-ban: 2 (y,n) \n",
    "\n",
    "aid-to-nicaraguan-contras: 2 (y,n) \n",
    "\n",
    "mx-missile: 2 (y,n) \n",
    "\n",
    "immigration: 2 (y,n) \n",
    "\n",
    "synfuels-corporation-cutback: 2 (y,n) \n",
    "\n",
    "education-spending: 2 (y,n) \n",
    "\n",
    "superfund-right-to-sue: 2 (y,n) \n",
    "\n",
    "crime: 2 (y,n) \n",
    "\n",
    "duty-free-exports: 2 (y,n) \n",
    "\n",
    "export-administration-act-south-africa: 2 (y,n)\n",
    "\n",
    "URL:https://archive.ics.uci.edu/ml/datasets/congressional+voting+records\n",
    "\n"
   ]
  },
  {
   "cell_type": "markdown",
   "metadata": {},
   "source": [
    "# Section 2: Loading the dataset and preprocessing of data"
   ]
  },
  {
   "cell_type": "code",
   "execution_count": 1,
   "metadata": {
    "collapsed": true
   },
   "outputs": [],
   "source": [
    "import pandas as pd\n",
    "import numpy as np\n",
    "dataframe1 = pd.read_csv(\"E:\\Tranparent machine learning\\CongressDataset.csv\")"
   ]
  },
  {
   "cell_type": "markdown",
   "metadata": {},
   "source": [
    "Replacing the missing value \"?\" with NaN and then converting the String values into Boolean( as Scikit Learn decision tree classifier works only with numeric or boolean values) and after that replacing all the NaN values with mode of that particular column( We can also drop the rows having NaN values but that may lead to potential data loss)."
   ]
  },
  {
   "cell_type": "code",
   "execution_count": 26,
   "metadata": {
    "collapsed": false
   },
   "outputs": [],
   "source": [
    "dataframe2 = dataframe1.replace('?',np.NaN)\n",
    "for column in dataframe2.columns:\n",
    "    dataframe2[column].fillna(dataframe2[column].mode()[0], inplace=True)"
   ]
  },
  {
   "cell_type": "markdown",
   "metadata": {},
   "source": [
    "Converting all the feautres into bianry Values"
   ]
  },
  {
   "cell_type": "code",
   "execution_count": 27,
   "metadata": {
    "collapsed": true
   },
   "outputs": [],
   "source": [
    "dataframe2['Class'] = dataframe2['Class'].map(lambda x : \"y\" if x == \"democrat\" else \"n\")\n",
    "dataframe2 = dataframe2.applymap(lambda x:1 if x == \"y\" else 0)"
   ]
  },
  {
   "cell_type": "markdown",
   "metadata": {},
   "source": [
    "Making a copy of dataset and then spiliting it into training and test data"
   ]
  },
  {
   "cell_type": "code",
   "execution_count": 28,
   "metadata": {
    "collapsed": true
   },
   "outputs": [],
   "source": [
    "dataframe3 = dataframe2.copy(deep = True)"
   ]
  },
  {
   "cell_type": "markdown",
   "metadata": {},
   "source": [
    "Removing the column which is to predicted from the dataset"
   ]
  },
  {
   "cell_type": "code",
   "execution_count": 29,
   "metadata": {
    "collapsed": true
   },
   "outputs": [],
   "source": [
    "del dataframe3['Class']"
   ]
  },
  {
   "cell_type": "markdown",
   "metadata": {},
   "source": [
    "Spilting dataset into training and test data"
   ]
  },
  {
   "cell_type": "code",
   "execution_count": 51,
   "metadata": {
    "collapsed": false
   },
   "outputs": [],
   "source": [
    "from sklearn.cross_validation import train_test_split\n",
    "X_train, X_test, y_train, y_test = train_test_split( dataframe3, dataframe2['Class'], test_size = 0.33)"
   ]
  },
  {
   "cell_type": "code",
   "execution_count": 52,
   "metadata": {
    "collapsed": false
   },
   "outputs": [
    {
     "data": {
      "text/plain": [
       "BernoulliNB(alpha=1.0, binarize=0.0, class_prior=None, fit_prior=True)"
      ]
     },
     "execution_count": 52,
     "metadata": {},
     "output_type": "execute_result"
    }
   ],
   "source": [
    "from sklearn.naive_bayes import BernoulliNB\n",
    "clf = BernoulliNB()\n",
    "clf.fit(X_train,y_train)\n"
   ]
  },
  {
   "cell_type": "markdown",
   "metadata": {},
   "source": [
    "Now using the scikit learn we will find the log_probability of all the instance present in the test set"
   ]
  },
  {
   "cell_type": "code",
   "execution_count": 53,
   "metadata": {
    "collapsed": false
   },
   "outputs": [],
   "source": [
    "prob_per_instance = clf.predict_proba(X_test)"
   ]
  },
  {
   "cell_type": "markdown",
   "metadata": {
    "collapsed": true
   },
   "source": [
    "Finding the log probaility of each feature in dataset using feature_log_prob which will give the value P(X1=1|C=0),(P(X2=1|C=0) and P(X1=1|C=1),(P(X2=1|C=1) "
   ]
  },
  {
   "cell_type": "code",
   "execution_count": 54,
   "metadata": {
    "collapsed": false
   },
   "outputs": [
    {
     "data": {
      "text/plain": [
       "array([[-1.7227666 , -0.5441116 , -1.77405989, -0.04567004, -0.06453852,\n",
       "        -0.10337835, -1.31730149, -1.54044504, -1.88528553, -0.55961579,\n",
       "        -1.94591015, -0.24116206, -0.16462198, -0.02715099, -2.3206036 ,\n",
       "        -0.40101076],\n",
       "       [-0.5555258 , -0.62451867, -0.09749836, -3.263576  , -1.35933855,\n",
       "        -0.70967648, -0.23275241, -0.18560563, -0.2536591 , -0.74357803,\n",
       "        -0.7668349 , -2.1184437 , -1.16643489, -0.98997845, -0.49995595,\n",
       "        -0.04470018]])"
      ]
     },
     "execution_count": 54,
     "metadata": {},
     "output_type": "execute_result"
    }
   ],
   "source": [
    "clf.feature_log_prob_"
   ]
  },
  {
   "cell_type": "code",
   "execution_count": 55,
   "metadata": {
    "collapsed": false
   },
   "outputs": [],
   "source": [
    "class_0_X_1, class_1_X_1 = clf.feature_log_prob_"
   ]
  },
  {
   "cell_type": "code",
   "execution_count": 56,
   "metadata": {
    "collapsed": false
   },
   "outputs": [],
   "source": [
    "class_0_X_1 = np.exp(class_0_X_1)\n",
    "class_1_X_1 = np.exp(class_1_X_1)"
   ]
  },
  {
   "cell_type": "markdown",
   "metadata": {},
   "source": [
    "Now taking the probabiltiy P(X1=0|C=0),(P(X2=0|C=0) and P(X1=0|C=1),(P(X2=0|C=1)"
   ]
  },
  {
   "cell_type": "code",
   "execution_count": 57,
   "metadata": {
    "collapsed": false
   },
   "outputs": [],
   "source": [
    "class_0_X_0 = 1 - class_0_X_1\n",
    "class_1_X_0 = 1- class_1_X_1 "
   ]
  },
  {
   "cell_type": "markdown",
   "metadata": {},
   "source": [
    "Calculating the classs probabilities"
   ]
  },
  {
   "cell_type": "code",
   "execution_count": 69,
   "metadata": {
    "collapsed": false
   },
   "outputs": [],
   "source": [
    "a,b = (clf.class_log_prior_)\n",
    "class_prior = b-a"
   ]
  },
  {
   "cell_type": "markdown",
   "metadata": {},
   "source": [
    "Calculating the log probabilities"
   ]
  },
  {
   "cell_type": "code",
   "execution_count": 59,
   "metadata": {
    "collapsed": false
   },
   "outputs": [],
   "source": [
    "log_prob_X_0_C_0_C_1 = np.log(class_1_X_0/class_0_X_0)\n",
    "log_prob_X_1_C_0_C_1 = np.log(class_1_X_1/class_0_X_1)"
   ]
  },
  {
   "cell_type": "code",
   "execution_count": 60,
   "metadata": {
    "collapsed": false
   },
   "outputs": [],
   "source": [
    "def log_evidence_calulator(Object):\n",
    "    \n",
    "    positive_log_evidence = []\n",
    "    negative_log_evidence = []\n",
    "    for i,value in enumerate(Object):\n",
    "        if value > 0:\n",
    "            if log_prob_X_1_C_0_C_1[i] > 0:\n",
    "                positive_log_evidence.append(log_prob_X_1_C_0_C_1[i])\n",
    "            else:\n",
    "                negative_log_evidence.append(log_prob_X_1_C_0_C_1[i])    \n",
    "        else:\n",
    "            if log_prob_X_0_C_0_C_1[i] > 0:\n",
    "                positive_log_evidence.append(log_prob_X_0_C_0_C_1[i])\n",
    "            else:\n",
    "                negative_log_evidence.append(log_prob_X_0_C_0_C_1[i])\n",
    "    return(positive_log_evidence,negative_log_evidence)\n",
    "\n",
    "def most_positive_feature(Object,positive_evidence,negative_evidence):\n",
    "    list6 = dataframe3.columns\n",
    "    log_evidence_per_row = []\n",
    "    overall_log_evidence = []\n",
    "    most_negative_feature_name = []\n",
    "    for i,value in enumerate(Object):\n",
    "        if value > 0:\n",
    "            if log_prob_X_1_C_0_C_1[i] > 0:\n",
    "                log_evidence_per_row.append(log_prob_X_1_C_0_C_1[i])\n",
    "            else:\n",
    "                log_evidence_per_row.append(log_prob_X_1_C_0_C_1[i])    \n",
    "        else:\n",
    "            if log_prob_X_0_C_0_C_1[i] > 0:\n",
    "                log_evidence_per_row.append(log_prob_X_0_C_0_C_1[i])\n",
    "            else:\n",
    "                log_evidence_per_row.append(log_prob_X_0_C_0_C_1[i])\n",
    "    overall_log_evidence.append(log_evidence_per_row)\n",
    "    dataframe6 = pd.DataFrame.from_records(overall_log_evidence,columns=list6)\n",
    "    negative_feature_list = []\n",
    "    last_row = dataframe6.iloc[0,:]\n",
    "    last_row.argsort()\n",
    "    ascending_sort = dataframe6[last_row.argsort]\n",
    "    \n",
    "    length_negative = len(negative_evidence)\n",
    "    if (length_negative > 3):\n",
    "        length = 3\n",
    "    else:\n",
    "        length = len(negative_evidence)\n",
    "    j= 0;\n",
    "    negative_feature = ascending_sort.iloc[:,0:length]\n",
    "    if(length > 0):\n",
    "        for i in negative_feature:\n",
    "            j = j+1\n",
    "            if (j <= 3):\n",
    "                negative_feature_list.append(i)\n",
    "            else:\n",
    "                break\n",
    "    length =0        \n",
    "    length_postive = len(positive_evidence)    \n",
    "    if (length_postive > 3):\n",
    "        length = 3\n",
    "    else:\n",
    "        length = len(positive_evidence)\n",
    "        \n",
    "    positive_feature = ascending_sort[ascending_sort.columns[-length:]]\n",
    "    \n",
    "    l= 0\n",
    "    positive_feature_list = []\n",
    "    if length > 0:\n",
    "        for k in positive_feature:\n",
    "            l= l+1\n",
    "            if( l<= 3):\n",
    "                positive_feature_list.append(k)\n",
    "            else:\n",
    "                break\n",
    "        \n",
    "    return (positive_feature_list,negative_feature_list)    \n",
    "\n",
    "    \n",
    "    \n",
    "    \n",
    "    \n",
    "        \n",
    "    \n",
    "\n",
    "        \n",
    "    "
   ]
  },
  {
   "cell_type": "markdown",
   "metadata": {},
   "source": [
    "# Most positive object with respect to probabilities"
   ]
  },
  {
   "cell_type": "markdown",
   "metadata": {},
   "source": [
    "Most positive object considering 1= positive and 0 = negative"
   ]
  },
  {
   "cell_type": "code",
   "execution_count": 70,
   "metadata": {
    "collapsed": false,
    "scrolled": true
   },
   "outputs": [
    {
     "name": "stdout",
     "output_type": "stream",
     "text": [
      "The most positive object:\n",
      " handicapped-infants                       1\n",
      "water-project-cost-sharing                0\n",
      "adoption-of-the-budget-resolution         1\n",
      "physician-fee-freeze                      0\n",
      "el-salvador-aid                           0\n",
      "religious-groups-in-schools               0\n",
      "anti-satellite-test-ban                   1\n",
      "aid-to-nicaraguan-contras                 1\n",
      "mx-missile                                1\n",
      "immigration                               0\n",
      "synfuels-corporation-cutback              1\n",
      "education-spending                        0\n",
      "superfund-right-to-sue                    0\n",
      "crime                                     0\n",
      "duty-free-exports                         1\n",
      "export-administration-act-south-africa    1\n",
      "Name: 116, dtype: int64\n",
      "\n",
      "total Postive log evidence: 24.3418539467\n",
      "\n",
      "\n",
      "total Negative log evidence: 0\n",
      "\n",
      "\n",
      "Probability distribution: [  2.68205174e-11   1.00000000e+00]\n",
      "\n",
      "\n",
      "Most Positive feature ['el-salvador-aid', 'physician-fee-freeze', 'crime']\n",
      "\n",
      "\n",
      "Most Negative feature []\n"
     ]
    }
   ],
   "source": [
    "print (\"The most positive object:\\n\",X_test.iloc[(np.argmax(prob_per_instance[:,1]))])\n",
    "pos_log_evidence, neg_log_evidence = log_evidence_calulator(X_test.iloc[(np.argmax(prob_per_instance[:,1]))])\n",
    "total_pos_log_evidence = 0;\n",
    "total_neg_log_evidence = 0;\n",
    "for i in pos_log_evidence:\n",
    "    total_pos_log_evidence = total_pos_log_evidence + i\n",
    "for j in neg_log_evidence:\n",
    "    total_neg_log_evidence = total_neg_log_evidence + j\n",
    "index = np.argmax(prob_per_instance[:,1])    \n",
    "\n",
    "print(\"\\ntotal Postive log evidence:\", total_pos_log_evidence + class_prior)\n",
    "print(\"\\n\\ntotal Negative log evidence:\", total_neg_log_evidence)\n",
    "print(\"\\n\\nProbability distribution:\",prob_per_instance[index] )\n",
    "pos_feature,neg_feature = most_positive_feature(X_test.iloc[(np.argmax(prob_per_instance[:,1]))],pos_log_evidence,neg_log_evidence)\n",
    "print(\"\\n\\nMost Positive feature\",pos_feature)\n",
    "print(\"\\n\\nMost Negative feature\",neg_feature)"
   ]
  },
  {
   "cell_type": "markdown",
   "metadata": {},
   "source": [
    "# Most negative object with respect to probabilities"
   ]
  },
  {
   "cell_type": "code",
   "execution_count": 71,
   "metadata": {
    "collapsed": false
   },
   "outputs": [
    {
     "name": "stdout",
     "output_type": "stream",
     "text": [
      "The most negative object:\n",
      " handicapped-infants                       0\n",
      "water-project-cost-sharing                1\n",
      "adoption-of-the-budget-resolution         0\n",
      "physician-fee-freeze                      1\n",
      "el-salvador-aid                           1\n",
      "religious-groups-in-schools               1\n",
      "anti-satellite-test-ban                   0\n",
      "aid-to-nicaraguan-contras                 0\n",
      "mx-missile                                0\n",
      "immigration                               1\n",
      "synfuels-corporation-cutback              0\n",
      "education-spending                        1\n",
      "superfund-right-to-sue                    1\n",
      "crime                                     1\n",
      "duty-free-exports                         0\n",
      "export-administration-act-south-africa    0\n",
      "Name: 330, dtype: int64\n",
      "\n",
      "\n",
      "total Postive log evidence: 0.498016665473\n",
      "\n",
      "\n",
      "total Negative log evidence: -19.5197586064\n",
      "\n",
      "\n",
      "Probability distribution: [  9.99999995e-01   5.48229545e-09]\n",
      "\n",
      "\n",
      "Most Positive feature []\n",
      "\n",
      "\n",
      "Most Negative feature ['physician-fee-freeze', 'adoption-of-the-budget-resolution', 'export-administration-act-south-africa']\n"
     ]
    }
   ],
   "source": [
    "print (\"The most negative object:\\n\",X_test.iloc[(np.argmax(prob_per_instance[:,0]))])\n",
    "pos_log_evidence, neg_log_evidence = log_evidence_calulator(X_test.iloc[(np.argmax(prob_per_instance[:,0]))])\n",
    "total_pos_log_evidence = 0;\n",
    "total_neg_log_evidence = 0;\n",
    "for i in pos_log_evidence:\n",
    "    total_pos_log_evidence = total_pos_log_evidence + i\n",
    "for j in neg_log_evidence:\n",
    "    total_neg_log_evidence = total_neg_log_evidence + j\n",
    "index = np.argmax(prob_per_instance[:,0])    \n",
    "\n",
    "print(\"\\n\\ntotal Postive log evidence:\", total_pos_log_evidence + class_prior)\n",
    "print(\"\\n\\ntotal Negative log evidence:\", total_neg_log_evidence)\n",
    "print(\"\\n\\nProbability distribution:\",prob_per_instance[index] )\n",
    "pos_feature,neg_feature = most_positive_feature((X_test.iloc[(np.argmax(prob_per_instance[:,0]))]),pos_log_evidence,neg_log_evidence)\n",
    "print(\"\\n\\nMost Positive feature\",pos_feature)\n",
    "print(\"\\n\\nMost Negative feature\",neg_feature)"
   ]
  },
  {
   "cell_type": "markdown",
   "metadata": {},
   "source": [
    "Finding the log probaility of each feature in dataset using feature_log_prob which will give the value P(X1=1|c=0),(P(X2=1|c=0) and P(X1=1|c=1),(P(X2=1|c=1) "
   ]
  },
  {
   "cell_type": "markdown",
   "metadata": {},
   "source": [
    "# The Object having the Highest Positive evidence\n"
   ]
  },
  {
   "cell_type": "code",
   "execution_count": 72,
   "metadata": {
    "collapsed": false
   },
   "outputs": [
    {
     "name": "stdout",
     "output_type": "stream",
     "text": [
      "n\n",
      "\\The object having highest evidence handicapped-infants                       1\n",
      "water-project-cost-sharing                0\n",
      "adoption-of-the-budget-resolution         1\n",
      "physician-fee-freeze                      0\n",
      "el-salvador-aid                           0\n",
      "religious-groups-in-schools               0\n",
      "anti-satellite-test-ban                   1\n",
      "aid-to-nicaraguan-contras                 1\n",
      "mx-missile                                1\n",
      "immigration                               0\n",
      "synfuels-corporation-cutback              1\n",
      "education-spending                        0\n",
      "superfund-right-to-sue                    0\n",
      "crime                                     0\n",
      "duty-free-exports                         1\n",
      "export-administration-act-south-africa    1\n",
      "Name: 116, dtype: int64\n",
      "\n",
      "\n",
      "The total log positive evidence: 24.3418539467\n",
      "\n",
      "\n",
      "The total log negaitve evidence: 0.0\n",
      "\n",
      "\n",
      "The probability distribution [  2.68205174e-11   1.00000000e+00]\n",
      "\n",
      "\n",
      "Most Positive feature ['el-salvador-aid', 'physician-fee-freeze', 'crime']\n",
      "\n",
      "\n",
      "Most Negative feature []\n"
     ]
    }
   ],
   "source": [
    "positive_log_evidence_list = []\n",
    "negative_log_evidence_list = []\n",
    "for i in range(0,len(X_test)):\n",
    "    \n",
    "    total_pos_log_evidence = 0;\n",
    "    total_neg_log_evidence = 0;\n",
    "    pos_log_evidence, neg_log_evidence = log_evidence_calulator(X_test.iloc[i])\n",
    "    for i in pos_log_evidence:\n",
    "        total_pos_log_evidence = total_pos_log_evidence + i\n",
    "    for j in neg_log_evidence:\n",
    "        total_neg_log_evidence = total_neg_log_evidence + j\n",
    "    positive_log_evidence_list.append(total_pos_log_evidence)\n",
    "    negative_log_evidence_list.append(total_neg_log_evidence)\n",
    "\n",
    "positive_log_evidence = np.array(positive_log_evidence_list)\n",
    "negative_log_evidence = np.array(negative_log_evidence_list)\n",
    "print(\"n\\n\\The object having highest evidence\", X_test.iloc[np.argmax(positive_log_evidence)])\n",
    "print(\"\\n\\nThe total log positive evidence:\",np.amax(positive_log_evidence) +class_prior )\n",
    "print(\"\\n\\nThe total log negaitve evidence:\", negative_log_evidence[np.argmax(positive_log_evidence)])\n",
    "print(\"\\n\\nThe probability distribution\",prob_per_instance[np.argmax(positive_log_evidence)])\n",
    "pos_log_evidence, neg_log_evidence = log_evidence_calulator(X_test.iloc[np.argmax(positive_log_evidence)])\n",
    "\n",
    "\n",
    "\n",
    "pos_feature,neg_feature = most_positive_feature((X_test.iloc[np.argmax(positive_log_evidence)]),pos_log_evidence,neg_log_evidence)\n",
    "print(\"\\n\\nMost Positive feature\",pos_feature)\n",
    "print(\"\\n\\nMost Negative feature\",neg_feature)\n",
    "    "
   ]
  },
  {
   "cell_type": "markdown",
   "metadata": {},
   "source": [
    "# The object that has the largest (in magnitude) negative evidence.\n"
   ]
  },
  {
   "cell_type": "code",
   "execution_count": 73,
   "metadata": {
    "collapsed": false
   },
   "outputs": [
    {
     "name": "stdout",
     "output_type": "stream",
     "text": [
      "\n",
      "\n",
      "The object having highest evidence\n",
      " handicapped-infants                       0\n",
      "water-project-cost-sharing                1\n",
      "adoption-of-the-budget-resolution         0\n",
      "physician-fee-freeze                      1\n",
      "el-salvador-aid                           1\n",
      "religious-groups-in-schools               1\n",
      "anti-satellite-test-ban                   0\n",
      "aid-to-nicaraguan-contras                 0\n",
      "mx-missile                                0\n",
      "immigration                               1\n",
      "synfuels-corporation-cutback              0\n",
      "education-spending                        1\n",
      "superfund-right-to-sue                    1\n",
      "crime                                     1\n",
      "duty-free-exports                         0\n",
      "export-administration-act-south-africa    0\n",
      "Name: 330, dtype: int64\n",
      "\n",
      "\n",
      "The total log positive evidence: 0.498016665473\n",
      "\n",
      "\n",
      "The total log negaitve evidence: 19.5197586064\n",
      "\n",
      "\n",
      "The probability distribution [  9.99999995e-01   5.48229545e-09]\n",
      "\n",
      "\n",
      "Most Positive feature []\n",
      "\n",
      "\n",
      "Most Negative feature ['physician-fee-freeze', 'adoption-of-the-budget-resolution', 'export-administration-act-south-africa']\n"
     ]
    }
   ],
   "source": [
    "positive_log_evidence_list = []\n",
    "negative_log_evidence_list = []\n",
    "total_log_evidence_list = []\n",
    "total_log_evidence_per_row = []\n",
    "for i in range(0,len(X_test)):\n",
    "    \n",
    "    total_pos_log_evidence = 0;\n",
    "    total_neg_log_evidence = 0;\n",
    "    pos_log_evidence, neg_log_evidence = log_evidence_calulator(X_test.iloc[i])\n",
    "    for i in pos_log_evidence:\n",
    "        \n",
    "        total_pos_log_evidence = total_pos_log_evidence + i\n",
    "    for j in neg_log_evidence:\n",
    "        total_neg_log_evidence = total_neg_log_evidence + j\n",
    "    positive_log_evidence_list.append(total_pos_log_evidence)\n",
    "    negative_log_evidence_list.append(total_neg_log_evidence)\n",
    "\n",
    "positive_log_evidence = np.array(positive_log_evidence_list)\n",
    "negative_log_evidence = np.array(negative_log_evidence_list)\n",
    "print(\"\\n\\nThe object having highest evidence\\n\", X_test.iloc[np.argmax(np.absolute(negative_log_evidence))])\n",
    "print(\"\\n\\nThe total log positive evidence:\",positive_log_evidence[np.argmax(np.absolute(negative_log_evidence))]+class_prior)\n",
    "print(\"\\n\\nThe total log negaitve evidence:\", np.amax(np.absolute(negative_log_evidence)) )\n",
    "print(\"\\n\\nThe probability distribution\",prob_per_instance[np.argmax(np.absolute(negative_log_evidence))])\n",
    "\n",
    "pos_log_evidence, neg_log_evidence = log_evidence_calulator(X_test.iloc[np.argmax(np.absolute(negative_log_evidence))])\n",
    "\n",
    "pos_feature,neg_feature = most_positive_feature((X_test.iloc[np.argmax(np.absolute(negative_log_evidence))]),pos_log_evidence,neg_log_evidence)\n",
    "print(\"\\n\\nMost Positive feature\",pos_feature)\n",
    "print(\"\\n\\nMost Negative feature\",neg_feature)\n"
   ]
  },
  {
   "cell_type": "markdown",
   "metadata": {},
   "source": [
    "# The most uncertain object (the probabilities are closest to 0.5)\n"
   ]
  },
  {
   "cell_type": "code",
   "execution_count": 74,
   "metadata": {
    "collapsed": false
   },
   "outputs": [
    {
     "name": "stdout",
     "output_type": "stream",
     "text": [
      "The most uncertain object \n",
      " handicapped-infants                       0\n",
      "water-project-cost-sharing                1\n",
      "adoption-of-the-budget-resolution         1\n",
      "physician-fee-freeze                      0\n",
      "el-salvador-aid                           1\n",
      "religious-groups-in-schools               1\n",
      "anti-satellite-test-ban                   0\n",
      "aid-to-nicaraguan-contras                 1\n",
      "mx-missile                                0\n",
      "immigration                               1\n",
      "synfuels-corporation-cutback              0\n",
      "education-spending                        0\n",
      "superfund-right-to-sue                    1\n",
      "crime                                     1\n",
      "duty-free-exports                         0\n",
      "export-administration-act-south-africa    1\n",
      "Name: 373, dtype: int64\n",
      "\n",
      "\n",
      "total Postive log evidence: 8.36815023506\n",
      "\n",
      "\n",
      "total Negative log evidence: -8.67739702213\n",
      "\n",
      "\n",
      "Probability distribution: [ 0.5767014  0.4232986]\n",
      "\n",
      "\n",
      "Most Positive feature ['education-spending', 'adoption-of-the-budget-resolution', 'physician-fee-freeze']\n",
      "\n",
      "\n",
      "Most Negative feature ['mx-missile', 'el-salvador-aid', 'anti-satellite-test-ban']\n"
     ]
    }
   ],
   "source": [
    "most_uncertain_prob = prob_per_instance[:,0] - prob_per_instance[:,1]\n",
    "#np.min(np.absolute(most_uncertain_prob))\n",
    "print(\"The most uncertain object \\n\", X_test.iloc[np.argmin(np.absolute(most_uncertain_prob))])\n",
    "\n",
    "pos_log_evidence, neg_log_evidence = log_evidence_calulator(X_test.iloc[np.argmin(np.absolute(most_uncertain_prob))])\n",
    "total_pos_log_evidence = 0;\n",
    "total_neg_log_evidence = 0;\n",
    "for i in pos_log_evidence:\n",
    "    total_pos_log_evidence = total_pos_log_evidence + i\n",
    "for j in neg_log_evidence:\n",
    "    total_neg_log_evidence = total_neg_log_evidence + j\n",
    "index = np.argmin(np.absolute(most_uncertain_prob))\n",
    "\n",
    "print(\"\\n\\ntotal Postive log evidence:\", total_pos_log_evidence + class_prior)\n",
    "print(\"\\n\\ntotal Negative log evidence:\", total_neg_log_evidence)\n",
    "print(\"\\n\\nProbability distribution:\",prob_per_instance[index] )\n",
    "pos_feature,neg_feature = most_positive_feature((X_test.iloc[np.argmin(np.absolute(most_uncertain_prob))]),pos_log_evidence,neg_log_evidence)\n",
    "print(\"\\n\\nMost Positive feature\",pos_feature)\n",
    "print(\"\\n\\nMost Negative feature\",neg_feature)\n"
   ]
  },
  {
   "cell_type": "code",
   "execution_count": null,
   "metadata": {
    "collapsed": true
   },
   "outputs": [],
   "source": []
  }
 ],
 "metadata": {
  "kernelspec": {
   "display_name": "Python 3",
   "language": "python",
   "name": "python3"
  },
  "language_info": {
   "codemirror_mode": {
    "name": "ipython",
    "version": 3
   },
   "file_extension": ".py",
   "mimetype": "text/x-python",
   "name": "python",
   "nbconvert_exporter": "python",
   "pygments_lexer": "ipython3",
   "version": "3.6.2"
  }
 },
 "nbformat": 4,
 "nbformat_minor": 2
}
